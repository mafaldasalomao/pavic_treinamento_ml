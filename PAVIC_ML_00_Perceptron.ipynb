{
  "nbformat": 4,
  "nbformat_minor": 0,
  "metadata": {
    "colab": {
      "provenance": [],
      "authorship_tag": "ABX9TyP1rHMNMpSkPTRffvph3xTP",
      "include_colab_link": true
    },
    "kernelspec": {
      "name": "python3",
      "display_name": "Python 3"
    },
    "language_info": {
      "name": "python"
    }
  },
  "cells": [
    {
      "cell_type": "markdown",
      "metadata": {
        "id": "view-in-github",
        "colab_type": "text"
      },
      "source": [
        "<a href=\"https://colab.research.google.com/github/mafaldasalomao/paciv_treinamento_ml/blob/main/PAVIC_ML_00_Perceptron.ipynb\" target=\"_parent\"><img src=\"https://colab.research.google.com/assets/colab-badge.svg\" alt=\"Open In Colab\"/></a>"
      ]
    },
    {
      "cell_type": "code",
      "source": [
        "import numpy as np\n",
        "import pandas as pd\n",
        "import matplotlib.pyplot as plt\n",
        "from random import random\n",
        "from sklearn.linear_model import LinearRegression\n",
        "from sklearn.preprocessing import MinMaxScaler\n",
        "from sklearn.datasets import make_blobs\n",
        "\n",
        "%matplotlib inline"
      ],
      "metadata": {
        "id": "ppwVt8hLUoZq"
      },
      "execution_count": null,
      "outputs": []
    },
    {
      "cell_type": "code",
      "execution_count": null,
      "metadata": {
        "id": "1X_BQV1RTReI"
      },
      "outputs": [],
      "source": [
        "#Algoritimo perceptron\n",
        "\n",
        "# Inicializar o 'w' e o 'b'\n",
        "# Para cada amostra\n",
        "  # calcular o y_pred = f(E xi*wi + b)onde f é  função de ativação step, para regressão trocamos para linear\n",
        "  # calcular o erro erro = y - y_pred\n",
        "  # atualizar os pesos wi = wi + lambda * erro * xi\n",
        "  # atualizar o bias bi = bi + lambda*erro\n",
        "# repetir até encontrar o menor erro"
      ]
    },
    {
      "cell_type": "markdown",
      "source": [
        "# Classificação"
      ],
      "metadata": {
        "id": "X0wtpAKYUa6-"
      }
    },
    {
      "cell_type": "markdown",
      "source": [
        "## Porta OR ou AND"
      ],
      "metadata": {
        "id": "FUBaa87EUfGd"
      }
    },
    {
      "cell_type": "code",
      "source": [
        "x = np.array([[0, 0], [0, 1], [1, 0], [1, 1]])\n",
        "#y = np.array([0, 1, 1, 1]) # porta OR\n",
        "y = np.array([0, 0, 0, 1]).T # porta AND\n",
        "\n",
        "print(x.shape, y.shape)"
      ],
      "metadata": {
        "colab": {
          "base_uri": "https://localhost:8080/"
        },
        "id": "55RyBl-KUmtg",
        "outputId": "3f1cd6c0-33af-455d-e5a4-39d36efe755e"
      },
      "execution_count": null,
      "outputs": [
        {
          "output_type": "stream",
          "name": "stdout",
          "text": [
            "(4, 2) (4,)\n"
          ]
        }
      ]
    },
    {
      "cell_type": "code",
      "source": [
        "D = x.shape[1] # qtd entradas\n",
        "w = 2*np.random.random(D)-1 #inicalizar pesos random\n",
        "b = 2*np.random.random()-1 # inicializar bias random\n",
        "w, b"
      ],
      "metadata": {
        "colab": {
          "base_uri": "https://localhost:8080/"
        },
        "id": "4QN4wPX0VAAb",
        "outputId": "f0072658-eb50-4d78-8953-6b387e418449"
      },
      "execution_count": null,
      "outputs": [
        {
          "output_type": "execute_result",
          "data": {
            "text/plain": [
              "(array([1.91493732, 1.91266439]), -0.9598145986073805)"
            ]
          },
          "metadata": {},
          "execution_count": 31
        }
      ]
    },
    {
      "cell_type": "code",
      "source": [
        "\n",
        "for step in range(100):\n",
        "  learning_rate = 1.0\n",
        "  cost = 0\n",
        "  for x_n, y_n in zip (x, y):\n",
        "    y_pred = np.dot(x_n, w) + b\n",
        "    y_pred = np.where(y_pred > 0, 1, 0)\n",
        "    error = y_n - y_pred\n",
        "    w = w + learning_rate*np.dot(error, x_n)\n",
        "    b = b + learning_rate*error\n",
        "    cost += error**2 # o perceptron nao necessita do custo\n",
        "  if step % 10 ==0:\n",
        "    print(\"step {0}: {1}\".format(step, cost))\n",
        "print('w', w)\n",
        "print('b', b)\n",
        "print('y_pred: {0}'.format(np.dot(x, np.array(w))+b))"
      ],
      "metadata": {
        "colab": {
          "base_uri": "https://localhost:8080/"
        },
        "id": "tlHkYZ2LV_du",
        "outputId": "469d2e46-986d-4cfd-baf8-beb9b0c98077"
      },
      "execution_count": null,
      "outputs": [
        {
          "output_type": "stream",
          "name": "stdout",
          "text": [
            "step 0: 1\n",
            "step 10: 0\n",
            "step 20: 0\n",
            "step 30: 0\n",
            "step 40: 0\n",
            "step 50: 0\n",
            "step 60: 0\n",
            "step 70: 0\n",
            "step 80: 0\n",
            "step 90: 0\n",
            "w [1.91493732 0.91266439]\n",
            "b -1.9598145986073805\n",
            "y_pred: [-1.9598146  -1.04715021 -0.04487728  0.86778711]\n"
          ]
        }
      ]
    },
    {
      "cell_type": "code",
      "source": [
        "#podemos aplicar esses pesos no notebook de intuição"
      ],
      "metadata": {
        "id": "eSKk_QEGY07-"
      },
      "execution_count": null,
      "outputs": []
    },
    {
      "cell_type": "markdown",
      "source": [
        "## Exercício de Classificação\n"
      ],
      "metadata": {
        "id": "dCoqjMbJbNa_"
      }
    },
    {
      "cell_type": "code",
      "source": [
        "x, y = make_blobs(n_samples=100, n_features=2, centers=2, random_state=1234)\n",
        "\n",
        "print(x.shape, y.shape)\n",
        "plt.scatter(x[:,0], x[:,1], c=y.ravel(), cmap='bwr')"
      ],
      "metadata": {
        "colab": {
          "base_uri": "https://localhost:8080/",
          "height": 300
        },
        "id": "AUOmxveJY6mE",
        "outputId": "de5bb8fd-309f-4080-f170-daf7d38ca74c"
      },
      "execution_count": null,
      "outputs": [
        {
          "output_type": "stream",
          "name": "stdout",
          "text": [
            "(100, 2) (100,)\n"
          ]
        },
        {
          "output_type": "execute_result",
          "data": {
            "text/plain": [
              "<matplotlib.collections.PathCollection at 0x7f113f31b1f0>"
            ]
          },
          "metadata": {},
          "execution_count": 36
        },
        {
          "output_type": "display_data",
          "data": {
            "text/plain": [
              "<Figure size 432x288 with 1 Axes>"
            ],
            "image/png": "[encoded data removed]"
          },
          "metadata": {
            "needs_background": "light"
          }
        }
      ]
    },
    {
      "cell_type": "code",
      "source": [
        "def plot_linear_classifier(x, y, w, b):\n",
        "    x1_min, x1_max = x[:,0].min(), x[:,0].max()\n",
        "    x2_min, x2_max = x[:,1].min(), x[:,1].max()\n",
        "\n",
        "    x1, x2 = np.meshgrid(np.linspace(x1_min-1, x1_max+1,100), np.linspace(x2_min-1, x2_max+1, 100))\n",
        "    x_mesh = np.array([x1.ravel(), x2.ravel()]).T\n",
        "\n",
        "    plt.scatter(x[:,0], x[:,1], c=y.ravel(), cmap='bwr')\n",
        "\n",
        "    y_mesh = np.dot(x_mesh, np.array(w).reshape(1, -1).T) + b\n",
        "    y_mesh = np.where(y_mesh <= 0, 0, 1)\n",
        "\n",
        "    plt.contourf(x1, x2, y_mesh.reshape(x1.shape), cmap='bwr', alpha=0.5)\n",
        "    plt.xlim(x1_min-1, x1_max+1)\n",
        "    plt.ylim(x2_min-1, x2_max+1)"
      ],
      "metadata": {
        "id": "YQ_j__8-bP0g"
      },
      "execution_count": null,
      "outputs": []
    },
    {
      "cell_type": "code",
      "source": [
        "D = x.shape[1] # qtd entradas\n",
        "w = 2*np.random.random(D)-1 #inicalizar pesos random\n",
        "b = 2*np.random.random()-1 # inicializar bias random\n",
        "w, b"
      ],
      "metadata": {
        "colab": {
          "base_uri": "https://localhost:8080/"
        },
        "id": "z7UBA97nbuWd",
        "outputId": "e061e388-036f-405e-a5a9-1fcd75dccbe9"
      },
      "execution_count": null,
      "outputs": [
        {
          "output_type": "execute_result",
          "data": {
            "text/plain": [
              "(array([0.59352434, 0.38477992]), -0.4444324569496694)"
            ]
          },
          "metadata": {},
          "execution_count": 40
        }
      ]
    },
    {
      "cell_type": "code",
      "source": [
        "\n",
        "for step in range(100):\n",
        "  learning_rate = 1.0\n",
        "  cost = 0\n",
        "  for x_n, y_n in zip (x, y):\n",
        "    y_pred = np.dot(x_n, w) + b\n",
        "    y_pred = np.where(y_pred > 0, 1, 0)\n",
        "    error = y_n - y_pred\n",
        "    w = w + learning_rate*np.dot(error, x_n)\n",
        "    b = b + learning_rate*error\n",
        "    cost += error**2 # o perceptron nao necessita do custo\n",
        "  if step % 10 ==0:\n",
        "    print(\"step {0}: {1}\".format(step, cost))\n",
        "print('w', w)\n",
        "print('b', b)\n",
        "print('y_pred: {0}'.format(np.dot(x, np.array(w))+b))"
      ],
      "metadata": {
        "colab": {
          "base_uri": "https://localhost:8080/"
        },
        "id": "fQf-8mZzbw-X",
        "outputId": "37b8e19b-4402-4d19-c9f7-d82102d31164"
      },
      "execution_count": null,
      "outputs": [
        {
          "output_type": "stream",
          "name": "stdout",
          "text": [
            "step 0: 4\n",
            "step 10: 0\n",
            "step 20: 0\n",
            "step 30: 0\n",
            "step 40: 0\n",
            "step 50: 0\n",
            "step 60: 0\n",
            "step 70: 0\n",
            "step 80: 0\n",
            "step 90: 0\n",
            "w [13.62719467 12.85259772]\n",
            "b 0.5555675430503306\n",
            "y_pred: [ 56.01809003 -23.70978037 -65.11786586  85.68308047  60.42166193\n",
            " -54.00869916  51.73038641 -24.41204347  46.87876397  42.83862062\n",
            " -32.16596176  23.71026547 -66.31084683 -39.06969038 -55.41639503\n",
            " -63.32303526  62.9208772   75.11645953 -40.1857574   49.14743905\n",
            " -73.27694705  53.23687505  57.15756855  47.35038521 -42.38170581\n",
            "  48.86949921 -50.61362343  67.90101215  48.12525799  54.69032991\n",
            "  28.22594808  40.79660869 -66.27823721 -53.21512007 -61.46036719\n",
            "  53.32798907  62.65185284  32.96192039 -24.55546739 -41.60129065\n",
            " -73.65249185 -59.25244898 -54.57988833  62.14375593 -60.28470694\n",
            "  55.58041836  33.03701326  49.74736253 -41.92977447  82.61536738\n",
            "  55.97274263 -56.65593506 -78.30696342 -39.14497371 -50.54787881\n",
            "  79.13640416  66.43830623  92.39398618  53.28745533  66.16776428\n",
            "  65.09438819  -9.93090542  25.33779061  46.56064709  10.34709269\n",
            " -68.89488531 -53.75969045  51.81516457 -56.18318136  61.70038675\n",
            " -63.85242534 -42.05597234  81.05939248 -58.3725393  -42.88984926\n",
            "  40.27610817 -48.59782614  38.78854207 -41.01537501  73.93497432\n",
            " -72.5326481  -40.19970845 -47.76275489 -29.01476259  87.44711876\n",
            " -35.80553181  66.23319607 -43.01067665  45.6110577   52.16896295\n",
            "  48.84426263 -91.60270573 -56.89523486 -50.03894283 -38.94687437\n",
            " -80.74105425  44.61237757  55.64410366 -40.88088243 -30.54925284]\n"
          ]
        }
      ]
    },
    {
      "cell_type": "code",
      "source": [
        "plot_linear_classifier(x, y, w, b)"
      ],
      "metadata": {
        "colab": {
          "base_uri": "https://localhost:8080/",
          "height": 265
        },
        "id": "2zojwKMJcDxM",
        "outputId": "61f7746f-46f1-439c-c1b6-761cdf031668"
      },
      "execution_count": null,
      "outputs": [
        {
          "output_type": "display_data",
          "data": {
            "text/plain": [
              "<Figure size 432x288 with 1 Axes>"
            ],
            "image/png": "[encoded data removed]"
          },
          "metadata": {
            "needs_background": "light"
          }
        }
      ]
    },
    {
      "cell_type": "markdown",
      "source": [
        "# Perceptron Regressão linear"
      ],
      "metadata": {
        "id": "8uH0NOYYcUgc"
      }
    },
    {
      "cell_type": "markdown",
      "source": [
        "Para transformar o Perceptron em um __regressor linear__, só o que temos de fazer é __remover a função de ativação _step___, transformando-a em uma função de ativação linear.\n",
        "\n",
        "Apesar dessa modificação, __a fórmula de atualização dos pesos não sofre nenhuma alteração__. \n",
        "\n",
        "Vamos, então, implementar nosso perceptron para classificação em Python, Numpy, Keras e TensorFlow:"
      ],
      "metadata": {
        "id": "OsH2FJKEcdnK"
      }
    },
    {
      "cell_type": "code",
      "source": [
        "df = pd.read_csv('/content/medidas.csv')\n",
        "print(df.shape)\n",
        "df.head(10)"
      ],
      "metadata": {
        "colab": {
          "base_uri": "https://localhost:8080/",
          "height": 380
        },
        "id": "nghw_DgzcXMn",
        "outputId": "c885212b-3279-4589-e3ef-480322dba732"
      },
      "execution_count": null,
      "outputs": [
        {
          "output_type": "stream",
          "name": "stdout",
          "text": [
            "(100, 2)\n"
          ]
        },
        {
          "output_type": "execute_result",
          "data": {
            "text/plain": [
              "   Altura    Peso\n",
              "0     187  109.72\n",
              "1     177   91.09\n",
              "2     180   88.93\n",
              "3     177   89.39\n",
              "4     177   92.02\n",
              "5     183   94.70\n",
              "6     178   83.57\n",
              "7     177   85.19\n",
              "8     183   92.96\n",
              "9     188  108.21"
            ],
            "text/html": [
              "\n",
              "  <div id=\"df-c8a14905-4e95-418a-b0be-c86de3d39c7b\">\n",
              "    <div class=\"colab-df-container\">\n",
              "      <div>\n",
              "<style scoped>\n",
              "    .dataframe tbody tr th:only-of-type {\n",
              "        vertical-align: middle;\n",
              "    }\n",
              "\n",
              "    .dataframe tbody tr th {\n",
              "        vertical-align: top;\n",
              "    }\n",
              "\n",
              "    .dataframe thead th {\n",
              "        text-align: right;\n",
              "    }\n",
              "</style>\n",
              "<table border=\"1\" class=\"dataframe\">\n",
              "  <thead>\n",
              "    <tr style=\"text-align: right;\">\n",
              "      <th></th>\n",
              "      <th>Altura</th>\n",
              "      <th>Peso</th>\n",
              "    </tr>\n",
              "  </thead>\n",
              "  <tbody>\n",
              "    <tr>\n",
              "      <th>0</th>\n",
              "      <td>187</td>\n",
              "      <td>109.72</td>\n",
              "    </tr>\n",
              "    <tr>\n",
              "      <th>1</th>\n",
              "      <td>177</td>\n",
              "      <td>91.09</td>\n",
              "    </tr>\n",
              "    <tr>\n",
              "      <th>2</th>\n",
              "      <td>180</td>\n",
              "      <td>88.93</td>\n",
              "    </tr>\n",
              "    <tr>\n",
              "      <th>3</th>\n",
              "      <td>177</td>\n",
              "      <td>89.39</td>\n",
              "    </tr>\n",
              "    <tr>\n",
              "      <th>4</th>\n",
              "      <td>177</td>\n",
              "      <td>92.02</td>\n",
              "    </tr>\n",
              "    <tr>\n",
              "      <th>5</th>\n",
              "      <td>183</td>\n",
              "      <td>94.70</td>\n",
              "    </tr>\n",
              "    <tr>\n",
              "      <th>6</th>\n",
              "      <td>178</td>\n",
              "      <td>83.57</td>\n",
              "    </tr>\n",
              "    <tr>\n",
              "      <th>7</th>\n",
              "      <td>177</td>\n",
              "      <td>85.19</td>\n",
              "    </tr>\n",
              "    <tr>\n",
              "      <th>8</th>\n",
              "      <td>183</td>\n",
              "      <td>92.96</td>\n",
              "    </tr>\n",
              "    <tr>\n",
              "      <th>9</th>\n",
              "      <td>188</td>\n",
              "      <td>108.21</td>\n",
              "    </tr>\n",
              "  </tbody>\n",
              "</table>\n",
              "</div>\n",
              "      <button class=\"colab-df-convert\" onclick=\"convertToInteractive('df-c8a14905-4e95-418a-b0be-c86de3d39c7b')\"\n",
              "              title=\"Convert this dataframe to an interactive table.\"\n",
              "              style=\"display:none;\">\n",
              "        \n",
              "  <svg xmlns=\"http://www.w3.org/2000/svg\" height=\"24px\"viewBox=\"0 0 24 24\"\n",
              "       width=\"24px\">\n",
              "    <path d=\"M0 0h24v24H0V0z\" fill=\"none\"/>\n",
              "    <path d=\"M18.56 5.44l.94 2.06.94-2.06 2.06-.94-2.06-.94-.94-2.06-.94 2.06-2.06.94zm-11 1L8.5 8.5l.94-2.06 2.06-.94-2.06-.94L8.5 2.5l-.94 2.06-2.06.94zm10 10l.94 2.06.94-2.06 2.06-.94-2.06-.94-.94-2.06-.94 2.06-2.06.94z\"/><path d=\"M17.41 7.96l-1.37-1.37c-.4-.4-.92-.59-1.43-.59-.52 0-1.04.2-1.43.59L10.3 9.45l-7.72 7.72c-.78.78-.78 2.05 0 2.83L4 21.41c.39.39.9.59 1.41.59.51 0 1.02-.2 1.41-.59l7.78-7.78 2.81-2.81c.8-.78.8-2.07 0-2.86zM5.41 20L4 18.59l7.72-7.72 1.47 1.35L5.41 20z\"/>\n",
              "  </svg>\n",
              "      </button>\n",
              "      \n",
              "  <style>\n",
              "    .colab-df-container {\n",
              "      display:flex;\n",
              "      flex-wrap:wrap;\n",
              "      gap: 12px;\n",
              "    }\n",
              "\n",
              "    .colab-df-convert {\n",
              "      background-color: #E8F0FE;\n",
              "      border: none;\n",
              "      border-radius: 50%;\n",
              "      cursor: pointer;\n",
              "      display: none;\n",
              "      fill: #1967D2;\n",
              "      height: 32px;\n",
              "      padding: 0 0 0 0;\n",
              "      width: 32px;\n",
              "    }\n",
              "\n",
              "    .colab-df-convert:hover {\n",
              "      background-color: #E2EBFA;\n",
              "      box-shadow: 0px 1px 2px rgba(60, 64, 67, 0.3), 0px 1px 3px 1px rgba(60, 64, 67, 0.15);\n",
              "      fill: #174EA6;\n",
              "    }\n",
              "\n",
              "    [theme=dark] .colab-df-convert {\n",
              "      background-color: #3B4455;\n",
              "      fill: #D2E3FC;\n",
              "    }\n",
              "\n",
              "    [theme=dark] .colab-df-convert:hover {\n",
              "      background-color: #434B5C;\n",
              "      box-shadow: 0px 1px 3px 1px rgba(0, 0, 0, 0.15);\n",
              "      filter: drop-shadow(0px 1px 2px rgba(0, 0, 0, 0.3));\n",
              "      fill: #FFFFFF;\n",
              "    }\n",
              "  </style>\n",
              "\n",
              "      <script>\n",
              "        const buttonEl =\n",
              "          document.querySelector('#df-c8a14905-4e95-418a-b0be-c86de3d39c7b button.colab-df-convert');\n",
              "        buttonEl.style.display =\n",
              "          google.colab.kernel.accessAllowed ? 'block' : 'none';\n",
              "\n",
              "        async function convertToInteractive(key) {\n",
              "          const element = document.querySelector('#df-c8a14905-4e95-418a-b0be-c86de3d39c7b');\n",
              "          const dataTable =\n",
              "            await google.colab.kernel.invokeFunction('convertToInteractive',\n",
              "                                                     [key], {});\n",
              "          if (!dataTable) return;\n",
              "\n",
              "          const docLinkHtml = 'Like what you see? Visit the ' +\n",
              "            '<a target=\"_blank\" href=https://colab.research.google.com/notebooks/data_table.ipynb>data table notebook</a>'\n",
              "            + ' to learn more about interactive tables.';\n",
              "          element.innerHTML = '';\n",
              "          dataTable['output_type'] = 'display_data';\n",
              "          await google.colab.output.renderOutput(dataTable, element);\n",
              "          const docLink = document.createElement('div');\n",
              "          docLink.innerHTML = docLinkHtml;\n",
              "          element.appendChild(docLink);\n",
              "        }\n",
              "      </script>\n",
              "    </div>\n",
              "  </div>\n",
              "  "
            ]
          },
          "metadata": {},
          "execution_count": 45
        }
      ]
    },
    {
      "cell_type": "code",
      "source": [
        "x = df.Altura.values\n",
        "y = df.Peso.values\n",
        "\n",
        "plt.figure()\n",
        "plt.scatter(x, y)\n",
        "plt.xlabel('Altura')\n",
        "plt.ylabel('Peso')"
      ],
      "metadata": {
        "colab": {
          "base_uri": "https://localhost:8080/",
          "height": 296
        },
        "id": "DcQpk36CcsXK",
        "outputId": "69d4b134-def7-4fd7-88f0-5c5ee8181413"
      },
      "execution_count": null,
      "outputs": [
        {
          "output_type": "execute_result",
          "data": {
            "text/plain": [
              "Text(0, 0.5, 'Peso')"
            ]
          },
          "metadata": {},
          "execution_count": 53
        },
        {
          "output_type": "display_data",
          "data": {
            "text/plain": [
              "<Figure size 432x288 with 1 Axes>"
            ],
            "image/png": "[encoded data removed]"
          },
          "metadata": {
            "needs_background": "light"
          }
        }
      ]
    },
    {
      "cell_type": "code",
      "source": [
        "print(x.shape, y.shape)"
      ],
      "metadata": {
        "colab": {
          "base_uri": "https://localhost:8080/"
        },
        "id": "lkZbYowldjEb",
        "outputId": "132a9ecc-ad79-4c95-fef1-ad3e45782b44"
      },
      "execution_count": null,
      "outputs": [
        {
          "output_type": "stream",
          "name": "stdout",
          "text": [
            "(100,) (100,)\n"
          ]
        }
      ]
    },
    {
      "cell_type": "code",
      "source": [
        "x = x.reshape(-1, 1)\n",
        "\n",
        "print(x.shape, y.shape)"
      ],
      "metadata": {
        "colab": {
          "base_uri": "https://localhost:8080/"
        },
        "id": "Ll-E8KHbdkvv",
        "outputId": "4fce81b4-6bcb-4886-cf22-ad7ee5aa9b74"
      },
      "execution_count": null,
      "outputs": [
        {
          "output_type": "stream",
          "name": "stdout",
          "text": [
            "(100, 1) (100,)\n"
          ]
        }
      ]
    },
    {
      "cell_type": "code",
      "source": [
        "D = x.shape[1]\n",
        "w = 2*np.random.random(size=D)-1\n",
        "b = 2*np.random.random()-1 \n",
        "lr =1.0 #\n",
        "for step in range(10001):\n",
        "    cost = 0\n",
        "    for x_n, y_n in zip(x, y):\n",
        "        # qual linha devemos remover para transformar o Perceptron num regressor?\n",
        "        y_pred = np.dot(x_n, w) + b \n",
        "        #y_pred = np.where(y_pred > 0, 1, 0) #removemos essa linha\n",
        "        error = y_n - y_pred\n",
        "        w = w + 1e-7*np.dot(error, x_n) # alteramos o LR 1.0 -> 1e-7\n",
        "        b = b + 1e-2*error # 1e-2 \n",
        "        cost += error**2\n",
        "    \n",
        "    if step%1000 == 0:\n",
        "        print('step {0}: {1}'.format(step, cost))\n",
        "    \n",
        "print('w: ', w)\n",
        "print('b: ', b)"
      ],
      "metadata": {
        "colab": {
          "base_uri": "https://localhost:8080/"
        },
        "id": "hCLDytuCdqyS",
        "outputId": "ead98d71-820f-470c-ed80-deedd102d633"
      },
      "execution_count": null,
      "outputs": [
        {
          "output_type": "stream",
          "name": "stdout",
          "text": [
            "step 0: 873656.4810071263\n",
            "step 1000: 7796.841529792986\n",
            "step 2000: 3524.759148626922\n",
            "step 3000: 2779.285669023241\n",
            "step 4000: 2650.880212364023\n",
            "step 5000: 2629.473753731182\n",
            "step 6000: 2626.210120669379\n",
            "step 7000: 2625.8477644971667\n",
            "step 8000: 2625.873075286892\n",
            "step 9000: 2625.914932322758\n",
            "step 10000: 2625.9379980440613\n",
            "w:  [1.36971333]\n",
            "b:  -157.86701234911533\n"
          ]
        }
      ]
    },
    {
      "cell_type": "code",
      "source": [
        "# os dados nao estao normalizados peso em kg e altura em m\n",
        "# vamos normalizar\n",
        "minmax = MinMaxScaler(feature_range=(-1,1))\n",
        "x = minmax.fit_transform(x.astype(np.float64))\n",
        "\n",
        "print(x.min(), x.max())"
      ],
      "metadata": {
        "colab": {
          "base_uri": "https://localhost:8080/"
        },
        "id": "Mi5hAgBIdt3A",
        "outputId": "290c1f8b-0277-45c4-bf2c-f77c1eda608a"
      },
      "execution_count": null,
      "outputs": [
        {
          "output_type": "stream",
          "name": "stdout",
          "text": [
            "-1.0 0.9999999999999991\n"
          ]
        }
      ]
    },
    {
      "cell_type": "code",
      "source": [
        "plt.figure()\n",
        "plt.scatter(x, y)\n",
        "plt.xlabel('Altura')\n",
        "plt.ylabel('Peso')"
      ],
      "metadata": {
        "colab": {
          "base_uri": "https://localhost:8080/",
          "height": 296
        },
        "id": "6_gFCFNTfVMO",
        "outputId": "78e5166f-08d6-4f7a-ca7b-e1a9276573bc"
      },
      "execution_count": null,
      "outputs": [
        {
          "output_type": "execute_result",
          "data": {
            "text/plain": [
              "Text(0, 0.5, 'Peso')"
            ]
          },
          "metadata": {},
          "execution_count": 62
        },
        {
          "output_type": "display_data",
          "data": {
            "text/plain": [
              "<Figure size 432x288 with 1 Axes>"
            ],
            "image/png": "[encoded data removed]"
          },
          "metadata": {
            "needs_background": "light"
          }
        }
      ]
    },
    {
      "cell_type": "code",
      "source": [
        "reg = LinearRegression()\n",
        "reg.fit(x,y)\n",
        "\n",
        "print('w: ', reg.coef_)\n",
        "print('b: ', reg.intercept_)"
      ],
      "metadata": {
        "colab": {
          "base_uri": "https://localhost:8080/"
        },
        "id": "BlKqU6JefEGM",
        "outputId": "1a5f072e-951d-4eea-c8e9-61f9bd54928a"
      },
      "execution_count": null,
      "outputs": [
        {
          "output_type": "stream",
          "name": "stdout",
          "text": [
            "w:  [33.60164767]\n",
            "b:  74.99636286981102\n"
          ]
        }
      ]
    },
    {
      "cell_type": "code",
      "source": [
        "D = x.shape[1]\n",
        "w = 2*np.random.random(size=D)-1\n",
        "b = 2*np.random.random()-1 \n",
        "\n",
        "learning_rate = 1e-3 # <- tente estimar a learning_rate\n",
        "\n",
        "for step in range(1001):\n",
        "    cost = 0\n",
        "    for x_n, y_n in zip(x, y):\n",
        "        y_pred = np.dot(x_n, w) + b \n",
        "        error = y_n - y_pred\n",
        "        w = w + learning_rate*np.dot(error, x_n)\n",
        "        b = b + learning_rate*error\n",
        "        cost += error**2\n",
        "    \n",
        "    if step%100 == 0:\n",
        "        print('step {0}: {1}'.format(step, cost))\n",
        "    \n",
        "print('w: ', w)\n",
        "print('b: ', b)"
      ],
      "metadata": {
        "colab": {
          "base_uri": "https://localhost:8080/"
        },
        "id": "UHZ5f1jvfGpz",
        "outputId": "3c13b842-f21a-4a7f-fe98-70a3b7c49ea8"
      },
      "execution_count": null,
      "outputs": [
        {
          "output_type": "stream",
          "name": "stdout",
          "text": [
            "step 0: 515044.14804088575\n",
            "step 100: 3119.0007806870444\n",
            "step 200: 2623.3088288976687\n",
            "step 300: 2611.5325881511426\n",
            "step 400: 2611.2514778685554\n",
            "step 500: 2611.2445666714407\n",
            "step 600: 2611.2443659848573\n",
            "step 700: 2611.2443555790314\n",
            "step 800: 2611.244354462775\n",
            "step 900: 2611.2443543023332\n",
            "step 1000: 2611.2443542778938\n",
            "w:  [33.60180845]\n",
            "b:  74.93896426887831\n"
          ]
        }
      ]
    },
    {
      "cell_type": "code",
      "source": [
        "def plot_line(w, b):\n",
        "    plt.figure(0, figsize=(8,8))\n",
        "    plt.subplot(1,1,1)\n",
        "    plt.scatter(x, y)\n",
        "    y_pred = x*w + b\n",
        "    plt.plot(x, y_pred, c='red')\n",
        "    plt.xlim(140, 210)\n",
        "    plt.ylim(40, 120)\n",
        "    \n",
        "    plt.subplot(1,1,1)\n",
        "    x_ = np.array([0, x.max()])\n",
        "    y_ = x_*w + b\n",
        "    plt.scatter(x, y)\n",
        "    plt.plot(x_, y_, c='red')\n",
        "    plt.xlim(0, 1)\n",
        "    plt.ylim(-160, 120)\n",
        "    \n",
        "    plt.show()"
      ],
      "metadata": {
        "id": "GVdwrzozfk0F"
      },
      "execution_count": null,
      "outputs": []
    },
    {
      "cell_type": "code",
      "source": [
        "plot_line(w, b)"
      ],
      "metadata": {
        "colab": {
          "base_uri": "https://localhost:8080/",
          "height": 538
        },
        "id": "eDPKk0ZvfxNl",
        "outputId": "8c229231-5cc9-4c39-b4af-dcb6ef5e5e8f"
      },
      "execution_count": null,
      "outputs": [
        {
          "output_type": "stream",
          "name": "stderr",
          "text": [
            "<ipython-input-80-6e682e5b601f>:10: MatplotlibDeprecationWarning: Adding an axes using the same arguments as a previous axes currently reuses the earlier instance.  In a future version, a new instance will always be created and returned.  Meanwhile, this warning can be suppressed, and the future behavior ensured, by passing a unique label to each axes instance.\n",
            "  plt.subplot(1,1,1)\n"
          ]
        },
        {
          "output_type": "display_data",
          "data": {
            "text/plain": [
              "<Figure size 576x576 with 1 Axes>"
            ],
            "image/png": "[encoded data removed]"
          },
          "metadata": {
            "needs_background": "light"
          }
        }
      ]
    },
    {
      "cell_type": "markdown",
      "source": [
        "## Exercício"
      ],
      "metadata": {
        "id": "No-m4_3TglJP"
      }
    },
    {
      "cell_type": "code",
      "source": [
        "df = pd.read_csv('/content/notas.csv')\n",
        "\n",
        "print(df.shape)\n",
        "df.head(10)"
      ],
      "metadata": {
        "colab": {
          "base_uri": "https://localhost:8080/",
          "height": 380
        },
        "id": "dLaa2tkggo2q",
        "outputId": "95bcc45e-c265-4f51-cace-12332dd17b9c"
      },
      "execution_count": null,
      "outputs": [
        {
          "output_type": "stream",
          "name": "stdout",
          "text": [
            "(25, 4)\n"
          ]
        },
        {
          "output_type": "execute_result",
          "data": {
            "text/plain": [
              "   prova1  prova2  prova3  final\n",
              "0      73      80      75    152\n",
              "1      93      88      93    185\n",
              "2      89      91      90    180\n",
              "3      96      98     100    196\n",
              "4      73      66      70    142\n",
              "5      53      46      55    101\n",
              "6      69      74      77    149\n",
              "7      47      56      60    115\n",
              "8      87      79      90    175\n",
              "9      79      70      88    164"
            ],
            "text/html": [
              "\n",
              "  <div id=\"df-b66836b3-c86b-4766-89fa-b1abfcd76c1d\">\n",
              "    <div class=\"colab-df-container\">\n",
              "      <div>\n",
              "<style scoped>\n",
              "    .dataframe tbody tr th:only-of-type {\n",
              "        vertical-align: middle;\n",
              "    }\n",
              "\n",
              "    .dataframe tbody tr th {\n",
              "        vertical-align: top;\n",
              "    }\n",
              "\n",
              "    .dataframe thead th {\n",
              "        text-align: right;\n",
              "    }\n",
              "</style>\n",
              "<table border=\"1\" class=\"dataframe\">\n",
              "  <thead>\n",
              "    <tr style=\"text-align: right;\">\n",
              "      <th></th>\n",
              "      <th>prova1</th>\n",
              "      <th>prova2</th>\n",
              "      <th>prova3</th>\n",
              "      <th>final</th>\n",
              "    </tr>\n",
              "  </thead>\n",
              "  <tbody>\n",
              "    <tr>\n",
              "      <th>0</th>\n",
              "      <td>73</td>\n",
              "      <td>80</td>\n",
              "      <td>75</td>\n",
              "      <td>152</td>\n",
              "    </tr>\n",
              "    <tr>\n",
              "      <th>1</th>\n",
              "      <td>93</td>\n",
              "      <td>88</td>\n",
              "      <td>93</td>\n",
              "      <td>185</td>\n",
              "    </tr>\n",
              "    <tr>\n",
              "      <th>2</th>\n",
              "      <td>89</td>\n",
              "      <td>91</td>\n",
              "      <td>90</td>\n",
              "      <td>180</td>\n",
              "    </tr>\n",
              "    <tr>\n",
              "      <th>3</th>\n",
              "      <td>96</td>\n",
              "      <td>98</td>\n",
              "      <td>100</td>\n",
              "      <td>196</td>\n",
              "    </tr>\n",
              "    <tr>\n",
              "      <th>4</th>\n",
              "      <td>73</td>\n",
              "      <td>66</td>\n",
              "      <td>70</td>\n",
              "      <td>142</td>\n",
              "    </tr>\n",
              "    <tr>\n",
              "      <th>5</th>\n",
              "      <td>53</td>\n",
              "      <td>46</td>\n",
              "      <td>55</td>\n",
              "      <td>101</td>\n",
              "    </tr>\n",
              "    <tr>\n",
              "      <th>6</th>\n",
              "      <td>69</td>\n",
              "      <td>74</td>\n",
              "      <td>77</td>\n",
              "      <td>149</td>\n",
              "    </tr>\n",
              "    <tr>\n",
              "      <th>7</th>\n",
              "      <td>47</td>\n",
              "      <td>56</td>\n",
              "      <td>60</td>\n",
              "      <td>115</td>\n",
              "    </tr>\n",
              "    <tr>\n",
              "      <th>8</th>\n",
              "      <td>87</td>\n",
              "      <td>79</td>\n",
              "      <td>90</td>\n",
              "      <td>175</td>\n",
              "    </tr>\n",
              "    <tr>\n",
              "      <th>9</th>\n",
              "      <td>79</td>\n",
              "      <td>70</td>\n",
              "      <td>88</td>\n",
              "      <td>164</td>\n",
              "    </tr>\n",
              "  </tbody>\n",
              "</table>\n",
              "</div>\n",
              "      <button class=\"colab-df-convert\" onclick=\"convertToInteractive('df-b66836b3-c86b-4766-89fa-b1abfcd76c1d')\"\n",
              "              title=\"Convert this dataframe to an interactive table.\"\n",
              "              style=\"display:none;\">\n",
              "        \n",
              "  <svg xmlns=\"http://www.w3.org/2000/svg\" height=\"24px\"viewBox=\"0 0 24 24\"\n",
              "       width=\"24px\">\n",
              "    <path d=\"M0 0h24v24H0V0z\" fill=\"none\"/>\n",
              "    <path d=\"M18.56 5.44l.94 2.06.94-2.06 2.06-.94-2.06-.94-.94-2.06-.94 2.06-2.06.94zm-11 1L8.5 8.5l.94-2.06 2.06-.94-2.06-.94L8.5 2.5l-.94 2.06-2.06.94zm10 10l.94 2.06.94-2.06 2.06-.94-2.06-.94-.94-2.06-.94 2.06-2.06.94z\"/><path d=\"M17.41 7.96l-1.37-1.37c-.4-.4-.92-.59-1.43-.59-.52 0-1.04.2-1.43.59L10.3 9.45l-7.72 7.72c-.78.78-.78 2.05 0 2.83L4 21.41c.39.39.9.59 1.41.59.51 0 1.02-.2 1.41-.59l7.78-7.78 2.81-2.81c.8-.78.8-2.07 0-2.86zM5.41 20L4 18.59l7.72-7.72 1.47 1.35L5.41 20z\"/>\n",
              "  </svg>\n",
              "      </button>\n",
              "      \n",
              "  <style>\n",
              "    .colab-df-container {\n",
              "      display:flex;\n",
              "      flex-wrap:wrap;\n",
              "      gap: 12px;\n",
              "    }\n",
              "\n",
              "    .colab-df-convert {\n",
              "      background-color: #E8F0FE;\n",
              "      border: none;\n",
              "      border-radius: 50%;\n",
              "      cursor: pointer;\n",
              "      display: none;\n",
              "      fill: #1967D2;\n",
              "      height: 32px;\n",
              "      padding: 0 0 0 0;\n",
              "      width: 32px;\n",
              "    }\n",
              "\n",
              "    .colab-df-convert:hover {\n",
              "      background-color: #E2EBFA;\n",
              "      box-shadow: 0px 1px 2px rgba(60, 64, 67, 0.3), 0px 1px 3px 1px rgba(60, 64, 67, 0.15);\n",
              "      fill: #174EA6;\n",
              "    }\n",
              "\n",
              "    [theme=dark] .colab-df-convert {\n",
              "      background-color: #3B4455;\n",
              "      fill: #D2E3FC;\n",
              "    }\n",
              "\n",
              "    [theme=dark] .colab-df-convert:hover {\n",
              "      background-color: #434B5C;\n",
              "      box-shadow: 0px 1px 3px 1px rgba(0, 0, 0, 0.15);\n",
              "      filter: drop-shadow(0px 1px 2px rgba(0, 0, 0, 0.3));\n",
              "      fill: #FFFFFF;\n",
              "    }\n",
              "  </style>\n",
              "\n",
              "      <script>\n",
              "        const buttonEl =\n",
              "          document.querySelector('#df-b66836b3-c86b-4766-89fa-b1abfcd76c1d button.colab-df-convert');\n",
              "        buttonEl.style.display =\n",
              "          google.colab.kernel.accessAllowed ? 'block' : 'none';\n",
              "\n",
              "        async function convertToInteractive(key) {\n",
              "          const element = document.querySelector('#df-b66836b3-c86b-4766-89fa-b1abfcd76c1d');\n",
              "          const dataTable =\n",
              "            await google.colab.kernel.invokeFunction('convertToInteractive',\n",
              "                                                     [key], {});\n",
              "          if (!dataTable) return;\n",
              "\n",
              "          const docLinkHtml = 'Like what you see? Visit the ' +\n",
              "            '<a target=\"_blank\" href=https://colab.research.google.com/notebooks/data_table.ipynb>data table notebook</a>'\n",
              "            + ' to learn more about interactive tables.';\n",
              "          element.innerHTML = '';\n",
              "          dataTable['output_type'] = 'display_data';\n",
              "          await google.colab.output.renderOutput(dataTable, element);\n",
              "          const docLink = document.createElement('div');\n",
              "          docLink.innerHTML = docLinkHtml;\n",
              "          element.appendChild(docLink);\n",
              "        }\n",
              "      </script>\n",
              "    </div>\n",
              "  </div>\n",
              "  "
            ]
          },
          "metadata": {},
          "execution_count": 83
        }
      ]
    },
    {
      "cell_type": "code",
      "source": [
        "plt.figure(figsize=(20, 4))\n",
        "\n",
        "plt.subplot(1, 3, 1)\n",
        "plt.scatter(df.prova1.values, df.final.values)\n",
        "plt.xlabel('Prova 1')\n",
        "plt.ylabel('Final')\n",
        "\n",
        "plt.subplot(1, 3, 2)\n",
        "plt.scatter(df.prova2.values, df.final.values)\n",
        "plt.xlabel('Prova 2')\n",
        "plt.ylabel('Final')\n",
        "\n",
        "plt.subplot(1, 3, 3)\n",
        "plt.scatter(df.prova3.values, df.final.values)\n",
        "plt.xlabel('Prova 3')\n",
        "plt.ylabel('Final')"
      ],
      "metadata": {
        "colab": {
          "base_uri": "https://localhost:8080/",
          "height": 252
        },
        "id": "p3RWQdGUgxdw",
        "outputId": "19a9d239-6a69-47e9-8949-ef6bf58fe72f"
      },
      "execution_count": null,
      "outputs": [
        {
          "output_type": "execute_result",
          "data": {
            "text/plain": [
              "Text(0, 0.5, 'Final')"
            ]
          },
          "metadata": {},
          "execution_count": 84
        },
        {
          "output_type": "display_data",
          "data": {
            "text/plain": [
              "<Figure size 1440x288 with 3 Axes>"
            ],
            "image/png": "[encoded data removed]"
          },
          "metadata": {
            "needs_background": "light"
          }
        }
      ]
    },
    {
      "cell_type": "code",
      "source": [
        "x = df[['prova1', 'prova2', 'prova3']].values\n",
        "y = df['final'].values\n",
        "\n",
        "print(x.shape, y.shape)"
      ],
      "metadata": {
        "id": "aTXgJjN8g1Ij",
        "outputId": "8fa68bad-1913-45e5-d1c0-fcdbb1b2d7dc",
        "colab": {
          "base_uri": "https://localhost:8080/"
        }
      },
      "execution_count": null,
      "outputs": [
        {
          "output_type": "stream",
          "name": "stdout",
          "text": [
            "(25, 3) (25,)\n"
          ]
        }
      ]
    },
    {
      "cell_type": "code",
      "source": [
        "minmax = MinMaxScaler(feature_range=(-1,1))\n",
        "x = minmax.fit_transform(x.astype(np.float64))"
      ],
      "metadata": {
        "id": "2EVTWBCUg3jA"
      },
      "execution_count": null,
      "outputs": []
    },
    {
      "cell_type": "code",
      "source": [
        "reg = LinearRegression()\n",
        "reg.fit(x, y)\n",
        "\n",
        "print('w: ', reg.coef_)\n",
        "print('b: ', reg.intercept_)"
      ],
      "metadata": {
        "id": "bYbI1Yzqg5Lw",
        "outputId": "bd7b47bb-6e0b-4512-953a-e389406fda5b",
        "colab": {
          "base_uri": "https://localhost:8080/"
        }
      },
      "execution_count": null,
      "outputs": [
        {
          "output_type": "stream",
          "name": "stdout",
          "text": [
            "w:  [ 8.72048636 14.1054877  26.26749487]\n",
            "b:  150.65175754349872\n"
          ]
        }
      ]
    },
    {
      "cell_type": "code",
      "source": [
        "D = x.shape[1]\n",
        "w = 2*np.random.random(size=D)-1\n",
        "b = 2*np.random.random()-1       \n",
        "\n",
        "learning_rate = 1.0 # <- tente estimar a learning_rate\n",
        "\n",
        "for step in range(1): # <- tente estimar o número de passos\n",
        "    cost = 0\n",
        "    for x_n, y_n in zip(x, y):\n",
        "        y_pred = np.dot(x_n, w) + b \n",
        "        error = y_n - y_pred\n",
        "        w = w + learning_rate*np.dot(error, x_n)\n",
        "        b = b + learning_rate*error\n",
        "        cost += error**2\n",
        "    \n",
        "    if step%200 == 0:\n",
        "        print('step {0}: {1}'.format(step, cost))\n",
        "    \n",
        "print('w: ', w)\n",
        "print('b: ', b)"
      ],
      "metadata": {
        "id": "4WKgn2zNg7eJ",
        "outputId": "2db2af05-77de-4fe1-e042-dd91876dea3b",
        "colab": {
          "base_uri": "https://localhost:8080/"
        }
      },
      "execution_count": null,
      "outputs": [
        {
          "output_type": "stream",
          "name": "stdout",
          "text": [
            "step 0: 147174.16064492773\n",
            "w:  [ -1.30175939 -48.55589844 -22.6817323 ]\n",
            "b:  47.86576923088782\n"
          ]
        }
      ]
    }
  ]
}
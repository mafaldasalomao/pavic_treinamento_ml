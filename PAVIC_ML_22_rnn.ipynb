{
  "nbformat": 4,
  "nbformat_minor": 0,
  "metadata": {
    "colab": {
      "provenance": [],
      "include_colab_link": true
    },
    "kernelspec": {
      "name": "python3",
      "display_name": "Python 3"
    },
    "accelerator": "GPU"
  },
  "cells": [
    {
      "cell_type": "markdown",
      "metadata": {
        "id": "view-in-github",
        "colab_type": "text"
      },
      "source": [
        "<a href=\"https://colab.research.google.com/github/mafaldasalomao/pavic_treinamento_ml/blob/main/PAVIC_ML_22_rnn.ipynb\" target=\"_parent\"><img src=\"https://colab.research.google.com/assets/colab-badge.svg\" alt=\"Open In Colab\"/></a>"
      ]
    },
    {
      "cell_type": "markdown",
      "metadata": {
        "id": "rD_RSER5Lkb5"
      },
      "source": [
        "# Projeto 20: Previsão do preço de ações com redes neurais recorrentes"
      ]
    },
    {
      "cell_type": "markdown",
      "metadata": {
        "id": "5tP2BcEILoLB"
      },
      "source": [
        "## Etapa 1: Importação das bibliotecas"
      ]
    },
    {
      "cell_type": "code",
      "metadata": {
        "id": "Yf0FpJ35Lf-Z",
        "outputId": "e7c43a43-b360-42b2-dee2-b65a4ada63ec",
        "colab": {
          "base_uri": "https://localhost:8080/",
          "height": 36
        }
      },
      "source": [
        "import numpy as np\n",
        "import pandas as pd\n",
        "from sklearn.preprocessing import MinMaxScaler\n",
        "import matplotlib.pyplot as plt\n",
        "import torch\n",
        "from torch import nn, optim\n",
        "from sklearn.metrics import mean_absolute_error\n",
        "torch.__version__"
      ],
      "execution_count": 76,
      "outputs": [
        {
          "output_type": "execute_result",
          "data": {
            "text/plain": [
              "'2.0.1+cu118'"
            ],
            "application/vnd.google.colaboratory.intrinsic+json": {
              "type": "string"
            }
          },
          "metadata": {},
          "execution_count": 76
        }
      ]
    },
    {
      "cell_type": "code",
      "metadata": {
        "id": "X1vw_qANCnRx",
        "outputId": "79b62ea0-fc66-4cbd-db0e-e1c2bfcb3bd9",
        "colab": {
          "base_uri": "https://localhost:8080/"
        }
      },
      "source": [
        "torch.manual_seed(123)"
      ],
      "execution_count": 77,
      "outputs": [
        {
          "output_type": "execute_result",
          "data": {
            "text/plain": [
              "<torch._C.Generator at 0x7f0b65366090>"
            ]
          },
          "metadata": {},
          "execution_count": 77
        }
      ]
    },
    {
      "cell_type": "markdown",
      "metadata": {
        "id": "C0SD4dJ4MDMN"
      },
      "source": [
        "## Etapa 2: Base de dados"
      ]
    },
    {
      "cell_type": "code",
      "metadata": {
        "id": "ucYGZD8uX4TA"
      },
      "source": [
        "base = pd.read_csv('/content/petr4_treinamento.csv')"
      ],
      "execution_count": 78,
      "outputs": []
    },
    {
      "cell_type": "code",
      "metadata": {
        "id": "6lKEclZLYHLl",
        "outputId": "edfcbc88-551f-4508-ecec-f6b3c854f6af",
        "colab": {
          "base_uri": "https://localhost:8080/",
          "height": 206
        }
      },
      "source": [
        "base.head()"
      ],
      "execution_count": 79,
      "outputs": [
        {
          "output_type": "execute_result",
          "data": {
            "text/plain": [
              "         Date       Open       High        Low      Close  Adj Close  \\\n",
              "0  2013-01-02  19.990000  20.209999  19.690001  19.690001  18.086271   \n",
              "1  2013-01-03  19.809999  20.400000  19.700001  20.400000  18.738441   \n",
              "2  2013-01-04  20.330000  20.620001  20.170000  20.430000  18.766001   \n",
              "3  2013-01-07  20.480000  20.670000  19.950001  20.080000  18.444506   \n",
              "4  2013-01-08  20.110001  20.230000  19.459999  19.500000  17.911745   \n",
              "\n",
              "       Volume  \n",
              "0  30182600.0  \n",
              "1  30552600.0  \n",
              "2  36141000.0  \n",
              "3  28069600.0  \n",
              "4  29091300.0  "
            ],
            "text/html": [
              "\n",
              "  <div id=\"df-88354c24-038f-4bb9-bbc6-4c90d743e666\">\n",
              "    <div class=\"colab-df-container\">\n",
              "      <div>\n",
              "<style scoped>\n",
              "    .dataframe tbody tr th:only-of-type {\n",
              "        vertical-align: middle;\n",
              "    }\n",
              "\n",
              "    .dataframe tbody tr th {\n",
              "        vertical-align: top;\n",
              "    }\n",
              "\n",
              "    .dataframe thead th {\n",
              "        text-align: right;\n",
              "    }\n",
              "</style>\n",
              "<table border=\"1\" class=\"dataframe\">\n",
              "  <thead>\n",
              "    <tr style=\"text-align: right;\">\n",
              "      <th></th>\n",
              "      <th>Date</th>\n",
              "      <th>Open</th>\n",
              "      <th>High</th>\n",
              "      <th>Low</th>\n",
              "      <th>Close</th>\n",
              "      <th>Adj Close</th>\n",
              "      <th>Volume</th>\n",
              "    </tr>\n",
              "  </thead>\n",
              "  <tbody>\n",
              "    <tr>\n",
              "      <th>0</th>\n",
              "      <td>2013-01-02</td>\n",
              "      <td>19.990000</td>\n",
              "      <td>20.209999</td>\n",
              "      <td>19.690001</td>\n",
              "      <td>19.690001</td>\n",
              "      <td>18.086271</td>\n",
              "      <td>30182600.0</td>\n",
              "    </tr>\n",
              "    <tr>\n",
              "      <th>1</th>\n",
              "      <td>2013-01-03</td>\n",
              "      <td>19.809999</td>\n",
              "      <td>20.400000</td>\n",
              "      <td>19.700001</td>\n",
              "      <td>20.400000</td>\n",
              "      <td>18.738441</td>\n",
              "      <td>30552600.0</td>\n",
              "    </tr>\n",
              "    <tr>\n",
              "      <th>2</th>\n",
              "      <td>2013-01-04</td>\n",
              "      <td>20.330000</td>\n",
              "      <td>20.620001</td>\n",
              "      <td>20.170000</td>\n",
              "      <td>20.430000</td>\n",
              "      <td>18.766001</td>\n",
              "      <td>36141000.0</td>\n",
              "    </tr>\n",
              "    <tr>\n",
              "      <th>3</th>\n",
              "      <td>2013-01-07</td>\n",
              "      <td>20.480000</td>\n",
              "      <td>20.670000</td>\n",
              "      <td>19.950001</td>\n",
              "      <td>20.080000</td>\n",
              "      <td>18.444506</td>\n",
              "      <td>28069600.0</td>\n",
              "    </tr>\n",
              "    <tr>\n",
              "      <th>4</th>\n",
              "      <td>2013-01-08</td>\n",
              "      <td>20.110001</td>\n",
              "      <td>20.230000</td>\n",
              "      <td>19.459999</td>\n",
              "      <td>19.500000</td>\n",
              "      <td>17.911745</td>\n",
              "      <td>29091300.0</td>\n",
              "    </tr>\n",
              "  </tbody>\n",
              "</table>\n",
              "</div>\n",
              "      <button class=\"colab-df-convert\" onclick=\"convertToInteractive('df-88354c24-038f-4bb9-bbc6-4c90d743e666')\"\n",
              "              title=\"Convert this dataframe to an interactive table.\"\n",
              "              style=\"display:none;\">\n",
              "        \n",
              "  <svg xmlns=\"http://www.w3.org/2000/svg\" height=\"24px\"viewBox=\"0 0 24 24\"\n",
              "       width=\"24px\">\n",
              "    <path d=\"M0 0h24v24H0V0z\" fill=\"none\"/>\n",
              "    <path d=\"M18.56 5.44l.94 2.06.94-2.06 2.06-.94-2.06-.94-.94-2.06-.94 2.06-2.06.94zm-11 1L8.5 8.5l.94-2.06 2.06-.94-2.06-.94L8.5 2.5l-.94 2.06-2.06.94zm10 10l.94 2.06.94-2.06 2.06-.94-2.06-.94-.94-2.06-.94 2.06-2.06.94z\"/><path d=\"M17.41 7.96l-1.37-1.37c-.4-.4-.92-.59-1.43-.59-.52 0-1.04.2-1.43.59L10.3 9.45l-7.72 7.72c-.78.78-.78 2.05 0 2.83L4 21.41c.39.39.9.59 1.41.59.51 0 1.02-.2 1.41-.59l7.78-7.78 2.81-2.81c.8-.78.8-2.07 0-2.86zM5.41 20L4 18.59l7.72-7.72 1.47 1.35L5.41 20z\"/>\n",
              "  </svg>\n",
              "      </button>\n",
              "      \n",
              "  <style>\n",
              "    .colab-df-container {\n",
              "      display:flex;\n",
              "      flex-wrap:wrap;\n",
              "      gap: 12px;\n",
              "    }\n",
              "\n",
              "    .colab-df-convert {\n",
              "      background-color: #E8F0FE;\n",
              "      border: none;\n",
              "      border-radius: 50%;\n",
              "      cursor: pointer;\n",
              "      display: none;\n",
              "      fill: #1967D2;\n",
              "      height: 32px;\n",
              "      padding: 0 0 0 0;\n",
              "      width: 32px;\n",
              "    }\n",
              "\n",
              "    .colab-df-convert:hover {\n",
              "      background-color: #E2EBFA;\n",
              "      box-shadow: 0px 1px 2px rgba(60, 64, 67, 0.3), 0px 1px 3px 1px rgba(60, 64, 67, 0.15);\n",
              "      fill: #174EA6;\n",
              "    }\n",
              "\n",
              "    [theme=dark] .colab-df-convert {\n",
              "      background-color: #3B4455;\n",
              "      fill: #D2E3FC;\n",
              "    }\n",
              "\n",
              "    [theme=dark] .colab-df-convert:hover {\n",
              "      background-color: #434B5C;\n",
              "      box-shadow: 0px 1px 3px 1px rgba(0, 0, 0, 0.15);\n",
              "      filter: drop-shadow(0px 1px 2px rgba(0, 0, 0, 0.3));\n",
              "      fill: #FFFFFF;\n",
              "    }\n",
              "  </style>\n",
              "\n",
              "      <script>\n",
              "        const buttonEl =\n",
              "          document.querySelector('#df-88354c24-038f-4bb9-bbc6-4c90d743e666 button.colab-df-convert');\n",
              "        buttonEl.style.display =\n",
              "          google.colab.kernel.accessAllowed ? 'block' : 'none';\n",
              "\n",
              "        async function convertToInteractive(key) {\n",
              "          const element = document.querySelector('#df-88354c24-038f-4bb9-bbc6-4c90d743e666');\n",
              "          const dataTable =\n",
              "            await google.colab.kernel.invokeFunction('convertToInteractive',\n",
              "                                                     [key], {});\n",
              "          if (!dataTable) return;\n",
              "\n",
              "          const docLinkHtml = 'Like what you see? Visit the ' +\n",
              "            '<a target=\"_blank\" href=https://colab.research.google.com/notebooks/data_table.ipynb>data table notebook</a>'\n",
              "            + ' to learn more about interactive tables.';\n",
              "          element.innerHTML = '';\n",
              "          dataTable['output_type'] = 'display_data';\n",
              "          await google.colab.output.renderOutput(dataTable, element);\n",
              "          const docLink = document.createElement('div');\n",
              "          docLink.innerHTML = docLinkHtml;\n",
              "          element.appendChild(docLink);\n",
              "        }\n",
              "      </script>\n",
              "    </div>\n",
              "  </div>\n",
              "  "
            ]
          },
          "metadata": {},
          "execution_count": 79
        }
      ]
    },
    {
      "cell_type": "code",
      "metadata": {
        "id": "5PIj8QmAYVhZ"
      },
      "source": [
        " # vizualizar os ultimos registros pra ver a data"
      ],
      "execution_count": 80,
      "outputs": []
    },
    {
      "cell_type": "code",
      "metadata": {
        "id": "_KuVzCIBYhbb",
        "outputId": "e8b549cb-2802-44d3-91f7-4c0b233e6355",
        "colab": {
          "base_uri": "https://localhost:8080/"
        }
      },
      "source": [
        "base.shape"
      ],
      "execution_count": 81,
      "outputs": [
        {
          "output_type": "execute_result",
          "data": {
            "text/plain": [
              "(1245, 7)"
            ]
          },
          "metadata": {},
          "execution_count": 81
        }
      ]
    },
    {
      "cell_type": "code",
      "metadata": {
        "id": "0_SQL8HSYk7h"
      },
      "source": [
        "base = base.dropna() #delete null"
      ],
      "execution_count": 82,
      "outputs": []
    },
    {
      "cell_type": "code",
      "metadata": {
        "id": "YnW24ppxYoSM",
        "outputId": "b7b69810-4039-40d2-bb7d-7c527b070849",
        "colab": {
          "base_uri": "https://localhost:8080/"
        }
      },
      "source": [
        "base.shape"
      ],
      "execution_count": 83,
      "outputs": [
        {
          "output_type": "execute_result",
          "data": {
            "text/plain": [
              "(1242, 7)"
            ]
          },
          "metadata": {},
          "execution_count": 83
        }
      ]
    },
    {
      "cell_type": "code",
      "metadata": {
        "id": "Je6_YLW1YwPU"
      },
      "source": [
        "#será utilizado apenas o open\n",
        "base_treinamento = base.iloc[:, 1:2].values"
      ],
      "execution_count": 84,
      "outputs": []
    },
    {
      "cell_type": "code",
      "metadata": {
        "id": "tO7vZCNvY6uC",
        "outputId": "6045ed66-b4c7-4226-89af-4d88c1f1e29e",
        "colab": {
          "base_uri": "https://localhost:8080/"
        }
      },
      "source": [
        "base_treinamento"
      ],
      "execution_count": 85,
      "outputs": [
        {
          "output_type": "execute_result",
          "data": {
            "text/plain": [
              "array([[19.99    ],\n",
              "       [19.809999],\n",
              "       [20.33    ],\n",
              "       ...,\n",
              "       [15.99    ],\n",
              "       [16.1     ],\n",
              "       [16.1     ]])"
            ]
          },
          "metadata": {},
          "execution_count": 85
        }
      ]
    },
    {
      "cell_type": "code",
      "metadata": {
        "id": "EXN93LAkZAUX"
      },
      "source": [
        "normalizador = MinMaxScaler(feature_range=(0,1))\n",
        "base_treinamento_normalizada = normalizador.fit_transform(base_treinamento)"
      ],
      "execution_count": 86,
      "outputs": []
    },
    {
      "cell_type": "code",
      "metadata": {
        "id": "85tcPswmZLf_",
        "outputId": "4451749d-d864-4a3b-9644-891c0ee7fde8",
        "colab": {
          "base_uri": "https://localhost:8080/"
        }
      },
      "source": [
        "base_treinamento_normalizada"
      ],
      "execution_count": 87,
      "outputs": [
        {
          "output_type": "execute_result",
          "data": {
            "text/plain": [
              "array([[0.76501938],\n",
              "       [0.7562984 ],\n",
              "       [0.78149225],\n",
              "       ...,\n",
              "       [0.57122093],\n",
              "       [0.57655039],\n",
              "       [0.57655039]])"
            ]
          },
          "metadata": {},
          "execution_count": 87
        }
      ]
    },
    {
      "cell_type": "code",
      "metadata": {
        "id": "pEo5e1p5aEC6"
      },
      "source": [
        "#vamos preprocessar os dados para o LSTM\n",
        "X = []\n",
        "y = []\n",
        "for i in range(90, 1242): #vamos começar da posição 90 pois nao se tem dados anteriores ja que nosso LSTM eh 90\n",
        "  X.append(base_treinamento_normalizada[i-90:i, 0])\n",
        "  y.append(base_treinamento_normalizada[i, 0])\n",
        "X, y = np.array(X), np.array(y)"
      ],
      "execution_count": 88,
      "outputs": []
    },
    {
      "cell_type": "code",
      "metadata": {
        "id": "EJS-3rX_a4IJ",
        "outputId": "bf4a19c0-6fb7-46b3-d2b9-f810de40ea7b",
        "colab": {
          "base_uri": "https://localhost:8080/"
        }
      },
      "source": [
        "X[0]"
      ],
      "execution_count": 89,
      "outputs": [
        {
          "output_type": "execute_result",
          "data": {
            "text/plain": [
              "array([0.76501938, 0.7562984 , 0.78149225, 0.78875969, 0.77083338,\n",
              "       0.74806197, 0.75436047, 0.75823643, 0.76598837, 0.76598837,\n",
              "       0.76017437, 0.75872098, 0.75581391, 0.74467054, 0.7374031 ,\n",
              "       0.7374031 , 0.73498067, 0.75242248, 0.73401163, 0.71656977,\n",
              "       0.68120155, 0.67538755, 0.67635659, 0.63372098, 0.66521318,\n",
              "       0.65649225, 0.64680228, 0.66618222, 0.65843028, 0.64970935,\n",
              "       0.65116274, 0.66424419, 0.67344961, 0.64292631, 0.64486434,\n",
              "       0.62257747, 0.60949617, 0.60998067, 0.60852713, 0.59593023,\n",
              "       0.61143411, 0.60222863, 0.64922481, 0.68362398, 0.70687989,\n",
              "       0.68265509, 0.70978682, 0.70784879, 0.71608527, 0.73643411,\n",
              "       0.7122093 , 0.7122093 , 0.7194767 , 0.70348832, 0.69525189,\n",
              "       0.70397287, 0.70397287, 0.69767442, 0.68168605, 0.68168605,\n",
              "       0.65310078, 0.66618222, 0.64825581, 0.66182175, 0.64341085,\n",
              "       0.67877902, 0.69137592, 0.66569772, 0.65406982, 0.64292631,\n",
              "       0.64147292, 0.63565891, 0.67587209, 0.68653106, 0.70300383,\n",
              "       0.71996119, 0.73982553, 0.76550388, 0.74854651, 0.75823643,\n",
              "       0.78924419, 0.76598837, 0.78488372, 0.80184109, 0.77761628,\n",
              "       0.77325581, 0.7562984 , 0.74273261, 0.74127907, 0.74224806])"
            ]
          },
          "metadata": {},
          "execution_count": 89
        }
      ]
    },
    {
      "cell_type": "code",
      "metadata": {
        "id": "ZX31xR2la62y",
        "outputId": "9adc0214-4af5-4a7b-a389-ddeac0c00f1e",
        "colab": {
          "base_uri": "https://localhost:8080/"
        }
      },
      "source": [
        "y[0]"
      ],
      "execution_count": 90,
      "outputs": [
        {
          "output_type": "execute_result",
          "data": {
            "text/plain": [
              "0.7611434108527131"
            ]
          },
          "metadata": {},
          "execution_count": 90
        }
      ]
    },
    {
      "cell_type": "code",
      "metadata": {
        "id": "kRCYGjdHa_CY",
        "outputId": "79d5860b-c28a-4a02-8380-b9d7dbe7998d",
        "colab": {
          "base_uri": "https://localhost:8080/"
        }
      },
      "source": [
        "X[1]"
      ],
      "execution_count": 91,
      "outputs": [
        {
          "output_type": "execute_result",
          "data": {
            "text/plain": [
              "array([0.7562984 , 0.78149225, 0.78875969, 0.77083338, 0.74806197,\n",
              "       0.75436047, 0.75823643, 0.76598837, 0.76598837, 0.76017437,\n",
              "       0.75872098, 0.75581391, 0.74467054, 0.7374031 , 0.7374031 ,\n",
              "       0.73498067, 0.75242248, 0.73401163, 0.71656977, 0.68120155,\n",
              "       0.67538755, 0.67635659, 0.63372098, 0.66521318, 0.65649225,\n",
              "       0.64680228, 0.66618222, 0.65843028, 0.64970935, 0.65116274,\n",
              "       0.66424419, 0.67344961, 0.64292631, 0.64486434, 0.62257747,\n",
              "       0.60949617, 0.60998067, 0.60852713, 0.59593023, 0.61143411,\n",
              "       0.60222863, 0.64922481, 0.68362398, 0.70687989, 0.68265509,\n",
              "       0.70978682, 0.70784879, 0.71608527, 0.73643411, 0.7122093 ,\n",
              "       0.7122093 , 0.7194767 , 0.70348832, 0.69525189, 0.70397287,\n",
              "       0.70397287, 0.69767442, 0.68168605, 0.68168605, 0.65310078,\n",
              "       0.66618222, 0.64825581, 0.66182175, 0.64341085, 0.67877902,\n",
              "       0.69137592, 0.66569772, 0.65406982, 0.64292631, 0.64147292,\n",
              "       0.63565891, 0.67587209, 0.68653106, 0.70300383, 0.71996119,\n",
              "       0.73982553, 0.76550388, 0.74854651, 0.75823643, 0.78924419,\n",
              "       0.76598837, 0.78488372, 0.80184109, 0.77761628, 0.77325581,\n",
              "       0.7562984 , 0.74273261, 0.74127907, 0.74224806, 0.76114341])"
            ]
          },
          "metadata": {},
          "execution_count": 91
        }
      ]
    },
    {
      "cell_type": "code",
      "metadata": {
        "id": "5JYwKblKbIiN",
        "outputId": "294d7564-4344-410e-ef92-c4d19e907fc5",
        "colab": {
          "base_uri": "https://localhost:8080/"
        }
      },
      "source": [
        "y[1]"
      ],
      "execution_count": 92,
      "outputs": [
        {
          "output_type": "execute_result",
          "data": {
            "text/plain": [
              "0.7611434108527131"
            ]
          },
          "metadata": {},
          "execution_count": 92
        }
      ]
    },
    {
      "cell_type": "code",
      "metadata": {
        "id": "WO5uZ5UDbNEA"
      },
      "source": [
        "X = torch.tensor(X, dtype=torch.float32)\n",
        "y = torch.tensor(y, dtype=torch.float32)"
      ],
      "execution_count": 93,
      "outputs": []
    },
    {
      "cell_type": "code",
      "metadata": {
        "id": "g0j6uH1kbTnO"
      },
      "source": [
        "dataset = torch.utils.data.TensorDataset(X, y)\n",
        "loader = torch.utils.data.DataLoader(dataset, batch_size=32, shuffle=True)"
      ],
      "execution_count": 94,
      "outputs": []
    },
    {
      "cell_type": "markdown",
      "metadata": {
        "id": "QGDLesyDQpIb"
      },
      "source": [
        "## Etapa 3: Construção da rede neural recorrente"
      ]
    },
    {
      "cell_type": "code",
      "metadata": {
        "id": "NPwFS6SScThE"
      },
      "source": [
        "class regressor_LSTM(nn.Module):\n",
        "  def __init__(self):\n",
        "    super().__init__()\n",
        "    #input_size = total de atributos de entrada.... por mais que seja 90, sao msm atributos\n",
        "    #hidden_size = total de neuronio escondido\n",
        "    self.lstm1 = nn.LSTM(input_size=1, hidden_size=100)\n",
        "    self.lstm2 = nn.LSTM(100, 50)\n",
        "    #num_layers = numero de camadas recorrentes juntas em formato de pilha\n",
        "    self.lstm3 = nn.LSTM(50, 50, dropout = 0.3, num_layers=2)\n",
        "    self.dropout = nn.Dropout(p = 0.3)\n",
        "    self.linear = nn.Linear(in_features=50, out_features=1)\n",
        "\n",
        "  def forward(self, X):\n",
        "    # (batch_size, timesteps) -> (timesteps, batch_size, dimensions)\n",
        "    X = X.permute(1, 0).unsqueeze(2)\n",
        "    X, _ = self.lstm1(X)\n",
        "    X = self.dropout(X)\n",
        "    X, _ = self.lstm2(X)\n",
        "    X = self.dropout(X)\n",
        "    X, _ = self.lstm3(X)\n",
        "\n",
        "    X = X[-1] # queremos somente o ultimo valor dado os anteriores\n",
        "    X = self.dropout(X)\n",
        "    X = self.linear(X)\n",
        "\n",
        "    return X"
      ],
      "execution_count": 95,
      "outputs": []
    },
    {
      "cell_type": "code",
      "metadata": {
        "id": "pJqCrc3cfLgg",
        "outputId": "92d4e0d0-7898-48aa-857a-df83310a8125",
        "colab": {
          "base_uri": "https://localhost:8080/"
        }
      },
      "source": [
        "device = torch.device('cuda') if torch.cuda.is_available else torch.device('cpu')\n",
        "device"
      ],
      "execution_count": 96,
      "outputs": [
        {
          "output_type": "execute_result",
          "data": {
            "text/plain": [
              "device(type='cuda')"
            ]
          },
          "metadata": {},
          "execution_count": 96
        }
      ]
    },
    {
      "cell_type": "code",
      "metadata": {
        "id": "hShspfqhfUH5"
      },
      "source": [
        "regressor = regressor_LSTM()\n",
        "criterion = nn.MSELoss()\n",
        "# Atenção: caso você tenha sempre os mesmos resultados de previsões, utilize os parâmetros lr e alpha abaixo\n",
        "optimizer = optim.RMSprop(regressor.parameters(), lr = 1e-3, alpha = 0.9)"
      ],
      "execution_count": 97,
      "outputs": []
    },
    {
      "cell_type": "code",
      "metadata": {
        "id": "-q2FbKBhffed",
        "outputId": "94adf6d2-9882-47e1-bdf6-9e796fc016e2",
        "colab": {
          "base_uri": "https://localhost:8080/"
        }
      },
      "source": [
        "regressor.to(device)"
      ],
      "execution_count": 98,
      "outputs": [
        {
          "output_type": "execute_result",
          "data": {
            "text/plain": [
              "regressor_LSTM(\n",
              "  (lstm1): LSTM(1, 100)\n",
              "  (lstm2): LSTM(100, 50)\n",
              "  (lstm3): LSTM(50, 50, num_layers=2, dropout=0.3)\n",
              "  (dropout): Dropout(p=0.3, inplace=False)\n",
              "  (linear): Linear(in_features=50, out_features=1, bias=True)\n",
              ")"
            ]
          },
          "metadata": {},
          "execution_count": 98
        }
      ]
    },
    {
      "cell_type": "markdown",
      "metadata": {
        "id": "appMwDHtRTN5"
      },
      "source": [
        "## Etapa 4: Treinamento do modelo"
      ]
    },
    {
      "cell_type": "code",
      "metadata": {
        "id": "OxqnJdUsELbQ",
        "outputId": "4b17cfaf-19ad-48ab-ee94-0143058a1950",
        "colab": {
          "base_uri": "https://localhost:8080/"
        }
      },
      "source": [
        "for epoch in range(100):\n",
        "    running_loss = 0.\n",
        "    running_mae = 0.\n",
        "\n",
        "    for i, data in enumerate(loader):\n",
        "        inputs, labels = data\n",
        "        inputs, labels = inputs.to(device), labels.to(device)\n",
        "\n",
        "        optimizer.zero_grad()\n",
        "\n",
        "        outputs = regressor(inputs)\n",
        "        outputs = outputs.flatten()\n",
        "\n",
        "        loss = criterion(outputs, labels)\n",
        "        loss.backward()\n",
        "\n",
        "        optimizer.step()\n",
        "\n",
        "        running_loss += loss.item()\n",
        "\n",
        "        mae = mean_absolute_error(labels.detach().cpu().numpy().flatten(),\n",
        "                                  outputs.detach().cpu().numpy().flatten())\n",
        "        running_mae += mae\n",
        "\n",
        "        # Imprimindo os dados referentes a esse loop\n",
        "        print('\\rÉpoca {:3d} - Loop {:3d} de {:3d}: custo {:03.5f} - MAE {:03.5f}'.format(epoch+1, i+1, len(loader), loss, mae), end = '\\r')\n",
        "\n",
        "    # Imprimindo os dados referentes a essa época\n",
        "    running_loss /= len(loader)\n",
        "    running_mae /= len(loader)\n",
        "    print('ÉPOCA {:3d} FINALIZADA: custo {:03.6f} - MAE {:03.6f}     '.format(epoch+1, running_loss, running_mae))"
      ],
      "execution_count": 99,
      "outputs": [
        {
          "output_type": "stream",
          "name": "stdout",
          "text": [
            "ÉPOCA   1 FINALIZADA: custo 0.051818 - MAE 0.179610     \n",
            "ÉPOCA   2 FINALIZADA: custo 0.022988 - MAE 0.122371     \n",
            "ÉPOCA   3 FINALIZADA: custo 0.017939 - MAE 0.107119     \n",
            "ÉPOCA   4 FINALIZADA: custo 0.011247 - MAE 0.084640     \n",
            "ÉPOCA   5 FINALIZADA: custo 0.010136 - MAE 0.080257     \n",
            "ÉPOCA   6 FINALIZADA: custo 0.009552 - MAE 0.077221     \n",
            "ÉPOCA   7 FINALIZADA: custo 0.008561 - MAE 0.072115     \n",
            "ÉPOCA   8 FINALIZADA: custo 0.007380 - MAE 0.065666     \n",
            "ÉPOCA   9 FINALIZADA: custo 0.007606 - MAE 0.068027     \n",
            "ÉPOCA  10 FINALIZADA: custo 0.006253 - MAE 0.061937     \n",
            "ÉPOCA  11 FINALIZADA: custo 0.006483 - MAE 0.063511     \n",
            "ÉPOCA  12 FINALIZADA: custo 0.006418 - MAE 0.061420     \n",
            "ÉPOCA  13 FINALIZADA: custo 0.005556 - MAE 0.058608     \n",
            "ÉPOCA  14 FINALIZADA: custo 0.005137 - MAE 0.055452     \n",
            "ÉPOCA  15 FINALIZADA: custo 0.004936 - MAE 0.054623     \n",
            "ÉPOCA  16 FINALIZADA: custo 0.005317 - MAE 0.056220     \n",
            "ÉPOCA  17 FINALIZADA: custo 0.004192 - MAE 0.050437     \n",
            "ÉPOCA  18 FINALIZADA: custo 0.004868 - MAE 0.053348     \n",
            "ÉPOCA  19 FINALIZADA: custo 0.004489 - MAE 0.050300     \n",
            "ÉPOCA  20 FINALIZADA: custo 0.004129 - MAE 0.048931     \n",
            "ÉPOCA  21 FINALIZADA: custo 0.004070 - MAE 0.048999     \n",
            "ÉPOCA  22 FINALIZADA: custo 0.003886 - MAE 0.048661     \n",
            "ÉPOCA  23 FINALIZADA: custo 0.003771 - MAE 0.046787     \n",
            "ÉPOCA  24 FINALIZADA: custo 0.003453 - MAE 0.045561     \n",
            "ÉPOCA  25 FINALIZADA: custo 0.003649 - MAE 0.046854     \n",
            "ÉPOCA  26 FINALIZADA: custo 0.003811 - MAE 0.047262     \n",
            "ÉPOCA  27 FINALIZADA: custo 0.003464 - MAE 0.046154     \n",
            "ÉPOCA  28 FINALIZADA: custo 0.003141 - MAE 0.042366     \n",
            "ÉPOCA  29 FINALIZADA: custo 0.003505 - MAE 0.044696     \n",
            "ÉPOCA  30 FINALIZADA: custo 0.003335 - MAE 0.044170     \n",
            "ÉPOCA  31 FINALIZADA: custo 0.003020 - MAE 0.042455     \n",
            "ÉPOCA  32 FINALIZADA: custo 0.003114 - MAE 0.043046     \n",
            "ÉPOCA  33 FINALIZADA: custo 0.003322 - MAE 0.044086     \n",
            "ÉPOCA  34 FINALIZADA: custo 0.002796 - MAE 0.041324     \n",
            "ÉPOCA  35 FINALIZADA: custo 0.002685 - MAE 0.040609     \n",
            "ÉPOCA  36 FINALIZADA: custo 0.003007 - MAE 0.042069     \n",
            "ÉPOCA  37 FINALIZADA: custo 0.002798 - MAE 0.039426     \n",
            "ÉPOCA  38 FINALIZADA: custo 0.002607 - MAE 0.038394     \n",
            "ÉPOCA  39 FINALIZADA: custo 0.002901 - MAE 0.041659     \n",
            "ÉPOCA  40 FINALIZADA: custo 0.002878 - MAE 0.040953     \n",
            "ÉPOCA  41 FINALIZADA: custo 0.002653 - MAE 0.038695     \n",
            "ÉPOCA  42 FINALIZADA: custo 0.002875 - MAE 0.039789     \n",
            "ÉPOCA  43 FINALIZADA: custo 0.002547 - MAE 0.038880     \n",
            "ÉPOCA  44 FINALIZADA: custo 0.002414 - MAE 0.037791     \n",
            "ÉPOCA  45 FINALIZADA: custo 0.002407 - MAE 0.037569     \n",
            "ÉPOCA  46 FINALIZADA: custo 0.002480 - MAE 0.038353     \n",
            "ÉPOCA  47 FINALIZADA: custo 0.002421 - MAE 0.036478     \n",
            "ÉPOCA  48 FINALIZADA: custo 0.002352 - MAE 0.037317     \n",
            "ÉPOCA  49 FINALIZADA: custo 0.002383 - MAE 0.037608     \n",
            "ÉPOCA  50 FINALIZADA: custo 0.002426 - MAE 0.037482     \n",
            "ÉPOCA  51 FINALIZADA: custo 0.002241 - MAE 0.035787     \n",
            "ÉPOCA  52 FINALIZADA: custo 0.002085 - MAE 0.035589     \n",
            "ÉPOCA  53 FINALIZADA: custo 0.002075 - MAE 0.034440     \n",
            "ÉPOCA  54 FINALIZADA: custo 0.002130 - MAE 0.034408     \n",
            "ÉPOCA  55 FINALIZADA: custo 0.002168 - MAE 0.034994     \n",
            "ÉPOCA  56 FINALIZADA: custo 0.001957 - MAE 0.033580     \n",
            "ÉPOCA  57 FINALIZADA: custo 0.002012 - MAE 0.033933     \n",
            "ÉPOCA  58 FINALIZADA: custo 0.002215 - MAE 0.035426     \n",
            "ÉPOCA  59 FINALIZADA: custo 0.002036 - MAE 0.033710     \n",
            "ÉPOCA  60 FINALIZADA: custo 0.002113 - MAE 0.035259     \n",
            "ÉPOCA  61 FINALIZADA: custo 0.002093 - MAE 0.034813     \n",
            "ÉPOCA  62 FINALIZADA: custo 0.001885 - MAE 0.032967     \n",
            "ÉPOCA  63 FINALIZADA: custo 0.001912 - MAE 0.033303     \n",
            "ÉPOCA  64 FINALIZADA: custo 0.001859 - MAE 0.033079     \n",
            "ÉPOCA  65 FINALIZADA: custo 0.001987 - MAE 0.034442     \n",
            "ÉPOCA  66 FINALIZADA: custo 0.001853 - MAE 0.031902     \n",
            "ÉPOCA  67 FINALIZADA: custo 0.002046 - MAE 0.034560     \n",
            "ÉPOCA  68 FINALIZADA: custo 0.001943 - MAE 0.033531     \n",
            "ÉPOCA  69 FINALIZADA: custo 0.001748 - MAE 0.031756     \n",
            "ÉPOCA  70 FINALIZADA: custo 0.001897 - MAE 0.033248     \n",
            "ÉPOCA  71 FINALIZADA: custo 0.001883 - MAE 0.033191     \n",
            "ÉPOCA  72 FINALIZADA: custo 0.001848 - MAE 0.032754     \n",
            "ÉPOCA  73 FINALIZADA: custo 0.001707 - MAE 0.031165     \n",
            "ÉPOCA  74 FINALIZADA: custo 0.001774 - MAE 0.032241     \n",
            "ÉPOCA  75 FINALIZADA: custo 0.001733 - MAE 0.031353     \n",
            "ÉPOCA  76 FINALIZADA: custo 0.001752 - MAE 0.031413     \n",
            "ÉPOCA  77 FINALIZADA: custo 0.001864 - MAE 0.031977     \n",
            "ÉPOCA  78 FINALIZADA: custo 0.001666 - MAE 0.031024     \n",
            "ÉPOCA  79 FINALIZADA: custo 0.001763 - MAE 0.032415     \n",
            "ÉPOCA  80 FINALIZADA: custo 0.001600 - MAE 0.029847     \n",
            "ÉPOCA  81 FINALIZADA: custo 0.001796 - MAE 0.031909     \n",
            "ÉPOCA  82 FINALIZADA: custo 0.001684 - MAE 0.030548     \n",
            "ÉPOCA  83 FINALIZADA: custo 0.001791 - MAE 0.031868     \n",
            "ÉPOCA  84 FINALIZADA: custo 0.001595 - MAE 0.030462     \n",
            "ÉPOCA  85 FINALIZADA: custo 0.001643 - MAE 0.030034     \n",
            "ÉPOCA  86 FINALIZADA: custo 0.001667 - MAE 0.031067     \n",
            "ÉPOCA  87 FINALIZADA: custo 0.001538 - MAE 0.029653     \n",
            "ÉPOCA  88 FINALIZADA: custo 0.001585 - MAE 0.029813     \n",
            "ÉPOCA  89 FINALIZADA: custo 0.001719 - MAE 0.030622     \n",
            "ÉPOCA  90 FINALIZADA: custo 0.001595 - MAE 0.029673     \n",
            "ÉPOCA  91 FINALIZADA: custo 0.001543 - MAE 0.029267     \n",
            "ÉPOCA  92 FINALIZADA: custo 0.001507 - MAE 0.028912     \n",
            "ÉPOCA  93 FINALIZADA: custo 0.001663 - MAE 0.030145     \n",
            "ÉPOCA  94 FINALIZADA: custo 0.001427 - MAE 0.028396     \n",
            "ÉPOCA  95 FINALIZADA: custo 0.001556 - MAE 0.029021     \n",
            "ÉPOCA  96 FINALIZADA: custo 0.001634 - MAE 0.030732     \n",
            "ÉPOCA  97 FINALIZADA: custo 0.001592 - MAE 0.029983     \n",
            "ÉPOCA  98 FINALIZADA: custo 0.001576 - MAE 0.030193     \n",
            "ÉPOCA  99 FINALIZADA: custo 0.001566 - MAE 0.029496     \n",
            "ÉPOCA 100 FINALIZADA: custo 0.001507 - MAE 0.028661     \n"
          ]
        }
      ]
    },
    {
      "cell_type": "markdown",
      "metadata": {
        "id": "AyTjLzELSdQF"
      },
      "source": [
        "## Etapa 5: Processamento da base de teste"
      ]
    },
    {
      "cell_type": "code",
      "metadata": {
        "id": "9YBWRBMqhox5"
      },
      "source": [
        "base_teste = pd.read_csv('/content/petr4_teste.csv')"
      ],
      "execution_count": 100,
      "outputs": []
    },
    {
      "cell_type": "code",
      "metadata": {
        "id": "qWiRDXozh5sV",
        "outputId": "53f89c13-b069-4f8f-8f95-80c2697bc74f",
        "colab": {
          "base_uri": "https://localhost:8080/"
        }
      },
      "source": [
        "base_teste.shape"
      ],
      "execution_count": 101,
      "outputs": [
        {
          "output_type": "execute_result",
          "data": {
            "text/plain": [
              "(22, 7)"
            ]
          },
          "metadata": {},
          "execution_count": 101
        }
      ]
    },
    {
      "cell_type": "code",
      "metadata": {
        "id": "yeSPQ_hUiAPP",
        "outputId": "250d29ce-99c6-4047-8527-ceed11ccab47",
        "colab": {
          "base_uri": "https://localhost:8080/",
          "height": 739
        }
      },
      "source": [
        "base.head(22)"
      ],
      "execution_count": 102,
      "outputs": [
        {
          "output_type": "execute_result",
          "data": {
            "text/plain": [
              "          Date       Open       High        Low      Close  Adj Close  \\\n",
              "0   2013-01-02  19.990000  20.209999  19.690001  19.690001  18.086271   \n",
              "1   2013-01-03  19.809999  20.400000  19.700001  20.400000  18.738441   \n",
              "2   2013-01-04  20.330000  20.620001  20.170000  20.430000  18.766001   \n",
              "3   2013-01-07  20.480000  20.670000  19.950001  20.080000  18.444506   \n",
              "4   2013-01-08  20.110001  20.230000  19.459999  19.500000  17.911745   \n",
              "5   2013-01-09  19.639999  19.870001  19.459999  19.680000  18.077084   \n",
              "6   2013-01-10  19.770000  20.049999  19.540001  19.830000  18.214869   \n",
              "7   2013-01-11  19.850000  20.040001  19.700001  19.879999  18.260794   \n",
              "8   2013-01-14  20.010000  20.240000  19.690001  19.719999  18.113827   \n",
              "9   2013-01-15  20.010000  20.240000  19.690001  19.820000  18.205681   \n",
              "10  2013-01-16  19.889999  19.889999  19.600000  19.840000  18.224054   \n",
              "11  2013-01-17  19.860001  19.930000  19.600000  19.709999  18.104639   \n",
              "12  2013-01-18  19.799999  19.889999  19.540001  19.580000  17.985229   \n",
              "13  2013-01-21  19.570000  19.600000  19.270000  19.389999  17.810705   \n",
              "14  2013-01-22  19.420000  19.610001  19.230000  19.580000  17.985229   \n",
              "15  2013-01-23  19.420000  19.629999  19.230000  19.549999  17.957674   \n",
              "16  2013-01-24  19.370001  19.750000  19.370001  19.610001  18.012787   \n",
              "17  2013-01-28  19.730000  19.809999  19.270000  19.370001  17.792336   \n",
              "18  2013-01-29  19.350000  19.370001  18.840000  19.110001  17.553513   \n",
              "19  2013-01-30  18.990000  18.990000  18.170000  18.200001  16.717628   \n",
              "20  2013-01-31  18.260000  18.330000  17.900000  18.080000  16.607405   \n",
              "21  2013-02-01  18.139999  18.650000  18.120001  18.459999  16.956451   \n",
              "\n",
              "        Volume  \n",
              "0   30182600.0  \n",
              "1   30552600.0  \n",
              "2   36141000.0  \n",
              "3   28069600.0  \n",
              "4   29091300.0  \n",
              "5   24361100.0  \n",
              "6   17526200.0  \n",
              "7   18223600.0  \n",
              "8   28302400.0  \n",
              "9   29633900.0  \n",
              "10  16787800.0  \n",
              "11  19719600.0  \n",
              "12  18913900.0  \n",
              "13  18086200.0  \n",
              "14  23535100.0  \n",
              "15  17200800.0  \n",
              "16  19612600.0  \n",
              "17  20122600.0  \n",
              "18  27097900.0  \n",
              "19  66985800.0  \n",
              "20  33246400.0  \n",
              "21  28860400.0  "
            ],
            "text/html": [
              "\n",
              "  <div id=\"df-e776dec6-d657-47f3-ac75-f6f3af46bddb\">\n",
              "    <div class=\"colab-df-container\">\n",
              "      <div>\n",
              "<style scoped>\n",
              "    .dataframe tbody tr th:only-of-type {\n",
              "        vertical-align: middle;\n",
              "    }\n",
              "\n",
              "    .dataframe tbody tr th {\n",
              "        vertical-align: top;\n",
              "    }\n",
              "\n",
              "    .dataframe thead th {\n",
              "        text-align: right;\n",
              "    }\n",
              "</style>\n",
              "<table border=\"1\" class=\"dataframe\">\n",
              "  <thead>\n",
              "    <tr style=\"text-align: right;\">\n",
              "      <th></th>\n",
              "      <th>Date</th>\n",
              "      <th>Open</th>\n",
              "      <th>High</th>\n",
              "      <th>Low</th>\n",
              "      <th>Close</th>\n",
              "      <th>Adj Close</th>\n",
              "      <th>Volume</th>\n",
              "    </tr>\n",
              "  </thead>\n",
              "  <tbody>\n",
              "    <tr>\n",
              "      <th>0</th>\n",
              "      <td>2013-01-02</td>\n",
              "      <td>19.990000</td>\n",
              "      <td>20.209999</td>\n",
              "      <td>19.690001</td>\n",
              "      <td>19.690001</td>\n",
              "      <td>18.086271</td>\n",
              "      <td>30182600.0</td>\n",
              "    </tr>\n",
              "    <tr>\n",
              "      <th>1</th>\n",
              "      <td>2013-01-03</td>\n",
              "      <td>19.809999</td>\n",
              "      <td>20.400000</td>\n",
              "      <td>19.700001</td>\n",
              "      <td>20.400000</td>\n",
              "      <td>18.738441</td>\n",
              "      <td>30552600.0</td>\n",
              "    </tr>\n",
              "    <tr>\n",
              "      <th>2</th>\n",
              "      <td>2013-01-04</td>\n",
              "      <td>20.330000</td>\n",
              "      <td>20.620001</td>\n",
              "      <td>20.170000</td>\n",
              "      <td>20.430000</td>\n",
              "      <td>18.766001</td>\n",
              "      <td>36141000.0</td>\n",
              "    </tr>\n",
              "    <tr>\n",
              "      <th>3</th>\n",
              "      <td>2013-01-07</td>\n",
              "      <td>20.480000</td>\n",
              "      <td>20.670000</td>\n",
              "      <td>19.950001</td>\n",
              "      <td>20.080000</td>\n",
              "      <td>18.444506</td>\n",
              "      <td>28069600.0</td>\n",
              "    </tr>\n",
              "    <tr>\n",
              "      <th>4</th>\n",
              "      <td>2013-01-08</td>\n",
              "      <td>20.110001</td>\n",
              "      <td>20.230000</td>\n",
              "      <td>19.459999</td>\n",
              "      <td>19.500000</td>\n",
              "      <td>17.911745</td>\n",
              "      <td>29091300.0</td>\n",
              "    </tr>\n",
              "    <tr>\n",
              "      <th>5</th>\n",
              "      <td>2013-01-09</td>\n",
              "      <td>19.639999</td>\n",
              "      <td>19.870001</td>\n",
              "      <td>19.459999</td>\n",
              "      <td>19.680000</td>\n",
              "      <td>18.077084</td>\n",
              "      <td>24361100.0</td>\n",
              "    </tr>\n",
              "    <tr>\n",
              "      <th>6</th>\n",
              "      <td>2013-01-10</td>\n",
              "      <td>19.770000</td>\n",
              "      <td>20.049999</td>\n",
              "      <td>19.540001</td>\n",
              "      <td>19.830000</td>\n",
              "      <td>18.214869</td>\n",
              "      <td>17526200.0</td>\n",
              "    </tr>\n",
              "    <tr>\n",
              "      <th>7</th>\n",
              "      <td>2013-01-11</td>\n",
              "      <td>19.850000</td>\n",
              "      <td>20.040001</td>\n",
              "      <td>19.700001</td>\n",
              "      <td>19.879999</td>\n",
              "      <td>18.260794</td>\n",
              "      <td>18223600.0</td>\n",
              "    </tr>\n",
              "    <tr>\n",
              "      <th>8</th>\n",
              "      <td>2013-01-14</td>\n",
              "      <td>20.010000</td>\n",
              "      <td>20.240000</td>\n",
              "      <td>19.690001</td>\n",
              "      <td>19.719999</td>\n",
              "      <td>18.113827</td>\n",
              "      <td>28302400.0</td>\n",
              "    </tr>\n",
              "    <tr>\n",
              "      <th>9</th>\n",
              "      <td>2013-01-15</td>\n",
              "      <td>20.010000</td>\n",
              "      <td>20.240000</td>\n",
              "      <td>19.690001</td>\n",
              "      <td>19.820000</td>\n",
              "      <td>18.205681</td>\n",
              "      <td>29633900.0</td>\n",
              "    </tr>\n",
              "    <tr>\n",
              "      <th>10</th>\n",
              "      <td>2013-01-16</td>\n",
              "      <td>19.889999</td>\n",
              "      <td>19.889999</td>\n",
              "      <td>19.600000</td>\n",
              "      <td>19.840000</td>\n",
              "      <td>18.224054</td>\n",
              "      <td>16787800.0</td>\n",
              "    </tr>\n",
              "    <tr>\n",
              "      <th>11</th>\n",
              "      <td>2013-01-17</td>\n",
              "      <td>19.860001</td>\n",
              "      <td>19.930000</td>\n",
              "      <td>19.600000</td>\n",
              "      <td>19.709999</td>\n",
              "      <td>18.104639</td>\n",
              "      <td>19719600.0</td>\n",
              "    </tr>\n",
              "    <tr>\n",
              "      <th>12</th>\n",
              "      <td>2013-01-18</td>\n",
              "      <td>19.799999</td>\n",
              "      <td>19.889999</td>\n",
              "      <td>19.540001</td>\n",
              "      <td>19.580000</td>\n",
              "      <td>17.985229</td>\n",
              "      <td>18913900.0</td>\n",
              "    </tr>\n",
              "    <tr>\n",
              "      <th>13</th>\n",
              "      <td>2013-01-21</td>\n",
              "      <td>19.570000</td>\n",
              "      <td>19.600000</td>\n",
              "      <td>19.270000</td>\n",
              "      <td>19.389999</td>\n",
              "      <td>17.810705</td>\n",
              "      <td>18086200.0</td>\n",
              "    </tr>\n",
              "    <tr>\n",
              "      <th>14</th>\n",
              "      <td>2013-01-22</td>\n",
              "      <td>19.420000</td>\n",
              "      <td>19.610001</td>\n",
              "      <td>19.230000</td>\n",
              "      <td>19.580000</td>\n",
              "      <td>17.985229</td>\n",
              "      <td>23535100.0</td>\n",
              "    </tr>\n",
              "    <tr>\n",
              "      <th>15</th>\n",
              "      <td>2013-01-23</td>\n",
              "      <td>19.420000</td>\n",
              "      <td>19.629999</td>\n",
              "      <td>19.230000</td>\n",
              "      <td>19.549999</td>\n",
              "      <td>17.957674</td>\n",
              "      <td>17200800.0</td>\n",
              "    </tr>\n",
              "    <tr>\n",
              "      <th>16</th>\n",
              "      <td>2013-01-24</td>\n",
              "      <td>19.370001</td>\n",
              "      <td>19.750000</td>\n",
              "      <td>19.370001</td>\n",
              "      <td>19.610001</td>\n",
              "      <td>18.012787</td>\n",
              "      <td>19612600.0</td>\n",
              "    </tr>\n",
              "    <tr>\n",
              "      <th>17</th>\n",
              "      <td>2013-01-28</td>\n",
              "      <td>19.730000</td>\n",
              "      <td>19.809999</td>\n",
              "      <td>19.270000</td>\n",
              "      <td>19.370001</td>\n",
              "      <td>17.792336</td>\n",
              "      <td>20122600.0</td>\n",
              "    </tr>\n",
              "    <tr>\n",
              "      <th>18</th>\n",
              "      <td>2013-01-29</td>\n",
              "      <td>19.350000</td>\n",
              "      <td>19.370001</td>\n",
              "      <td>18.840000</td>\n",
              "      <td>19.110001</td>\n",
              "      <td>17.553513</td>\n",
              "      <td>27097900.0</td>\n",
              "    </tr>\n",
              "    <tr>\n",
              "      <th>19</th>\n",
              "      <td>2013-01-30</td>\n",
              "      <td>18.990000</td>\n",
              "      <td>18.990000</td>\n",
              "      <td>18.170000</td>\n",
              "      <td>18.200001</td>\n",
              "      <td>16.717628</td>\n",
              "      <td>66985800.0</td>\n",
              "    </tr>\n",
              "    <tr>\n",
              "      <th>20</th>\n",
              "      <td>2013-01-31</td>\n",
              "      <td>18.260000</td>\n",
              "      <td>18.330000</td>\n",
              "      <td>17.900000</td>\n",
              "      <td>18.080000</td>\n",
              "      <td>16.607405</td>\n",
              "      <td>33246400.0</td>\n",
              "    </tr>\n",
              "    <tr>\n",
              "      <th>21</th>\n",
              "      <td>2013-02-01</td>\n",
              "      <td>18.139999</td>\n",
              "      <td>18.650000</td>\n",
              "      <td>18.120001</td>\n",
              "      <td>18.459999</td>\n",
              "      <td>16.956451</td>\n",
              "      <td>28860400.0</td>\n",
              "    </tr>\n",
              "  </tbody>\n",
              "</table>\n",
              "</div>\n",
              "      <button class=\"colab-df-convert\" onclick=\"convertToInteractive('df-e776dec6-d657-47f3-ac75-f6f3af46bddb')\"\n",
              "              title=\"Convert this dataframe to an interactive table.\"\n",
              "              style=\"display:none;\">\n",
              "        \n",
              "  <svg xmlns=\"http://www.w3.org/2000/svg\" height=\"24px\"viewBox=\"0 0 24 24\"\n",
              "       width=\"24px\">\n",
              "    <path d=\"M0 0h24v24H0V0z\" fill=\"none\"/>\n",
              "    <path d=\"M18.56 5.44l.94 2.06.94-2.06 2.06-.94-2.06-.94-.94-2.06-.94 2.06-2.06.94zm-11 1L8.5 8.5l.94-2.06 2.06-.94-2.06-.94L8.5 2.5l-.94 2.06-2.06.94zm10 10l.94 2.06.94-2.06 2.06-.94-2.06-.94-.94-2.06-.94 2.06-2.06.94z\"/><path d=\"M17.41 7.96l-1.37-1.37c-.4-.4-.92-.59-1.43-.59-.52 0-1.04.2-1.43.59L10.3 9.45l-7.72 7.72c-.78.78-.78 2.05 0 2.83L4 21.41c.39.39.9.59 1.41.59.51 0 1.02-.2 1.41-.59l7.78-7.78 2.81-2.81c.8-.78.8-2.07 0-2.86zM5.41 20L4 18.59l7.72-7.72 1.47 1.35L5.41 20z\"/>\n",
              "  </svg>\n",
              "      </button>\n",
              "      \n",
              "  <style>\n",
              "    .colab-df-container {\n",
              "      display:flex;\n",
              "      flex-wrap:wrap;\n",
              "      gap: 12px;\n",
              "    }\n",
              "\n",
              "    .colab-df-convert {\n",
              "      background-color: #E8F0FE;\n",
              "      border: none;\n",
              "      border-radius: 50%;\n",
              "      cursor: pointer;\n",
              "      display: none;\n",
              "      fill: #1967D2;\n",
              "      height: 32px;\n",
              "      padding: 0 0 0 0;\n",
              "      width: 32px;\n",
              "    }\n",
              "\n",
              "    .colab-df-convert:hover {\n",
              "      background-color: #E2EBFA;\n",
              "      box-shadow: 0px 1px 2px rgba(60, 64, 67, 0.3), 0px 1px 3px 1px rgba(60, 64, 67, 0.15);\n",
              "      fill: #174EA6;\n",
              "    }\n",
              "\n",
              "    [theme=dark] .colab-df-convert {\n",
              "      background-color: #3B4455;\n",
              "      fill: #D2E3FC;\n",
              "    }\n",
              "\n",
              "    [theme=dark] .colab-df-convert:hover {\n",
              "      background-color: #434B5C;\n",
              "      box-shadow: 0px 1px 3px 1px rgba(0, 0, 0, 0.15);\n",
              "      filter: drop-shadow(0px 1px 2px rgba(0, 0, 0, 0.3));\n",
              "      fill: #FFFFFF;\n",
              "    }\n",
              "  </style>\n",
              "\n",
              "      <script>\n",
              "        const buttonEl =\n",
              "          document.querySelector('#df-e776dec6-d657-47f3-ac75-f6f3af46bddb button.colab-df-convert');\n",
              "        buttonEl.style.display =\n",
              "          google.colab.kernel.accessAllowed ? 'block' : 'none';\n",
              "\n",
              "        async function convertToInteractive(key) {\n",
              "          const element = document.querySelector('#df-e776dec6-d657-47f3-ac75-f6f3af46bddb');\n",
              "          const dataTable =\n",
              "            await google.colab.kernel.invokeFunction('convertToInteractive',\n",
              "                                                     [key], {});\n",
              "          if (!dataTable) return;\n",
              "\n",
              "          const docLinkHtml = 'Like what you see? Visit the ' +\n",
              "            '<a target=\"_blank\" href=https://colab.research.google.com/notebooks/data_table.ipynb>data table notebook</a>'\n",
              "            + ' to learn more about interactive tables.';\n",
              "          element.innerHTML = '';\n",
              "          dataTable['output_type'] = 'display_data';\n",
              "          await google.colab.output.renderOutput(dataTable, element);\n",
              "          const docLink = document.createElement('div');\n",
              "          docLink.innerHTML = docLinkHtml;\n",
              "          element.appendChild(docLink);\n",
              "        }\n",
              "      </script>\n",
              "    </div>\n",
              "  </div>\n",
              "  "
            ]
          },
          "metadata": {},
          "execution_count": 102
        }
      ]
    },
    {
      "cell_type": "code",
      "metadata": {
        "id": "xISUSOahiMyN"
      },
      "source": [
        "preco_real_teste = base_teste.iloc[:, 1:2].values #valores da coluna open"
      ],
      "execution_count": 103,
      "outputs": []
    },
    {
      "cell_type": "code",
      "metadata": {
        "id": "7F5tceV3iSY3",
        "outputId": "75960c5f-6535-4aa8-817d-fa3797a863a8",
        "colab": {
          "base_uri": "https://localhost:8080/"
        }
      },
      "source": [
        "preco_real_teste"
      ],
      "execution_count": 104,
      "outputs": [
        {
          "output_type": "execute_result",
          "data": {
            "text/plain": [
              "array([[16.190001],\n",
              "       [16.49    ],\n",
              "       [16.780001],\n",
              "       [16.700001],\n",
              "       [16.74    ],\n",
              "       [17.030001],\n",
              "       [16.92    ],\n",
              "       [16.879999],\n",
              "       [17.040001],\n",
              "       [17.32    ],\n",
              "       [17.35    ],\n",
              "       [17.92    ],\n",
              "       [18.35    ],\n",
              "       [18.309999],\n",
              "       [18.26    ],\n",
              "       [18.4     ],\n",
              "       [18.42    ],\n",
              "       [19.34    ],\n",
              "       [19.620001],\n",
              "       [19.67    ],\n",
              "       [19.77    ],\n",
              "       [19.74    ]])"
            ]
          },
          "metadata": {},
          "execution_count": 104
        }
      ]
    },
    {
      "cell_type": "code",
      "metadata": {
        "id": "4Q0CLxD1iWg9"
      },
      "source": [
        "base_completa = pd.concat((base['Open'], base_teste['Open']), axis = 0) #concatenando tanto train quanto teste para o treinamento"
      ],
      "execution_count": 105,
      "outputs": []
    },
    {
      "cell_type": "code",
      "metadata": {
        "id": "34dENwaJjBS2",
        "outputId": "9f824278-f115-4d48-adde-094758756855",
        "colab": {
          "base_uri": "https://localhost:8080/"
        }
      },
      "source": [
        "base.shape #base de train"
      ],
      "execution_count": 106,
      "outputs": [
        {
          "output_type": "execute_result",
          "data": {
            "text/plain": [
              "(1242, 7)"
            ]
          },
          "metadata": {},
          "execution_count": 106
        }
      ]
    },
    {
      "cell_type": "code",
      "metadata": {
        "id": "Q7RPWa7Ai-fB",
        "outputId": "e4d116b4-9117-418b-8d0c-98243246142a",
        "colab": {
          "base_uri": "https://localhost:8080/"
        }
      },
      "source": [
        "base_completa.shape #base concatenada"
      ],
      "execution_count": 107,
      "outputs": [
        {
          "output_type": "execute_result",
          "data": {
            "text/plain": [
              "(1264,)"
            ]
          },
          "metadata": {},
          "execution_count": 107
        }
      ]
    },
    {
      "cell_type": "code",
      "metadata": {
        "id": "5Axl0rCRjJ_O"
      },
      "source": [
        "entradas = base_completa[len(base_completa) - len(base_teste) - 90:].values #dessa forma conseguimos pegar os dados anteriores para submeter ao modelo e predizer os atuais"
      ],
      "execution_count": 108,
      "outputs": []
    },
    {
      "cell_type": "code",
      "metadata": {
        "id": "XlHyr12ajbYO",
        "outputId": "1795a6f2-e24e-4b97-eb82-ef49fdcd7200",
        "colab": {
          "base_uri": "https://localhost:8080/"
        }
      },
      "source": [
        "entradas"
      ],
      "execution_count": 109,
      "outputs": [
        {
          "output_type": "execute_result",
          "data": {
            "text/plain": [
              "array([13.93    , 13.76    , 13.79    , 13.53    , 13.85    , 13.96    ,\n",
              "       14.57    , 14.65    , 15.02    , 15.1     , 14.88    , 14.98    ,\n",
              "       14.94    , 15.03    , 15.07    , 15.02    , 15.1     , 15.25    ,\n",
              "       15.85    , 15.6     , 15.79    , 15.86    , 15.7     , 15.37    ,\n",
              "       15.5     , 15.19    , 15.6     , 15.9     , 15.88    , 15.66    ,\n",
              "       15.61    , 16.129999, 16.17    , 16.08    , 16.23    , 16.16    ,\n",
              "       16.139999, 16.219999, 16.      , 16.190001, 16.290001, 16.290001,\n",
              "       16.530001, 16.780001, 16.77    , 16.969999, 16.9     , 16.99    ,\n",
              "       16.9     , 16.959999, 17.049999, 17.309999, 16.690001, 16.889999,\n",
              "       16.709999, 16.690001, 16.639999, 15.35    , 15.62    , 15.92    ,\n",
              "       16.02    , 16.15    , 16.09    , 15.98    , 16.25    , 16.01    ,\n",
              "       15.93    , 15.87    , 15.3     , 15.34    , 15.65    , 15.5     ,\n",
              "       15.22    , 15.3     , 15.51    , 15.48    , 15.36    , 15.65    ,\n",
              "       15.1     , 15.05    , 15.16    , 15.18    , 15.21    , 15.31    ,\n",
              "       15.75    , 15.75    , 15.75    , 15.99    , 16.1     , 16.1     ,\n",
              "       16.190001, 16.49    , 16.780001, 16.700001, 16.74    , 17.030001,\n",
              "       16.92    , 16.879999, 17.040001, 17.32    , 17.35    , 17.92    ,\n",
              "       18.35    , 18.309999, 18.26    , 18.4     , 18.42    , 19.34    ,\n",
              "       19.620001, 19.67    , 19.77    , 19.74    ])"
            ]
          },
          "metadata": {},
          "execution_count": 109
        }
      ]
    },
    {
      "cell_type": "code",
      "metadata": {
        "id": "r41u403FjyAU",
        "outputId": "e2c517b7-026f-40f0-f6e4-515c7c0c3f95",
        "colab": {
          "base_uri": "https://localhost:8080/"
        }
      },
      "source": [
        "entradas.shape"
      ],
      "execution_count": 110,
      "outputs": [
        {
          "output_type": "execute_result",
          "data": {
            "text/plain": [
              "(112,)"
            ]
          },
          "metadata": {},
          "execution_count": 110
        }
      ]
    },
    {
      "cell_type": "code",
      "metadata": {
        "id": "rRxp2PsskIll",
        "outputId": "e29b7890-054b-4b01-8581-84c14ee8f4af",
        "colab": {
          "base_uri": "https://localhost:8080/"
        }
      },
      "source": [
        "entradas = entradas.reshape(-1,1)\n",
        "entradas.shape"
      ],
      "execution_count": 111,
      "outputs": [
        {
          "output_type": "execute_result",
          "data": {
            "text/plain": [
              "(112, 1)"
            ]
          },
          "metadata": {},
          "execution_count": 111
        }
      ]
    },
    {
      "cell_type": "code",
      "metadata": {
        "id": "3C-V1y0skPcL",
        "outputId": "2f0f70c7-2dd9-4d94-ff60-44d5a7c004f4",
        "colab": {
          "base_uri": "https://localhost:8080/"
        }
      },
      "source": [
        "entradas = normalizador.transform(entradas)\n",
        "entradas"
      ],
      "execution_count": 112,
      "outputs": [
        {
          "output_type": "execute_result",
          "data": {
            "text/plain": [
              "array([[0.47141473],\n",
              "       [0.46317829],\n",
              "       [0.46463178],\n",
              "       [0.45203488],\n",
              "       [0.46753876],\n",
              "       [0.47286822],\n",
              "       [0.50242248],\n",
              "       [0.50629845],\n",
              "       [0.52422481],\n",
              "       [0.52810078],\n",
              "       [0.51744186],\n",
              "       [0.52228682],\n",
              "       [0.52034884],\n",
              "       [0.5247093 ],\n",
              "       [0.52664729],\n",
              "       [0.52422481],\n",
              "       [0.52810078],\n",
              "       [0.53536822],\n",
              "       [0.56443798],\n",
              "       [0.55232558],\n",
              "       [0.56153101],\n",
              "       [0.56492248],\n",
              "       [0.55717054],\n",
              "       [0.54118217],\n",
              "       [0.54748062],\n",
              "       [0.53246124],\n",
              "       [0.55232558],\n",
              "       [0.56686047],\n",
              "       [0.56589147],\n",
              "       [0.55523256],\n",
              "       [0.55281008],\n",
              "       [0.57800383],\n",
              "       [0.57994186],\n",
              "       [0.5755814 ],\n",
              "       [0.58284884],\n",
              "       [0.57945736],\n",
              "       [0.57848832],\n",
              "       [0.58236429],\n",
              "       [0.57170543],\n",
              "       [0.5809109 ],\n",
              "       [0.58575586],\n",
              "       [0.58575586],\n",
              "       [0.59738377],\n",
              "       [0.60949617],\n",
              "       [0.60901163],\n",
              "       [0.6187015 ],\n",
              "       [0.61531008],\n",
              "       [0.61967054],\n",
              "       [0.61531008],\n",
              "       [0.61821701],\n",
              "       [0.62257747],\n",
              "       [0.63517437],\n",
              "       [0.60513571],\n",
              "       [0.61482553],\n",
              "       [0.6061046 ],\n",
              "       [0.60513571],\n",
              "       [0.60271313],\n",
              "       [0.54021318],\n",
              "       [0.55329457],\n",
              "       [0.56782946],\n",
              "       [0.57267442],\n",
              "       [0.57897287],\n",
              "       [0.57606589],\n",
              "       [0.57073643],\n",
              "       [0.58381783],\n",
              "       [0.57218992],\n",
              "       [0.56831395],\n",
              "       [0.56540698],\n",
              "       [0.5377907 ],\n",
              "       [0.53972868],\n",
              "       [0.55474806],\n",
              "       [0.54748062],\n",
              "       [0.53391473],\n",
              "       [0.5377907 ],\n",
              "       [0.54796512],\n",
              "       [0.54651163],\n",
              "       [0.54069767],\n",
              "       [0.55474806],\n",
              "       [0.52810078],\n",
              "       [0.52567829],\n",
              "       [0.53100775],\n",
              "       [0.53197674],\n",
              "       [0.53343023],\n",
              "       [0.53827519],\n",
              "       [0.55959302],\n",
              "       [0.55959302],\n",
              "       [0.55959302],\n",
              "       [0.57122093],\n",
              "       [0.57655039],\n",
              "       [0.57655039],\n",
              "       [0.5809109 ],\n",
              "       [0.59544574],\n",
              "       [0.60949617],\n",
              "       [0.6056202 ],\n",
              "       [0.60755814],\n",
              "       [0.62160858],\n",
              "       [0.61627907],\n",
              "       [0.61434104],\n",
              "       [0.62209307],\n",
              "       [0.63565891],\n",
              "       [0.6371124 ],\n",
              "       [0.66472868],\n",
              "       [0.68556202],\n",
              "       [0.68362398],\n",
              "       [0.68120155],\n",
              "       [0.6879845 ],\n",
              "       [0.68895349],\n",
              "       [0.73352713],\n",
              "       [0.74709307],\n",
              "       [0.7495155 ],\n",
              "       [0.75436047],\n",
              "       [0.75290698]])"
            ]
          },
          "metadata": {},
          "execution_count": 112
        }
      ]
    },
    {
      "cell_type": "code",
      "metadata": {
        "id": "OuWZpRalk1M0",
        "outputId": "04cfb032-adbf-44f8-b367-16cd4d4f1434",
        "colab": {
          "base_uri": "https://localhost:8080/"
        }
      },
      "source": [
        "112 - 90"
      ],
      "execution_count": 113,
      "outputs": [
        {
          "output_type": "execute_result",
          "data": {
            "text/plain": [
              "22"
            ]
          },
          "metadata": {},
          "execution_count": 113
        }
      ]
    },
    {
      "cell_type": "code",
      "metadata": {
        "id": "NEeMWfk3kV70"
      },
      "source": [
        "#criar a lista de teste\n",
        "X_teste = []\n",
        "for i in range(90, 112):\n",
        "  X_teste.append(entradas[i-90:i, 0])\n",
        "X_teste = np.array(X_teste)"
      ],
      "execution_count": 114,
      "outputs": []
    },
    {
      "cell_type": "code",
      "metadata": {
        "id": "oQaH_PZFlE0S",
        "outputId": "82625b4a-11b2-409c-8702-c11b9557ebd2",
        "colab": {
          "base_uri": "https://localhost:8080/"
        }
      },
      "source": [
        "X_teste[21]"
      ],
      "execution_count": 115,
      "outputs": [
        {
          "output_type": "execute_result",
          "data": {
            "text/plain": [
              "array([0.56492248, 0.55717054, 0.54118217, 0.54748062, 0.53246124,\n",
              "       0.55232558, 0.56686047, 0.56589147, 0.55523256, 0.55281008,\n",
              "       0.57800383, 0.57994186, 0.5755814 , 0.58284884, 0.57945736,\n",
              "       0.57848832, 0.58236429, 0.57170543, 0.5809109 , 0.58575586,\n",
              "       0.58575586, 0.59738377, 0.60949617, 0.60901163, 0.6187015 ,\n",
              "       0.61531008, 0.61967054, 0.61531008, 0.61821701, 0.62257747,\n",
              "       0.63517437, 0.60513571, 0.61482553, 0.6061046 , 0.60513571,\n",
              "       0.60271313, 0.54021318, 0.55329457, 0.56782946, 0.57267442,\n",
              "       0.57897287, 0.57606589, 0.57073643, 0.58381783, 0.57218992,\n",
              "       0.56831395, 0.56540698, 0.5377907 , 0.53972868, 0.55474806,\n",
              "       0.54748062, 0.53391473, 0.5377907 , 0.54796512, 0.54651163,\n",
              "       0.54069767, 0.55474806, 0.52810078, 0.52567829, 0.53100775,\n",
              "       0.53197674, 0.53343023, 0.53827519, 0.55959302, 0.55959302,\n",
              "       0.55959302, 0.57122093, 0.57655039, 0.57655039, 0.5809109 ,\n",
              "       0.59544574, 0.60949617, 0.6056202 , 0.60755814, 0.62160858,\n",
              "       0.61627907, 0.61434104, 0.62209307, 0.63565891, 0.6371124 ,\n",
              "       0.66472868, 0.68556202, 0.68362398, 0.68120155, 0.6879845 ,\n",
              "       0.68895349, 0.73352713, 0.74709307, 0.7495155 , 0.75436047])"
            ]
          },
          "metadata": {},
          "execution_count": 115
        }
      ]
    },
    {
      "cell_type": "code",
      "metadata": {
        "id": "mjJS7hAulmwj"
      },
      "source": [
        "X_teste = torch.tensor(X_teste, device = device, dtype=torch.float32)"
      ],
      "execution_count": 116,
      "outputs": []
    },
    {
      "cell_type": "markdown",
      "metadata": {
        "id": "2kcTr4ikoM3k"
      },
      "source": [
        "## Etapa 6: Previsões"
      ]
    },
    {
      "cell_type": "code",
      "metadata": {
        "id": "enIeV2_pl-tA"
      },
      "source": [
        "regressor.eval()\n",
        "previsoes = regressor.forward(X_teste)"
      ],
      "execution_count": 117,
      "outputs": []
    },
    {
      "cell_type": "code",
      "metadata": {
        "id": "Azd3tJ5YmF0f",
        "outputId": "8717760c-668b-43b1-cdce-9c01e488c795",
        "colab": {
          "base_uri": "https://localhost:8080/"
        }
      },
      "source": [
        "previsoes"
      ],
      "execution_count": 118,
      "outputs": [
        {
          "output_type": "execute_result",
          "data": {
            "text/plain": [
              "tensor([[0.5556],\n",
              "        [0.5583],\n",
              "        [0.5693],\n",
              "        [0.5822],\n",
              "        [0.5822],\n",
              "        [0.5823],\n",
              "        [0.5922],\n",
              "        [0.5912],\n",
              "        [0.5888],\n",
              "        [0.5936],\n",
              "        [0.6047],\n",
              "        [0.6084],\n",
              "        [0.6279],\n",
              "        [0.6473],\n",
              "        [0.6495],\n",
              "        [0.6470],\n",
              "        [0.6507],\n",
              "        [0.6523],\n",
              "        [0.6835],\n",
              "        [0.7001],\n",
              "        [0.7045],\n",
              "        [0.7078]], device='cuda:0', grad_fn=<AddmmBackward0>)"
            ]
          },
          "metadata": {},
          "execution_count": 118
        }
      ]
    },
    {
      "cell_type": "code",
      "metadata": {
        "id": "C7OzboJZmI8u",
        "outputId": "a8ea5b67-804b-4ef3-9494-fb2736d1e9bf",
        "colab": {
          "base_uri": "https://localhost:8080/"
        }
      },
      "source": [
        "previsoes.shape"
      ],
      "execution_count": 119,
      "outputs": [
        {
          "output_type": "execute_result",
          "data": {
            "text/plain": [
              "torch.Size([22, 1])"
            ]
          },
          "metadata": {},
          "execution_count": 119
        }
      ]
    },
    {
      "cell_type": "code",
      "metadata": {
        "id": "h6q9fQNpmMSH",
        "outputId": "a380faef-3d20-4642-e27d-75ce8841b89b",
        "colab": {
          "base_uri": "https://localhost:8080/"
        }
      },
      "source": [
        "previsoes = previsoes.detach().cpu().numpy().reshape(-1,1)\n",
        "previsoes.shape"
      ],
      "execution_count": 120,
      "outputs": [
        {
          "output_type": "execute_result",
          "data": {
            "text/plain": [
              "(22, 1)"
            ]
          },
          "metadata": {},
          "execution_count": 120
        }
      ]
    },
    {
      "cell_type": "code",
      "metadata": {
        "id": "F3a4MYAumW1f"
      },
      "source": [
        "previsoes = normalizador.inverse_transform(previsoes) #valores reais"
      ],
      "execution_count": 121,
      "outputs": []
    },
    {
      "cell_type": "code",
      "metadata": {
        "id": "eedRp8xQmhTZ",
        "outputId": "6f55d79b-ff08-46a4-bceb-b5de55567899",
        "colab": {
          "base_uri": "https://localhost:8080/"
        }
      },
      "source": [
        "previsoes.mean()"
      ],
      "execution_count": 122,
      "outputs": [
        {
          "output_type": "execute_result",
          "data": {
            "text/plain": [
              "17.033772"
            ]
          },
          "metadata": {},
          "execution_count": 122
        }
      ]
    },
    {
      "cell_type": "code",
      "metadata": {
        "id": "QT8Zo-BZmlKW",
        "outputId": "d351a1cc-48d0-459d-92a0-d1efb9ee0dd9",
        "colab": {
          "base_uri": "https://localhost:8080/"
        }
      },
      "source": [
        "preco_real_teste.mean()"
      ],
      "execution_count": 123,
      "outputs": [
        {
          "output_type": "execute_result",
          "data": {
            "text/plain": [
              "17.87454563636364"
            ]
          },
          "metadata": {},
          "execution_count": 123
        }
      ]
    },
    {
      "cell_type": "code",
      "metadata": {
        "id": "QXCp4-O9mrzj",
        "outputId": "2353159c-0708-4908-dd33-47dcef756a09",
        "colab": {
          "base_uri": "https://localhost:8080/",
          "height": 489
        }
      },
      "source": [
        "plt.plot(preco_real_teste, color='red', label='Preço real')\n",
        "plt.plot(previsoes, color = 'blue', label='Previsões')\n",
        "plt.title('Previsão do preço de açoões')\n",
        "plt.xlabel('Tempo')\n",
        "plt.ylabel('Valor Yahoo')\n",
        "plt.legend()"
      ],
      "execution_count": 124,
      "outputs": [
        {
          "output_type": "execute_result",
          "data": {
            "text/plain": [
              "<matplotlib.legend.Legend at 0x7f0aac27f040>"
            ]
          },
          "metadata": {},
          "execution_count": 124
        },
        {
          "output_type": "display_data",
          "data": {
            "text/plain": [
              "<Figure size 640x480 with 1 Axes>"
            ],
            "image/png": "[encoded data removed]"
          },
          "metadata": {}
        }
      ]
    },
    {
      "cell_type": "code",
      "source": [
        "#se o resultado sair ruim executar tudo do começo"
      ],
      "metadata": {
        "id": "3ARHT3xris67"
      },
      "execution_count": null,
      "outputs": []
    }
  ]
}
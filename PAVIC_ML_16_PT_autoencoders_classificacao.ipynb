{
  "nbformat": 4,
  "nbformat_minor": 0,
  "metadata": {
    "colab": {
      "provenance": [],
      "include_colab_link": true
    },
    "kernelspec": {
      "name": "python3",
      "display_name": "Python 3"
    },
    "accelerator": "GPU",
    "widgets": {
      "application/vnd.jupyter.widget-state+json": {
        "5096c097f71b4c1a957307525a3208fd": {
          "model_module": "@jupyter-widgets/controls",
          "model_name": "HBoxModel",
          "state": {
            "_view_name": "HBoxView",
            "_dom_classes": [],
            "_model_name": "HBoxModel",
            "_view_module": "@jupyter-widgets/controls",
            "_model_module_version": "1.5.0",
            "_view_count": null,
            "_view_module_version": "1.5.0",
            "box_style": "",
            "layout": "IPY_MODEL_e9c3aab11fcf41f59b8317177d223161",
            "_model_module": "@jupyter-widgets/controls",
            "children": [
              "IPY_MODEL_f61023dbd68f417ba0f4b3e3c3cdad16",
              "IPY_MODEL_a23c5bd8124e456198b652ac7e956854"
            ]
          },
          "model_module_version": "1.5.0"
        },
        "e9c3aab11fcf41f59b8317177d223161": {
          "model_module": "@jupyter-widgets/base",
          "model_name": "LayoutModel",
          "state": {
            "_view_name": "LayoutView",
            "grid_template_rows": null,
            "right": null,
            "justify_content": null,
            "_view_module": "@jupyter-widgets/base",
            "overflow": null,
            "_model_module_version": "1.2.0",
            "_view_count": null,
            "flex_flow": null,
            "width": null,
            "min_width": null,
            "border": null,
            "align_items": null,
            "bottom": null,
            "_model_module": "@jupyter-widgets/base",
            "top": null,
            "grid_column": null,
            "overflow_y": null,
            "overflow_x": null,
            "grid_auto_flow": null,
            "grid_area": null,
            "grid_template_columns": null,
            "flex": null,
            "_model_name": "LayoutModel",
            "justify_items": null,
            "grid_row": null,
            "max_height": null,
            "align_content": null,
            "visibility": null,
            "align_self": null,
            "height": null,
            "min_height": null,
            "padding": null,
            "grid_auto_rows": null,
            "grid_gap": null,
            "max_width": null,
            "order": null,
            "_view_module_version": "1.2.0",
            "grid_template_areas": null,
            "object_position": null,
            "object_fit": null,
            "grid_auto_columns": null,
            "margin": null,
            "display": null,
            "left": null
          },
          "model_module_version": "1.2.0"
        },
        "f61023dbd68f417ba0f4b3e3c3cdad16": {
          "model_module": "@jupyter-widgets/controls",
          "model_name": "IntProgressModel",
          "state": {
            "_view_name": "ProgressView",
            "style": "IPY_MODEL_e15c58fbd8d04cb9b08888248e778b03",
            "_dom_classes": [],
            "description": "",
            "_model_name": "IntProgressModel",
            "bar_style": "success",
            "max": 1,
            "_view_module": "@jupyter-widgets/controls",
            "_model_module_version": "1.5.0",
            "value": 1,
            "_view_count": null,
            "_view_module_version": "1.5.0",
            "orientation": "horizontal",
            "min": 0,
            "description_tooltip": null,
            "_model_module": "@jupyter-widgets/controls",
            "layout": "IPY_MODEL_9aad3adf75cb42829572628e7e58d6b6"
          },
          "model_module_version": "1.5.0"
        },
        "a23c5bd8124e456198b652ac7e956854": {
          "model_module": "@jupyter-widgets/controls",
          "model_name": "HTMLModel",
          "state": {
            "_view_name": "HTMLView",
            "style": "IPY_MODEL_19e6b0cb72484a1dba49d1a81b69bd2b",
            "_dom_classes": [],
            "description": "",
            "_model_name": "HTMLModel",
            "placeholder": "​",
            "_view_module": "@jupyter-widgets/controls",
            "_model_module_version": "1.5.0",
            "value": "9920512it [00:01, 8336839.90it/s]",
            "_view_count": null,
            "_view_module_version": "1.5.0",
            "description_tooltip": null,
            "_model_module": "@jupyter-widgets/controls",
            "layout": "IPY_MODEL_1c1b04217ef140e1b1a8fdaacbbd88a1"
          },
          "model_module_version": "1.5.0"
        },
        "e15c58fbd8d04cb9b08888248e778b03": {
          "model_module": "@jupyter-widgets/controls",
          "model_name": "ProgressStyleModel",
          "state": {
            "_view_name": "StyleView",
            "_model_name": "ProgressStyleModel",
            "description_width": "",
            "_view_module": "@jupyter-widgets/base",
            "_model_module_version": "1.5.0",
            "_view_count": null,
            "_view_module_version": "1.2.0",
            "bar_color": null,
            "_model_module": "@jupyter-widgets/controls"
          },
          "model_module_version": "1.5.0"
        },
        "9aad3adf75cb42829572628e7e58d6b6": {
          "model_module": "@jupyter-widgets/base",
          "model_name": "LayoutModel",
          "state": {
            "_view_name": "LayoutView",
            "grid_template_rows": null,
            "right": null,
            "justify_content": null,
            "_view_module": "@jupyter-widgets/base",
            "overflow": null,
            "_model_module_version": "1.2.0",
            "_view_count": null,
            "flex_flow": null,
            "width": null,
            "min_width": null,
            "border": null,
            "align_items": null,
            "bottom": null,
            "_model_module": "@jupyter-widgets/base",
            "top": null,
            "grid_column": null,
            "overflow_y": null,
            "overflow_x": null,
            "grid_auto_flow": null,
            "grid_area": null,
            "grid_template_columns": null,
            "flex": null,
            "_model_name": "LayoutModel",
            "justify_items": null,
            "grid_row": null,
            "max_height": null,
            "align_content": null,
            "visibility": null,
            "align_self": null,
            "height": null,
            "min_height": null,
            "padding": null,
            "grid_auto_rows": null,
            "grid_gap": null,
            "max_width": null,
            "order": null,
            "_view_module_version": "1.2.0",
            "grid_template_areas": null,
            "object_position": null,
            "object_fit": null,
            "grid_auto_columns": null,
            "margin": null,
            "display": null,
            "left": null
          },
          "model_module_version": "1.2.0"
        },
        "19e6b0cb72484a1dba49d1a81b69bd2b": {
          "model_module": "@jupyter-widgets/controls",
          "model_name": "DescriptionStyleModel",
          "state": {
            "_view_name": "StyleView",
            "_model_name": "DescriptionStyleModel",
            "description_width": "",
            "_view_module": "@jupyter-widgets/base",
            "_model_module_version": "1.5.0",
            "_view_count": null,
            "_view_module_version": "1.2.0",
            "_model_module": "@jupyter-widgets/controls"
          },
          "model_module_version": "1.5.0"
        },
        "1c1b04217ef140e1b1a8fdaacbbd88a1": {
          "model_module": "@jupyter-widgets/base",
          "model_name": "LayoutModel",
          "state": {
            "_view_name": "LayoutView",
            "grid_template_rows": null,
            "right": null,
            "justify_content": null,
            "_view_module": "@jupyter-widgets/base",
            "overflow": null,
            "_model_module_version": "1.2.0",
            "_view_count": null,
            "flex_flow": null,
            "width": null,
            "min_width": null,
            "border": null,
            "align_items": null,
            "bottom": null,
            "_model_module": "@jupyter-widgets/base",
            "top": null,
            "grid_column": null,
            "overflow_y": null,
            "overflow_x": null,
            "grid_auto_flow": null,
            "grid_area": null,
            "grid_template_columns": null,
            "flex": null,
            "_model_name": "LayoutModel",
            "justify_items": null,
            "grid_row": null,
            "max_height": null,
            "align_content": null,
            "visibility": null,
            "align_self": null,
            "height": null,
            "min_height": null,
            "padding": null,
            "grid_auto_rows": null,
            "grid_gap": null,
            "max_width": null,
            "order": null,
            "_view_module_version": "1.2.0",
            "grid_template_areas": null,
            "object_position": null,
            "object_fit": null,
            "grid_auto_columns": null,
            "margin": null,
            "display": null,
            "left": null
          },
          "model_module_version": "1.2.0"
        },
        "55e56baa8a754177b91dfc86e38cde82": {
          "model_module": "@jupyter-widgets/controls",
          "model_name": "HBoxModel",
          "state": {
            "_view_name": "HBoxView",
            "_dom_classes": [],
            "_model_name": "HBoxModel",
            "_view_module": "@jupyter-widgets/controls",
            "_model_module_version": "1.5.0",
            "_view_count": null,
            "_view_module_version": "1.5.0",
            "box_style": "",
            "layout": "IPY_MODEL_c2a5a2b77abb495894a693bdff7afd49",
            "_model_module": "@jupyter-widgets/controls",
            "children": [
              "IPY_MODEL_4bbff1ed588e4732ac23b3226be645ca",
              "IPY_MODEL_dace8eb2991b47109541e6c7cc6c66b9"
            ]
          },
          "model_module_version": "1.5.0"
        },
        "c2a5a2b77abb495894a693bdff7afd49": {
          "model_module": "@jupyter-widgets/base",
          "model_name": "LayoutModel",
          "state": {
            "_view_name": "LayoutView",
            "grid_template_rows": null,
            "right": null,
            "justify_content": null,
            "_view_module": "@jupyter-widgets/base",
            "overflow": null,
            "_model_module_version": "1.2.0",
            "_view_count": null,
            "flex_flow": null,
            "width": null,
            "min_width": null,
            "border": null,
            "align_items": null,
            "bottom": null,
            "_model_module": "@jupyter-widgets/base",
            "top": null,
            "grid_column": null,
            "overflow_y": null,
            "overflow_x": null,
            "grid_auto_flow": null,
            "grid_area": null,
            "grid_template_columns": null,
            "flex": null,
            "_model_name": "LayoutModel",
            "justify_items": null,
            "grid_row": null,
            "max_height": null,
            "align_content": null,
            "visibility": null,
            "align_self": null,
            "height": null,
            "min_height": null,
            "padding": null,
            "grid_auto_rows": null,
            "grid_gap": null,
            "max_width": null,
            "order": null,
            "_view_module_version": "1.2.0",
            "grid_template_areas": null,
            "object_position": null,
            "object_fit": null,
            "grid_auto_columns": null,
            "margin": null,
            "display": null,
            "left": null
          },
          "model_module_version": "1.2.0"
        },
        "4bbff1ed588e4732ac23b3226be645ca": {
          "model_module": "@jupyter-widgets/controls",
          "model_name": "IntProgressModel",
          "state": {
            "_view_name": "ProgressView",
            "style": "IPY_MODEL_291a8a8aae9c4da09c4de865d15abee3",
            "_dom_classes": [],
            "description": "",
            "_model_name": "IntProgressModel",
            "bar_style": "success",
            "max": 1,
            "_view_module": "@jupyter-widgets/controls",
            "_model_module_version": "1.5.0",
            "value": 1,
            "_view_count": null,
            "_view_module_version": "1.5.0",
            "orientation": "horizontal",
            "min": 0,
            "description_tooltip": null,
            "_model_module": "@jupyter-widgets/controls",
            "layout": "IPY_MODEL_78c9cd554d364fb78b14201136b82c22"
          },
          "model_module_version": "1.5.0"
        },
        "dace8eb2991b47109541e6c7cc6c66b9": {
          "model_module": "@jupyter-widgets/controls",
          "model_name": "HTMLModel",
          "state": {
            "_view_name": "HTMLView",
            "style": "IPY_MODEL_fe93ac5425714a05a0c1e9430c1bce36",
            "_dom_classes": [],
            "description": "",
            "_model_name": "HTMLModel",
            "placeholder": "​",
            "_view_module": "@jupyter-widgets/controls",
            "_model_module_version": "1.5.0",
            "value": "32768it [00:00, 82715.92it/s]",
            "_view_count": null,
            "_view_module_version": "1.5.0",
            "description_tooltip": null,
            "_model_module": "@jupyter-widgets/controls",
            "layout": "IPY_MODEL_12f5bc59555d4d059aaf94901f14357a"
          },
          "model_module_version": "1.5.0"
        },
        "291a8a8aae9c4da09c4de865d15abee3": {
          "model_module": "@jupyter-widgets/controls",
          "model_name": "ProgressStyleModel",
          "state": {
            "_view_name": "StyleView",
            "_model_name": "ProgressStyleModel",
            "description_width": "",
            "_view_module": "@jupyter-widgets/base",
            "_model_module_version": "1.5.0",
            "_view_count": null,
            "_view_module_version": "1.2.0",
            "bar_color": null,
            "_model_module": "@jupyter-widgets/controls"
          },
          "model_module_version": "1.5.0"
        },
        "78c9cd554d364fb78b14201136b82c22": {
          "model_module": "@jupyter-widgets/base",
          "model_name": "LayoutModel",
          "state": {
            "_view_name": "LayoutView",
            "grid_template_rows": null,
            "right": null,
            "justify_content": null,
            "_view_module": "@jupyter-widgets/base",
            "overflow": null,
            "_model_module_version": "1.2.0",
            "_view_count": null,
            "flex_flow": null,
            "width": null,
            "min_width": null,
            "border": null,
            "align_items": null,
            "bottom": null,
            "_model_module": "@jupyter-widgets/base",
            "top": null,
            "grid_column": null,
            "overflow_y": null,
            "overflow_x": null,
            "grid_auto_flow": null,
            "grid_area": null,
            "grid_template_columns": null,
            "flex": null,
            "_model_name": "LayoutModel",
            "justify_items": null,
            "grid_row": null,
            "max_height": null,
            "align_content": null,
            "visibility": null,
            "align_self": null,
            "height": null,
            "min_height": null,
            "padding": null,
            "grid_auto_rows": null,
            "grid_gap": null,
            "max_width": null,
            "order": null,
            "_view_module_version": "1.2.0",
            "grid_template_areas": null,
            "object_position": null,
            "object_fit": null,
            "grid_auto_columns": null,
            "margin": null,
            "display": null,
            "left": null
          },
          "model_module_version": "1.2.0"
        },
        "fe93ac5425714a05a0c1e9430c1bce36": {
          "model_module": "@jupyter-widgets/controls",
          "model_name": "DescriptionStyleModel",
          "state": {
            "_view_name": "StyleView",
            "_model_name": "DescriptionStyleModel",
            "description_width": "",
            "_view_module": "@jupyter-widgets/base",
            "_model_module_version": "1.5.0",
            "_view_count": null,
            "_view_module_version": "1.2.0",
            "_model_module": "@jupyter-widgets/controls"
          },
          "model_module_version": "1.5.0"
        },
        "12f5bc59555d4d059aaf94901f14357a": {
          "model_module": "@jupyter-widgets/base",
          "model_name": "LayoutModel",
          "state": {
            "_view_name": "LayoutView",
            "grid_template_rows": null,
            "right": null,
            "justify_content": null,
            "_view_module": "@jupyter-widgets/base",
            "overflow": null,
            "_model_module_version": "1.2.0",
            "_view_count": null,
            "flex_flow": null,
            "width": null,
            "min_width": null,
            "border": null,
            "align_items": null,
            "bottom": null,
            "_model_module": "@jupyter-widgets/base",
            "top": null,
            "grid_column": null,
            "overflow_y": null,
            "overflow_x": null,
            "grid_auto_flow": null,
            "grid_area": null,
            "grid_template_columns": null,
            "flex": null,
            "_model_name": "LayoutModel",
            "justify_items": null,
            "grid_row": null,
            "max_height": null,
            "align_content": null,
            "visibility": null,
            "align_self": null,
            "height": null,
            "min_height": null,
            "padding": null,
            "grid_auto_rows": null,
            "grid_gap": null,
            "max_width": null,
            "order": null,
            "_view_module_version": "1.2.0",
            "grid_template_areas": null,
            "object_position": null,
            "object_fit": null,
            "grid_auto_columns": null,
            "margin": null,
            "display": null,
            "left": null
          },
          "model_module_version": "1.2.0"
        },
        "a0ea6657143c4097b07d194ba3d5198f": {
          "model_module": "@jupyter-widgets/controls",
          "model_name": "HBoxModel",
          "state": {
            "_view_name": "HBoxView",
            "_dom_classes": [],
            "_model_name": "HBoxModel",
            "_view_module": "@jupyter-widgets/controls",
            "_model_module_version": "1.5.0",
            "_view_count": null,
            "_view_module_version": "1.5.0",
            "box_style": "",
            "layout": "IPY_MODEL_9ba8107653c445d98e61150156ca2177",
            "_model_module": "@jupyter-widgets/controls",
            "children": [
              "IPY_MODEL_cc83b6fdf5344e38a47bc9c04235609f",
              "IPY_MODEL_859792cc1e3b46568ed6409541a61eae"
            ]
          },
          "model_module_version": "1.5.0"
        },
        "9ba8107653c445d98e61150156ca2177": {
          "model_module": "@jupyter-widgets/base",
          "model_name": "LayoutModel",
          "state": {
            "_view_name": "LayoutView",
            "grid_template_rows": null,
            "right": null,
            "justify_content": null,
            "_view_module": "@jupyter-widgets/base",
            "overflow": null,
            "_model_module_version": "1.2.0",
            "_view_count": null,
            "flex_flow": null,
            "width": null,
            "min_width": null,
            "border": null,
            "align_items": null,
            "bottom": null,
            "_model_module": "@jupyter-widgets/base",
            "top": null,
            "grid_column": null,
            "overflow_y": null,
            "overflow_x": null,
            "grid_auto_flow": null,
            "grid_area": null,
            "grid_template_columns": null,
            "flex": null,
            "_model_name": "LayoutModel",
            "justify_items": null,
            "grid_row": null,
            "max_height": null,
            "align_content": null,
            "visibility": null,
            "align_self": null,
            "height": null,
            "min_height": null,
            "padding": null,
            "grid_auto_rows": null,
            "grid_gap": null,
            "max_width": null,
            "order": null,
            "_view_module_version": "1.2.0",
            "grid_template_areas": null,
            "object_position": null,
            "object_fit": null,
            "grid_auto_columns": null,
            "margin": null,
            "display": null,
            "left": null
          },
          "model_module_version": "1.2.0"
        },
        "cc83b6fdf5344e38a47bc9c04235609f": {
          "model_module": "@jupyter-widgets/controls",
          "model_name": "IntProgressModel",
          "state": {
            "_view_name": "ProgressView",
            "style": "IPY_MODEL_36030368d9a745c7bd35d1fe81fdf334",
            "_dom_classes": [],
            "description": "",
            "_model_name": "IntProgressModel",
            "bar_style": "success",
            "max": 1,
            "_view_module": "@jupyter-widgets/controls",
            "_model_module_version": "1.5.0",
            "value": 1,
            "_view_count": null,
            "_view_module_version": "1.5.0",
            "orientation": "horizontal",
            "min": 0,
            "description_tooltip": null,
            "_model_module": "@jupyter-widgets/controls",
            "layout": "IPY_MODEL_4465652ade2f4e35a75409825ae3f17c"
          },
          "model_module_version": "1.5.0"
        },
        "859792cc1e3b46568ed6409541a61eae": {
          "model_module": "@jupyter-widgets/controls",
          "model_name": "HTMLModel",
          "state": {
            "_view_name": "HTMLView",
            "style": "IPY_MODEL_2e0a084748b746709a7e25f1cb44270d",
            "_dom_classes": [],
            "description": "",
            "_model_name": "HTMLModel",
            "placeholder": "​",
            "_view_module": "@jupyter-widgets/controls",
            "_model_module_version": "1.5.0",
            "value": "1654784it [00:00, 1696107.55it/s]",
            "_view_count": null,
            "_view_module_version": "1.5.0",
            "description_tooltip": null,
            "_model_module": "@jupyter-widgets/controls",
            "layout": "IPY_MODEL_23c189e94d4840529f5d7f448b11cc52"
          },
          "model_module_version": "1.5.0"
        },
        "36030368d9a745c7bd35d1fe81fdf334": {
          "model_module": "@jupyter-widgets/controls",
          "model_name": "ProgressStyleModel",
          "state": {
            "_view_name": "StyleView",
            "_model_name": "ProgressStyleModel",
            "description_width": "",
            "_view_module": "@jupyter-widgets/base",
            "_model_module_version": "1.5.0",
            "_view_count": null,
            "_view_module_version": "1.2.0",
            "bar_color": null,
            "_model_module": "@jupyter-widgets/controls"
          },
          "model_module_version": "1.5.0"
        },
        "4465652ade2f4e35a75409825ae3f17c": {
          "model_module": "@jupyter-widgets/base",
          "model_name": "LayoutModel",
          "state": {
            "_view_name": "LayoutView",
            "grid_template_rows": null,
            "right": null,
            "justify_content": null,
            "_view_module": "@jupyter-widgets/base",
            "overflow": null,
            "_model_module_version": "1.2.0",
            "_view_count": null,
            "flex_flow": null,
            "width": null,
            "min_width": null,
            "border": null,
            "align_items": null,
            "bottom": null,
            "_model_module": "@jupyter-widgets/base",
            "top": null,
            "grid_column": null,
            "overflow_y": null,
            "overflow_x": null,
            "grid_auto_flow": null,
            "grid_area": null,
            "grid_template_columns": null,
            "flex": null,
            "_model_name": "LayoutModel",
            "justify_items": null,
            "grid_row": null,
            "max_height": null,
            "align_content": null,
            "visibility": null,
            "align_self": null,
            "height": null,
            "min_height": null,
            "padding": null,
            "grid_auto_rows": null,
            "grid_gap": null,
            "max_width": null,
            "order": null,
            "_view_module_version": "1.2.0",
            "grid_template_areas": null,
            "object_position": null,
            "object_fit": null,
            "grid_auto_columns": null,
            "margin": null,
            "display": null,
            "left": null
          },
          "model_module_version": "1.2.0"
        },
        "2e0a084748b746709a7e25f1cb44270d": {
          "model_module": "@jupyter-widgets/controls",
          "model_name": "DescriptionStyleModel",
          "state": {
            "_view_name": "StyleView",
            "_model_name": "DescriptionStyleModel",
            "description_width": "",
            "_view_module": "@jupyter-widgets/base",
            "_model_module_version": "1.5.0",
            "_view_count": null,
            "_view_module_version": "1.2.0",
            "_model_module": "@jupyter-widgets/controls"
          },
          "model_module_version": "1.5.0"
        },
        "23c189e94d4840529f5d7f448b11cc52": {
          "model_module": "@jupyter-widgets/base",
          "model_name": "LayoutModel",
          "state": {
            "_view_name": "LayoutView",
            "grid_template_rows": null,
            "right": null,
            "justify_content": null,
            "_view_module": "@jupyter-widgets/base",
            "overflow": null,
            "_model_module_version": "1.2.0",
            "_view_count": null,
            "flex_flow": null,
            "width": null,
            "min_width": null,
            "border": null,
            "align_items": null,
            "bottom": null,
            "_model_module": "@jupyter-widgets/base",
            "top": null,
            "grid_column": null,
            "overflow_y": null,
            "overflow_x": null,
            "grid_auto_flow": null,
            "grid_area": null,
            "grid_template_columns": null,
            "flex": null,
            "_model_name": "LayoutModel",
            "justify_items": null,
            "grid_row": null,
            "max_height": null,
            "align_content": null,
            "visibility": null,
            "align_self": null,
            "height": null,
            "min_height": null,
            "padding": null,
            "grid_auto_rows": null,
            "grid_gap": null,
            "max_width": null,
            "order": null,
            "_view_module_version": "1.2.0",
            "grid_template_areas": null,
            "object_position": null,
            "object_fit": null,
            "grid_auto_columns": null,
            "margin": null,
            "display": null,
            "left": null
          },
          "model_module_version": "1.2.0"
        },
        "5dcefacbf202401fb2cb67e99e524783": {
          "model_module": "@jupyter-widgets/controls",
          "model_name": "HBoxModel",
          "state": {
            "_view_name": "HBoxView",
            "_dom_classes": [],
            "_model_name": "HBoxModel",
            "_view_module": "@jupyter-widgets/controls",
            "_model_module_version": "1.5.0",
            "_view_count": null,
            "_view_module_version": "1.5.0",
            "box_style": "",
            "layout": "IPY_MODEL_0263c2294174423b86479a4fbc15f676",
            "_model_module": "@jupyter-widgets/controls",
            "children": [
              "IPY_MODEL_539b15c0dcae469e9374eef441bf5f34",
              "IPY_MODEL_ade9c471be8e43e4a71e30348bf061f9"
            ]
          },
          "model_module_version": "1.5.0"
        },
        "0263c2294174423b86479a4fbc15f676": {
          "model_module": "@jupyter-widgets/base",
          "model_name": "LayoutModel",
          "state": {
            "_view_name": "LayoutView",
            "grid_template_rows": null,
            "right": null,
            "justify_content": null,
            "_view_module": "@jupyter-widgets/base",
            "overflow": null,
            "_model_module_version": "1.2.0",
            "_view_count": null,
            "flex_flow": null,
            "width": null,
            "min_width": null,
            "border": null,
            "align_items": null,
            "bottom": null,
            "_model_module": "@jupyter-widgets/base",
            "top": null,
            "grid_column": null,
            "overflow_y": null,
            "overflow_x": null,
            "grid_auto_flow": null,
            "grid_area": null,
            "grid_template_columns": null,
            "flex": null,
            "_model_name": "LayoutModel",
            "justify_items": null,
            "grid_row": null,
            "max_height": null,
            "align_content": null,
            "visibility": null,
            "align_self": null,
            "height": null,
            "min_height": null,
            "padding": null,
            "grid_auto_rows": null,
            "grid_gap": null,
            "max_width": null,
            "order": null,
            "_view_module_version": "1.2.0",
            "grid_template_areas": null,
            "object_position": null,
            "object_fit": null,
            "grid_auto_columns": null,
            "margin": null,
            "display": null,
            "left": null
          },
          "model_module_version": "1.2.0"
        },
        "539b15c0dcae469e9374eef441bf5f34": {
          "model_module": "@jupyter-widgets/controls",
          "model_name": "IntProgressModel",
          "state": {
            "_view_name": "ProgressView",
            "style": "IPY_MODEL_48dc110df37d4ccbb6df7b96e07b3300",
            "_dom_classes": [],
            "description": "",
            "_model_name": "IntProgressModel",
            "bar_style": "success",
            "max": 1,
            "_view_module": "@jupyter-widgets/controls",
            "_model_module_version": "1.5.0",
            "value": 1,
            "_view_count": null,
            "_view_module_version": "1.5.0",
            "orientation": "horizontal",
            "min": 0,
            "description_tooltip": null,
            "_model_module": "@jupyter-widgets/controls",
            "layout": "IPY_MODEL_c1e5ccbfdfee460e8a232cf548242568"
          },
          "model_module_version": "1.5.0"
        },
        "ade9c471be8e43e4a71e30348bf061f9": {
          "model_module": "@jupyter-widgets/controls",
          "model_name": "HTMLModel",
          "state": {
            "_view_name": "HTMLView",
            "style": "IPY_MODEL_d3092d5aed344c4da90a2499e9202b09",
            "_dom_classes": [],
            "description": "",
            "_model_name": "HTMLModel",
            "placeholder": "​",
            "_view_module": "@jupyter-widgets/controls",
            "_model_module_version": "1.5.0",
            "value": "8192it [00:00, 27163.59it/s]",
            "_view_count": null,
            "_view_module_version": "1.5.0",
            "description_tooltip": null,
            "_model_module": "@jupyter-widgets/controls",
            "layout": "IPY_MODEL_dd217c678fad46be9e533ae807b531b4"
          },
          "model_module_version": "1.5.0"
        },
        "48dc110df37d4ccbb6df7b96e07b3300": {
          "model_module": "@jupyter-widgets/controls",
          "model_name": "ProgressStyleModel",
          "state": {
            "_view_name": "StyleView",
            "_model_name": "ProgressStyleModel",
            "description_width": "",
            "_view_module": "@jupyter-widgets/base",
            "_model_module_version": "1.5.0",
            "_view_count": null,
            "_view_module_version": "1.2.0",
            "bar_color": null,
            "_model_module": "@jupyter-widgets/controls"
          },
          "model_module_version": "1.5.0"
        },
        "c1e5ccbfdfee460e8a232cf548242568": {
          "model_module": "@jupyter-widgets/base",
          "model_name": "LayoutModel",
          "state": {
            "_view_name": "LayoutView",
            "grid_template_rows": null,
            "right": null,
            "justify_content": null,
            "_view_module": "@jupyter-widgets/base",
            "overflow": null,
            "_model_module_version": "1.2.0",
            "_view_count": null,
            "flex_flow": null,
            "width": null,
            "min_width": null,
            "border": null,
            "align_items": null,
            "bottom": null,
            "_model_module": "@jupyter-widgets/base",
            "top": null,
            "grid_column": null,
            "overflow_y": null,
            "overflow_x": null,
            "grid_auto_flow": null,
            "grid_area": null,
            "grid_template_columns": null,
            "flex": null,
            "_model_name": "LayoutModel",
            "justify_items": null,
            "grid_row": null,
            "max_height": null,
            "align_content": null,
            "visibility": null,
            "align_self": null,
            "height": null,
            "min_height": null,
            "padding": null,
            "grid_auto_rows": null,
            "grid_gap": null,
            "max_width": null,
            "order": null,
            "_view_module_version": "1.2.0",
            "grid_template_areas": null,
            "object_position": null,
            "object_fit": null,
            "grid_auto_columns": null,
            "margin": null,
            "display": null,
            "left": null
          },
          "model_module_version": "1.2.0"
        },
        "d3092d5aed344c4da90a2499e9202b09": {
          "model_module": "@jupyter-widgets/controls",
          "model_name": "DescriptionStyleModel",
          "state": {
            "_view_name": "StyleView",
            "_model_name": "DescriptionStyleModel",
            "description_width": "",
            "_view_module": "@jupyter-widgets/base",
            "_model_module_version": "1.5.0",
            "_view_count": null,
            "_view_module_version": "1.2.0",
            "_model_module": "@jupyter-widgets/controls"
          },
          "model_module_version": "1.5.0"
        },
        "dd217c678fad46be9e533ae807b531b4": {
          "model_module": "@jupyter-widgets/base",
          "model_name": "LayoutModel",
          "state": {
            "_view_name": "LayoutView",
            "grid_template_rows": null,
            "right": null,
            "justify_content": null,
            "_view_module": "@jupyter-widgets/base",
            "overflow": null,
            "_model_module_version": "1.2.0",
            "_view_count": null,
            "flex_flow": null,
            "width": null,
            "min_width": null,
            "border": null,
            "align_items": null,
            "bottom": null,
            "_model_module": "@jupyter-widgets/base",
            "top": null,
            "grid_column": null,
            "overflow_y": null,
            "overflow_x": null,
            "grid_auto_flow": null,
            "grid_area": null,
            "grid_template_columns": null,
            "flex": null,
            "_model_name": "LayoutModel",
            "justify_items": null,
            "grid_row": null,
            "max_height": null,
            "align_content": null,
            "visibility": null,
            "align_self": null,
            "height": null,
            "min_height": null,
            "padding": null,
            "grid_auto_rows": null,
            "grid_gap": null,
            "max_width": null,
            "order": null,
            "_view_module_version": "1.2.0",
            "grid_template_areas": null,
            "object_position": null,
            "object_fit": null,
            "grid_auto_columns": null,
            "margin": null,
            "display": null,
            "left": null
          },
          "model_module_version": "1.2.0"
        }
      }
    }
  },
  "cells": [
    {
      "cell_type": "markdown",
      "metadata": {
        "id": "view-in-github",
        "colab_type": "text"
      },
      "source": [
        "<a href=\"https://colab.research.google.com/github/mafaldasalomao/pavic_treinamento_ml/blob/main/PAVIC_ML_16_PT_autoencoders_classificacao.ipynb\" target=\"_parent\"><img src=\"https://colab.research.google.com/assets/colab-badge.svg\" alt=\"Open In Colab\"/></a>"
      ]
    },
    {
      "cell_type": "markdown",
      "metadata": {
        "id": "rD_RSER5Lkb5"
      },
      "source": [
        "# Projeto 16: Autoencoders e classificação"
      ]
    },
    {
      "cell_type": "markdown",
      "metadata": {
        "id": "5tP2BcEILoLB"
      },
      "source": [
        "## Etapa 1: Importação das bibliotecas"
      ]
    },
    {
      "cell_type": "code",
      "metadata": {
        "id": "Yf0FpJ35Lf-Z",
        "colab": {
          "base_uri": "https://localhost:8080/",
          "height": 35
        },
        "outputId": "860da479-7a31-496e-a264-fde937a1a192"
      },
      "source": [
        "from torchvision import datasets, transforms\n",
        "import torch\n",
        "from torch import nn, optim\n",
        "from sklearn.metrics import accuracy_score\n",
        "torch.__version__"
      ],
      "execution_count": null,
      "outputs": [
        {
          "output_type": "execute_result",
          "data": {
            "text/plain": [
              "'1.4.0'"
            ]
          },
          "metadata": {
            "tags": []
          },
          "execution_count": 1
        }
      ]
    },
    {
      "cell_type": "code",
      "metadata": {
        "id": "X1vw_qANCnRx",
        "colab": {
          "base_uri": "https://localhost:8080/",
          "height": 35
        },
        "outputId": "1c56c889-5725-4574-ac3d-14a0700a885d"
      },
      "source": [
        "torch.manual_seed(123)"
      ],
      "execution_count": null,
      "outputs": [
        {
          "output_type": "execute_result",
          "data": {
            "text/plain": [
              "<torch._C.Generator at 0x7fb50ff71d30>"
            ]
          },
          "metadata": {
            "tags": []
          },
          "execution_count": 2
        }
      ]
    },
    {
      "cell_type": "markdown",
      "metadata": {
        "id": "C0SD4dJ4MDMN"
      },
      "source": [
        "## Etapa 2: Base de dados"
      ]
    },
    {
      "cell_type": "code",
      "metadata": {
        "id": "kPclooeTA_15",
        "colab": {
          "base_uri": "https://localhost:8080/",
          "height": 386,
          "referenced_widgets": [
            "5096c097f71b4c1a957307525a3208fd",
            "e9c3aab11fcf41f59b8317177d223161",
            "f61023dbd68f417ba0f4b3e3c3cdad16",
            "a23c5bd8124e456198b652ac7e956854",
            "e15c58fbd8d04cb9b08888248e778b03",
            "9aad3adf75cb42829572628e7e58d6b6",
            "19e6b0cb72484a1dba49d1a81b69bd2b",
            "1c1b04217ef140e1b1a8fdaacbbd88a1",
            "55e56baa8a754177b91dfc86e38cde82",
            "c2a5a2b77abb495894a693bdff7afd49",
            "4bbff1ed588e4732ac23b3226be645ca",
            "dace8eb2991b47109541e6c7cc6c66b9",
            "291a8a8aae9c4da09c4de865d15abee3",
            "78c9cd554d364fb78b14201136b82c22",
            "fe93ac5425714a05a0c1e9430c1bce36",
            "12f5bc59555d4d059aaf94901f14357a",
            "a0ea6657143c4097b07d194ba3d5198f",
            "9ba8107653c445d98e61150156ca2177",
            "cc83b6fdf5344e38a47bc9c04235609f",
            "859792cc1e3b46568ed6409541a61eae",
            "36030368d9a745c7bd35d1fe81fdf334",
            "4465652ade2f4e35a75409825ae3f17c",
            "2e0a084748b746709a7e25f1cb44270d",
            "23c189e94d4840529f5d7f448b11cc52",
            "5dcefacbf202401fb2cb67e99e524783",
            "0263c2294174423b86479a4fbc15f676",
            "539b15c0dcae469e9374eef441bf5f34",
            "ade9c471be8e43e4a71e30348bf061f9",
            "48dc110df37d4ccbb6df7b96e07b3300",
            "c1e5ccbfdfee460e8a232cf548242568",
            "d3092d5aed344c4da90a2499e9202b09",
            "dd217c678fad46be9e533ae807b531b4"
          ]
        },
        "outputId": "bda0bd3f-f8c7-4ad1-db38-a4596fc47bd5"
      },
      "source": [
        "dataset_train = datasets.MNIST('MNIST-data', train = True, download = True,\n",
        "                               transform = transforms.ToTensor())\n",
        "loader_train = torch.utils.data.DataLoader(dataset_train, batch_size = 256,\n",
        "                                           shuffle = True)"
      ],
      "execution_count": null,
      "outputs": [
        {
          "output_type": "stream",
          "text": [
            "Downloading http://yann.lecun.com/exdb/mnist/train-images-idx3-ubyte.gz to MNIST-data/MNIST/raw/train-images-idx3-ubyte.gz\n"
          ],
          "name": "stdout"
        },
        {
          "output_type": "display_data",
          "data": {
            "application/vnd.jupyter.widget-view+json": {
              "model_id": "5096c097f71b4c1a957307525a3208fd",
              "version_minor": 0,
              "version_major": 2
            },
            "text/plain": [
              "HBox(children=(IntProgress(value=1, bar_style='info', max=1), HTML(value='')))"
            ]
          },
          "metadata": {
            "tags": []
          }
        },
        {
          "output_type": "stream",
          "text": [
            "\n",
            "Extracting MNIST-data/MNIST/raw/train-images-idx3-ubyte.gz to MNIST-data/MNIST/raw\n",
            "Downloading http://yann.lecun.com/exdb/mnist/train-labels-idx1-ubyte.gz to MNIST-data/MNIST/raw/train-labels-idx1-ubyte.gz\n"
          ],
          "name": "stdout"
        },
        {
          "output_type": "display_data",
          "data": {
            "application/vnd.jupyter.widget-view+json": {
              "model_id": "55e56baa8a754177b91dfc86e38cde82",
              "version_minor": 0,
              "version_major": 2
            },
            "text/plain": [
              "HBox(children=(IntProgress(value=1, bar_style='info', max=1), HTML(value='')))"
            ]
          },
          "metadata": {
            "tags": []
          }
        },
        {
          "output_type": "stream",
          "text": [
            "\n",
            "Extracting MNIST-data/MNIST/raw/train-labels-idx1-ubyte.gz to MNIST-data/MNIST/raw\n",
            "Downloading http://yann.lecun.com/exdb/mnist/t10k-images-idx3-ubyte.gz to MNIST-data/MNIST/raw/t10k-images-idx3-ubyte.gz\n"
          ],
          "name": "stdout"
        },
        {
          "output_type": "display_data",
          "data": {
            "application/vnd.jupyter.widget-view+json": {
              "model_id": "a0ea6657143c4097b07d194ba3d5198f",
              "version_minor": 0,
              "version_major": 2
            },
            "text/plain": [
              "HBox(children=(IntProgress(value=1, bar_style='info', max=1), HTML(value='')))"
            ]
          },
          "metadata": {
            "tags": []
          }
        },
        {
          "output_type": "stream",
          "text": [
            "\n",
            "Extracting MNIST-data/MNIST/raw/t10k-images-idx3-ubyte.gz to MNIST-data/MNIST/raw\n",
            "Downloading http://yann.lecun.com/exdb/mnist/t10k-labels-idx1-ubyte.gz to MNIST-data/MNIST/raw/t10k-labels-idx1-ubyte.gz\n"
          ],
          "name": "stdout"
        },
        {
          "output_type": "display_data",
          "data": {
            "application/vnd.jupyter.widget-view+json": {
              "model_id": "5dcefacbf202401fb2cb67e99e524783",
              "version_minor": 0,
              "version_major": 2
            },
            "text/plain": [
              "HBox(children=(IntProgress(value=1, bar_style='info', max=1), HTML(value='')))"
            ]
          },
          "metadata": {
            "tags": []
          }
        },
        {
          "output_type": "stream",
          "text": [
            "\n",
            "Extracting MNIST-data/MNIST/raw/t10k-labels-idx1-ubyte.gz to MNIST-data/MNIST/raw\n",
            "Processing...\n",
            "Done!\n"
          ],
          "name": "stdout"
        }
      ]
    },
    {
      "cell_type": "code",
      "metadata": {
        "id": "WNzijlDYBIm1"
      },
      "source": [
        "dataset_val = datasets.MNIST('MNIST-data', train = False, download = True,\n",
        "                             transform = transforms.ToTensor())\n",
        "loader_val = torch.utils.data.DataLoader(dataset_val, batch_size = 256,\n",
        "                                         shuffle = True)"
      ],
      "execution_count": null,
      "outputs": []
    },
    {
      "cell_type": "markdown",
      "metadata": {
        "id": "QGDLesyDQpIb"
      },
      "source": [
        "## Etapa 3: Construção do autoencoder"
      ]
    },
    {
      "cell_type": "code",
      "metadata": {
        "id": "VrFGMM3Qiboh"
      },
      "source": [
        "# 784 -> 32 -> 784\n",
        "class autoencoder(nn.Module):\n",
        "    def __init__(self):\n",
        "        super().__init__()\n",
        "        self.dense0 = nn.Linear(in_features = 784, out_features = 32)\n",
        "        self.activation0 = nn.ReLU()\n",
        "        self.dense1 = nn.Linear(32, 784)\n",
        "        self.activation1 = nn.Sigmoid()\n",
        "\n",
        "    def forward(self, X):\n",
        "        X = self.dense0(X)\n",
        "        X = self.activation0(X)\n",
        "        X = self.dense1(X)\n",
        "        X = self.activation1(X)\n",
        "        return X"
      ],
      "execution_count": null,
      "outputs": []
    },
    {
      "cell_type": "code",
      "metadata": {
        "id": "yY9lDtY8BqnE",
        "colab": {
          "base_uri": "https://localhost:8080/",
          "height": 35
        },
        "outputId": "74d2ad21-c74f-4048-d3ca-d6b54a29a985"
      },
      "source": [
        "device = torch.device('cuda') if torch.cuda.is_available() else torch.device('cpu')\n",
        "device"
      ],
      "execution_count": null,
      "outputs": [
        {
          "output_type": "execute_result",
          "data": {
            "text/plain": [
              "device(type='cuda')"
            ]
          },
          "metadata": {
            "tags": []
          },
          "execution_count": 6
        }
      ]
    },
    {
      "cell_type": "code",
      "metadata": {
        "id": "-FnosQO7BspO",
        "colab": {
          "base_uri": "https://localhost:8080/",
          "height": 121
        },
        "outputId": "23c23f2d-b588-4133-ef67-0888dde2eed0"
      },
      "source": [
        "model = autoencoder()\n",
        "model.to(device)"
      ],
      "execution_count": null,
      "outputs": [
        {
          "output_type": "execute_result",
          "data": {
            "text/plain": [
              "autoencoder(\n",
              "  (dense0): Linear(in_features=784, out_features=32, bias=True)\n",
              "  (activation0): ReLU()\n",
              "  (dense1): Linear(in_features=32, out_features=784, bias=True)\n",
              "  (activation1): Sigmoid()\n",
              ")"
            ]
          },
          "metadata": {
            "tags": []
          },
          "execution_count": 7
        }
      ]
    },
    {
      "cell_type": "code",
      "metadata": {
        "id": "X-YnfblQBxKG"
      },
      "source": [
        "criterion = nn.BCELoss()\n",
        "optimizer = optim.Adam(model.parameters())"
      ],
      "execution_count": null,
      "outputs": []
    },
    {
      "cell_type": "markdown",
      "metadata": {
        "id": "appMwDHtRTN5"
      },
      "source": [
        "## Etapa 4: Treinamento do modelo"
      ]
    },
    {
      "cell_type": "code",
      "metadata": {
        "id": "OxqnJdUsELbQ",
        "colab": {
          "base_uri": "https://localhost:8080/",
          "height": 363
        },
        "outputId": "4e4d471c-ce2b-412d-aee4-fc91fa257627"
      },
      "source": [
        "for epoch in range(20):\n",
        "    running_loss_train = 0.\n",
        "    for data in loader_train:\n",
        "        model.train()\n",
        "        inputs, _ = data\n",
        "        inputs = inputs.to(device)\n",
        "\n",
        "        inputs = inputs.view(-1, 28*28)\n",
        "\n",
        "        optimizer.zero_grad()\n",
        "\n",
        "        outputs = model(inputs)\n",
        "        loss = criterion(outputs, inputs.view(*outputs.shape))\n",
        "        loss.backward()\n",
        "\n",
        "        optimizer.step()\n",
        "\n",
        "        running_loss_train += loss.item()\n",
        "\n",
        "    # Validação\n",
        "    running_loss_val = 0.\n",
        "    for data in loader_val:\n",
        "        model.eval()\n",
        "        inputs, _ = data\n",
        "        inputs = inputs.to(device)\n",
        "        inputs = inputs.view(-1, 28*28)\n",
        "        outputs = model(inputs)\n",
        "        loss = criterion(outputs, inputs.view(*outputs.shape))\n",
        "        running_loss_val += loss.item()\n",
        "\n",
        "    # Final da época\n",
        "    print('ÉPOCA {:3d}: perda_train {:.5f} perda_val {:.5f}'.format(epoch + 1, running_loss_train/len(loader_train), running_loss_val/len(loader_val)))"
      ],
      "execution_count": null,
      "outputs": [
        {
          "output_type": "stream",
          "text": [
            "ÉPOCA   1: perda_train 0.29703 perda_val 0.20237\n",
            "ÉPOCA   2: perda_train 0.18216 perda_val 0.16382\n",
            "ÉPOCA   3: perda_train 0.15509 perda_val 0.14599\n",
            "ÉPOCA   4: perda_train 0.14117 perda_val 0.13517\n",
            "ÉPOCA   5: perda_train 0.13216 perda_val 0.12711\n",
            "ÉPOCA   6: perda_train 0.12553 perda_val 0.12166\n",
            "ÉPOCA   7: perda_train 0.12053 perda_val 0.11690\n",
            "ÉPOCA   8: perda_train 0.11689 perda_val 0.11407\n",
            "ÉPOCA   9: perda_train 0.11434 perda_val 0.11195\n",
            "ÉPOCA  10: perda_train 0.11261 perda_val 0.11056\n",
            "ÉPOCA  11: perda_train 0.11141 perda_val 0.10932\n",
            "ÉPOCA  12: perda_train 0.11064 perda_val 0.10881\n",
            "ÉPOCA  13: perda_train 0.11008 perda_val 0.10857\n",
            "ÉPOCA  14: perda_train 0.10975 perda_val 0.10802\n",
            "ÉPOCA  15: perda_train 0.10948 perda_val 0.10766\n",
            "ÉPOCA  16: perda_train 0.10927 perda_val 0.10746\n",
            "ÉPOCA  17: perda_train 0.10904 perda_val 0.10659\n",
            "ÉPOCA  18: perda_train 0.10740 perda_val 0.10526\n",
            "ÉPOCA  19: perda_train 0.10691 perda_val 0.10534\n",
            "ÉPOCA  20: perda_train 0.10671 perda_val 0.10498\n"
          ],
          "name": "stdout"
        }
      ]
    },
    {
      "cell_type": "markdown",
      "metadata": {
        "id": "AyTjLzELSdQF"
      },
      "source": [
        "## Etapa 5: Geração do encoder"
      ]
    },
    {
      "cell_type": "code",
      "metadata": {
        "id": "wMRlArb6oqnk",
        "colab": {
          "base_uri": "https://localhost:8080/",
          "height": 86
        },
        "outputId": "2520c21b-2b89-47aa-a323-01a5b0df1e50"
      },
      "source": [
        "list(model.children())"
      ],
      "execution_count": null,
      "outputs": [
        {
          "output_type": "execute_result",
          "data": {
            "text/plain": [
              "[Linear(in_features=784, out_features=32, bias=True),\n",
              " ReLU(),\n",
              " Linear(in_features=32, out_features=784, bias=True),\n",
              " Sigmoid()]"
            ]
          },
          "metadata": {
            "tags": []
          },
          "execution_count": 10
        }
      ]
    },
    {
      "cell_type": "code",
      "metadata": {
        "id": "dQyxuGUPDSXo"
      },
      "source": [
        "class encoder(nn.Module):\n",
        "    def __init__(self):\n",
        "        super().__init__()\n",
        "        self.dense0 = list(model.children())[0]\n",
        "        self.activation0 = list(model.children())[1]\n",
        "\n",
        "    def forward(self, X):\n",
        "        X = self.dense0(X)\n",
        "        X = self.activation0(X)\n",
        "        return X"
      ],
      "execution_count": null,
      "outputs": []
    },
    {
      "cell_type": "code",
      "metadata": {
        "id": "Mh8dxynQDsqO",
        "colab": {
          "base_uri": "https://localhost:8080/",
          "height": 86
        },
        "outputId": "cbf48aa7-cb8d-4bbc-92ba-fd8e538ba43e"
      },
      "source": [
        "model1 = encoder()\n",
        "model1.to(device)"
      ],
      "execution_count": null,
      "outputs": [
        {
          "output_type": "execute_result",
          "data": {
            "text/plain": [
              "encoder(\n",
              "  (dense0): Linear(in_features=784, out_features=32, bias=True)\n",
              "  (activation0): ReLU()\n",
              ")"
            ]
          },
          "metadata": {
            "tags": []
          },
          "execution_count": 12
        }
      ]
    },
    {
      "cell_type": "markdown",
      "metadata": {
        "id": "MJfl5-N7DvW3"
      },
      "source": [
        "## Etapa 6: Codificação dos previsores"
      ]
    },
    {
      "cell_type": "code",
      "metadata": {
        "id": "SEeyMa7JKB7V"
      },
      "source": [
        "previsores_treinamento = dataset_train.data.float() / 255\n",
        "previsores_treinamento = previsores_treinamento.view(-1, 784)\n",
        "previsores_treinamento = previsores_treinamento.to(device)"
      ],
      "execution_count": null,
      "outputs": []
    },
    {
      "cell_type": "code",
      "metadata": {
        "id": "ZTzdTH0CKaJp",
        "colab": {
          "base_uri": "https://localhost:8080/",
          "height": 35
        },
        "outputId": "20d915e0-70b9-49c1-e799-de2ee8d85493"
      },
      "source": [
        "previsores_treinamento.shape"
      ],
      "execution_count": null,
      "outputs": [
        {
          "output_type": "execute_result",
          "data": {
            "text/plain": [
              "torch.Size([60000, 784])"
            ]
          },
          "metadata": {
            "tags": []
          },
          "execution_count": 19
        }
      ]
    },
    {
      "cell_type": "code",
      "metadata": {
        "id": "HfrHKgtyKii-"
      },
      "source": [
        "with torch.no_grad():\n",
        "  previsores_treinamento_codificados = model1(previsores_treinamento)\n",
        "classe_treinamento = dataset_train.targets"
      ],
      "execution_count": null,
      "outputs": []
    },
    {
      "cell_type": "code",
      "metadata": {
        "id": "G9F3jJ3JK-F7",
        "colab": {
          "base_uri": "https://localhost:8080/",
          "height": 35
        },
        "outputId": "f1df1cd5-0e42-41be-f6c1-7b9abf97766f"
      },
      "source": [
        "previsores_treinamento_codificados.shape"
      ],
      "execution_count": null,
      "outputs": [
        {
          "output_type": "execute_result",
          "data": {
            "text/plain": [
              "torch.Size([60000, 32])"
            ]
          },
          "metadata": {
            "tags": []
          },
          "execution_count": 21
        }
      ]
    },
    {
      "cell_type": "code",
      "metadata": {
        "id": "GOdH5znDLBzr",
        "colab": {
          "base_uri": "https://localhost:8080/",
          "height": 35
        },
        "outputId": "ec2c29e2-73de-4011-ff42-9244a52b3eb2"
      },
      "source": [
        "classe_treinamento"
      ],
      "execution_count": null,
      "outputs": [
        {
          "output_type": "execute_result",
          "data": {
            "text/plain": [
              "tensor([5, 0, 4,  ..., 5, 6, 8])"
            ]
          },
          "metadata": {
            "tags": []
          },
          "execution_count": 22
        }
      ]
    },
    {
      "cell_type": "code",
      "metadata": {
        "id": "JsYdv_znLR98"
      },
      "source": [
        "dataset_train_cod = torch.utils.data.TensorDataset(previsores_treinamento_codificados, classe_treinamento)\n",
        "loader_train_cod = torch.utils.data.DataLoader(dataset_train_cod, batch_size = 256, shuffle=True)"
      ],
      "execution_count": null,
      "outputs": []
    },
    {
      "cell_type": "code",
      "metadata": {
        "id": "8IhMFSHMLrj9"
      },
      "source": [
        "previsores_val = dataset_val.data.float() / 255\n",
        "previsores_val = previsores_val.view(-1, 784)\n",
        "previsores_val = previsores_val.to(device)\n",
        "with torch.no_grad():\n",
        "  previsores_val_codificados = model1(previsores_val)\n",
        "classe_val = dataset_val.targets"
      ],
      "execution_count": null,
      "outputs": []
    },
    {
      "cell_type": "code",
      "metadata": {
        "id": "chrRgPyQL9WW",
        "colab": {
          "base_uri": "https://localhost:8080/",
          "height": 35
        },
        "outputId": "8c329901-3839-4772-9b4c-b8c8687eef3c"
      },
      "source": [
        "previsores_val_codificados.shape"
      ],
      "execution_count": null,
      "outputs": [
        {
          "output_type": "execute_result",
          "data": {
            "text/plain": [
              "torch.Size([10000, 32])"
            ]
          },
          "metadata": {
            "tags": []
          },
          "execution_count": 25
        }
      ]
    },
    {
      "cell_type": "code",
      "metadata": {
        "id": "opaKLETxMCaI"
      },
      "source": [
        "dataset_test_cod = torch.utils.data.TensorDataset(previsores_val_codificados, classe_val)\n",
        "loader_val_cod = torch.utils.data.DataLoader(dataset_test_cod, batch_size = 256, shuffle=True)"
      ],
      "execution_count": null,
      "outputs": []
    },
    {
      "cell_type": "markdown",
      "metadata": {
        "id": "beN7RPHtK8A8"
      },
      "source": [
        "## Etapa 7: Classificação sem redução de dimensionalidade"
      ]
    },
    {
      "cell_type": "code",
      "metadata": {
        "id": "kvATxlNGMqAU"
      },
      "source": [
        "c1 = nn.Sequential(nn.Linear(784, 397),\n",
        "                   nn.ReLU(),\n",
        "                   nn.Linear(397, 10),\n",
        "                   nn.LogSoftmax())\n",
        "c1.to(device)\n",
        "criterion = nn.NLLLoss()\n",
        "optimizer = optim.Adam(c1.parameters())"
      ],
      "execution_count": null,
      "outputs": []
    },
    {
      "cell_type": "code",
      "metadata": {
        "id": "AAn5gDP8KcbK",
        "colab": {
          "base_uri": "https://localhost:8080/",
          "height": 417
        },
        "outputId": "40676cce-cb9d-4525-c0c3-a30cb5922e82"
      },
      "source": [
        "for epoch in range(20):\n",
        "    # Treinamento\n",
        "    running_loss_train = 0.\n",
        "    running_accuracy_train = 0.\n",
        "    for data in loader_train:\n",
        "        c1.train()\n",
        "        inputs, labels = data\n",
        "        inputs, labels = inputs.to(device), labels.to(device)\n",
        "        inputs = inputs.view(-1, 28*28)\n",
        "        optimizer.zero_grad()\n",
        "        outputs = c1(inputs)\n",
        "        ps = torch.exp(outputs)\n",
        "        _, top_class = ps.topk(k = 1, dim = 1)\n",
        "        loss = criterion(outputs, labels)\n",
        "        loss.backward()\n",
        "        optimizer.step()\n",
        "        running_loss_train += loss.item()\n",
        "        running_accuracy_train += accuracy_score(labels.detach().cpu().numpy(),\n",
        "                                                 top_class.detach().cpu().numpy())\n",
        "\n",
        "    # Validação\n",
        "    running_loss_val = 0.\n",
        "    running_accuracy_val = 0.\n",
        "    for data in loader_val:\n",
        "        c1.eval()\n",
        "        inputs, labels = data\n",
        "        inputs, labels = inputs.to(device), labels.to(device)\n",
        "        inputs = inputs.view(-1, 28*28)\n",
        "        outputs = c1(inputs)\n",
        "        ps = torch.exp(outputs)\n",
        "        _, top_class = ps.topk(k = 1, dim = 1)\n",
        "        loss = criterion(outputs, labels)\n",
        "        running_loss_val += loss.item()\n",
        "        running_accuracy_val += accuracy_score(labels.detach().cpu().numpy(),\n",
        "                                               top_class.detach().cpu().numpy())\n",
        "\n",
        "    # Final da época\n",
        "    print('ÉPOCA {:3d}: perda_train {:.5f} precisão_train {:5f} perda_val {:.5f} precisão_val {:5f}'.format(epoch + 1,\n",
        "            running_loss_train/len(loader_train),\n",
        "            running_accuracy_train/len(loader_train),\n",
        "            running_loss_val/len(loader_val),\n",
        "            running_accuracy_val/len(loader_val)))"
      ],
      "execution_count": null,
      "outputs": [
        {
          "output_type": "stream",
          "text": [
            "/usr/local/lib/python3.6/dist-packages/torch/nn/modules/container.py:100: UserWarning: Implicit dimension choice for log_softmax has been deprecated. Change the call to include dim=X as an argument.\n",
            "  input = module(input)\n"
          ],
          "name": "stderr"
        },
        {
          "output_type": "stream",
          "text": [
            "ÉPOCA   1: perda_train 0.41315 precisão_train 0.892509 perda_val 0.21626 precisão_val 0.937305\n",
            "ÉPOCA   2: perda_train 0.18429 precisão_train 0.946742 perda_val 0.15411 precisão_val 0.954395\n",
            "ÉPOCA   3: perda_train 0.12669 precisão_train 0.963115 perda_val 0.11340 precisão_val 0.965430\n",
            "ÉPOCA   4: perda_train 0.09371 precisão_train 0.973055 perda_val 0.09151 precisão_val 0.972852\n",
            "ÉPOCA   5: perda_train 0.07281 precisão_train 0.979239 perda_val 0.09010 precisão_val 0.972656\n",
            "ÉPOCA   6: perda_train 0.05920 precisão_train 0.982923 perda_val 0.08068 precisão_val 0.975000\n",
            "ÉPOCA   7: perda_train 0.04797 precisão_train 0.986569 perda_val 0.07780 precisão_val 0.974609\n",
            "ÉPOCA   8: perda_train 0.04003 precisão_train 0.988431 perda_val 0.07258 precisão_val 0.976270\n",
            "ÉPOCA   9: perda_train 0.03217 precisão_train 0.991384 perda_val 0.06726 precisão_val 0.977637\n",
            "ÉPOCA  10: perda_train 0.02703 precisão_train 0.992631 perda_val 0.06395 precisão_val 0.979590\n",
            "ÉPOCA  11: perda_train 0.02234 precisão_train 0.994587 perda_val 0.06843 precisão_val 0.979102\n",
            "ÉPOCA  12: perda_train 0.01870 precisão_train 0.995728 perda_val 0.06721 precisão_val 0.979004\n",
            "ÉPOCA  13: perda_train 0.01481 precisão_train 0.997014 perda_val 0.06417 precisão_val 0.980078\n",
            "ÉPOCA  14: perda_train 0.01265 precisão_train 0.997523 perda_val 0.06097 precisão_val 0.980859\n",
            "ÉPOCA  15: perda_train 0.01033 precisão_train 0.998221 perda_val 0.06412 precisão_val 0.980469\n",
            "ÉPOCA  16: perda_train 0.00826 precisão_train 0.998570 perda_val 0.06946 precisão_val 0.979102\n",
            "ÉPOCA  17: perda_train 0.00651 precisão_train 0.999285 perda_val 0.06659 precisão_val 0.980273\n",
            "ÉPOCA  18: perda_train 0.00549 precisão_train 0.999435 perda_val 0.06724 precisão_val 0.980957\n",
            "ÉPOCA  19: perda_train 0.00459 precisão_train 0.999601 perda_val 0.06630 precisão_val 0.982031\n",
            "ÉPOCA  20: perda_train 0.00393 precisão_train 0.999701 perda_val 0.06823 precisão_val 0.981445\n"
          ],
          "name": "stdout"
        }
      ]
    },
    {
      "cell_type": "markdown",
      "metadata": {
        "id": "xatZwiX9LBvI"
      },
      "source": [
        "## Etapa 8: Classificação com redução de dimensionalidade"
      ]
    },
    {
      "cell_type": "code",
      "metadata": {
        "id": "C_O2gkpGLFTZ"
      },
      "source": [
        "c2 = nn.Sequential(\n",
        "        nn.Linear(32, 21),\n",
        "        nn.ReLU(),\n",
        "        nn.Linear(21, 10),\n",
        "        nn.LogSoftmax())\n",
        "c2.to(device)\n",
        "criterion = nn.NLLLoss()\n",
        "optimizer = optim.Adam(c2.parameters())"
      ],
      "execution_count": null,
      "outputs": []
    },
    {
      "cell_type": "code",
      "metadata": {
        "id": "MyXw8IT9LMTQ",
        "colab": {
          "base_uri": "https://localhost:8080/",
          "height": 417
        },
        "outputId": "e1a33129-3e42-4bc4-bc24-a2c497b605bb"
      },
      "source": [
        "for epoch in range(20):\n",
        "    running_loss_train = 0.\n",
        "    running_accuracy_train = 0.\n",
        "    for data in loader_train_cod:\n",
        "        c2.train()\n",
        "        inputs, labels = data\n",
        "        inputs, labels = inputs.to(device), labels.to(device)\n",
        "        optimizer.zero_grad()\n",
        "        outputs = c2(inputs)\n",
        "        ps = torch.exp(outputs)\n",
        "        _, top_class = ps.topk(k = 1, dim = 1)\n",
        "        loss = criterion(outputs, labels)\n",
        "        loss.backward()\n",
        "        optimizer.step()\n",
        "        running_loss_train += loss.item()\n",
        "        running_accuracy_train += accuracy_score(labels.detach().cpu().numpy(),\n",
        "                                                 top_class.detach().cpu().numpy())\n",
        "\n",
        "    # Validação\n",
        "    running_loss_val = 0.\n",
        "    running_accuracy_val = 0.\n",
        "    for data in loader_val_cod:\n",
        "        c2.eval()\n",
        "        inputs, labels = data\n",
        "        inputs, labels = inputs.to(device), labels.to(device)\n",
        "        outputs = c2(inputs)\n",
        "        ps = torch.exp(outputs)\n",
        "        _, top_class = ps.topk(k = 1, dim = 1)\n",
        "        loss = criterion(outputs, labels)\n",
        "        running_loss_val += loss.item()\n",
        "        running_accuracy_val += accuracy_score(labels.detach().cpu().numpy(),\n",
        "                                               top_class.detach().cpu().numpy())\n",
        "\n",
        "    # Final da época\n",
        "    print('ÉPOCA {:3d}: perda_train {:.5f} precisão_train {:5f} perda_val {:.5f} precisão_val {:5f}'.format(epoch + 1,\n",
        "            running_loss_train/len(loader_train),\n",
        "            running_accuracy_train/len(loader_train),\n",
        "            running_loss_val/len(loader_val),\n",
        "            running_accuracy_val/len(loader_val)))"
      ],
      "execution_count": null,
      "outputs": [
        {
          "output_type": "stream",
          "text": [
            "/usr/local/lib/python3.6/dist-packages/torch/nn/modules/container.py:100: UserWarning: Implicit dimension choice for log_softmax has been deprecated. Change the call to include dim=X as an argument.\n",
            "  input = module(input)\n"
          ],
          "name": "stderr"
        },
        {
          "output_type": "stream",
          "text": [
            "ÉPOCA   1: perda_train 1.47602 precisão_train 0.533405 perda_val 0.70256 precisão_val 0.801562\n",
            "ÉPOCA   2: perda_train 0.56294 precisão_train 0.842260 perda_val 0.47147 precisão_val 0.863867\n",
            "ÉPOCA   3: perda_train 0.44143 precisão_train 0.869376 perda_val 0.39152 precisão_val 0.883496\n",
            "ÉPOCA   4: perda_train 0.40128 precisão_train 0.879737 perda_val 0.36594 precisão_val 0.892871\n",
            "ÉPOCA   5: perda_train 0.37880 precisão_train 0.886769 perda_val 0.34917 precisão_val 0.900098\n",
            "ÉPOCA   6: perda_train 0.35935 precisão_train 0.892559 perda_val 0.34044 precisão_val 0.900000\n",
            "ÉPOCA   7: perda_train 0.34318 precisão_train 0.896410 perda_val 0.31632 precisão_val 0.907324\n",
            "ÉPOCA   8: perda_train 0.32880 precisão_train 0.901463 perda_val 0.30438 precisão_val 0.912305\n",
            "ÉPOCA   9: perda_train 0.31766 precisão_train 0.904028 perda_val 0.31044 precisão_val 0.909668\n",
            "ÉPOCA  10: perda_train 0.30737 precisão_train 0.908018 perda_val 0.28630 precisão_val 0.919727\n",
            "ÉPOCA  11: perda_train 0.29784 precisão_train 0.911403 perda_val 0.28392 precisão_val 0.918066\n",
            "ÉPOCA  12: perda_train 0.28957 precisão_train 0.914306 perda_val 0.28173 precisão_val 0.914844\n",
            "ÉPOCA  13: perda_train 0.28340 precisão_train 0.916434 perda_val 0.26894 precisão_val 0.921875\n",
            "ÉPOCA  14: perda_train 0.27844 precisão_train 0.918911 perda_val 0.27092 precisão_val 0.917773\n",
            "ÉPOCA  15: perda_train 0.27270 precisão_train 0.920540 perda_val 0.26255 precisão_val 0.922852\n",
            "ÉPOCA  16: perda_train 0.26896 precisão_train 0.920706 perda_val 0.25467 precisão_val 0.921973\n",
            "ÉPOCA  17: perda_train 0.26455 precisão_train 0.921980 perda_val 0.25633 precisão_val 0.926660\n",
            "ÉPOCA  18: perda_train 0.26062 precisão_train 0.923343 perda_val 0.26662 precisão_val 0.921875\n",
            "ÉPOCA  19: perda_train 0.25745 precisão_train 0.923770 perda_val 0.25540 precisão_val 0.926172\n",
            "ÉPOCA  20: perda_train 0.25468 precisão_train 0.925814 perda_val 0.24678 precisão_val 0.924902\n"
          ],
          "name": "stdout"
        }
      ]
    }
  ]
}
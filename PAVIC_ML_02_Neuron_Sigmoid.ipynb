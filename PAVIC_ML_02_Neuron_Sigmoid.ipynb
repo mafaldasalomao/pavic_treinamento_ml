{
  "nbformat": 4,
  "nbformat_minor": 0,
  "metadata": {
    "colab": {
      "provenance": [],
      "authorship_tag": "ABX9TyML9MDviAFAXBbWCBsQHFq/",
      "include_colab_link": true
    },
    "kernelspec": {
      "name": "python3",
      "display_name": "Python 3"
    },
    "language_info": {
      "name": "python"
    }
  },
  "cells": [
    {
      "cell_type": "markdown",
      "metadata": {
        "id": "view-in-github",
        "colab_type": "text"
      },
      "source": [
        "<a href=\"https://colab.research.google.com/github/mafaldasalomao/pavic_treinamento_ml/blob/main/PAVIC_ML_02_Neuron_Sigmoid.ipynb\" target=\"_parent\"><img src=\"https://colab.research.google.com/assets/colab-badge.svg\" alt=\"Open In Colab\"/></a>"
      ]
    },
    {
      "cell_type": "code",
      "source": [
        "import numpy as np\n",
        "import pandas as pd\n",
        "import matplotlib.pyplot as plt\n",
        "from sklearn.linear_model import LogisticRegression\n",
        "from sklearn.preprocessing import MinMaxScaler\n",
        "from sklearn.metrics import accuracy_score\n",
        "from mpl_toolkits.mplot3d import Axes3D\n",
        "\n",
        "%matplotlib inline"
      ],
      "metadata": {
        "id": "ppwVt8hLUoZq"
      },
      "execution_count": 7,
      "outputs": []
    },
    {
      "cell_type": "markdown",
      "source": [
        "A __Regressão Logística__, apesar do nome, é uma técnica utilizada para fazer __classificação binária__. Nesse caso, ao invés de prever um valor contínuo, a nossa __saída é composta de apenas dois valores: 0 ou 1__, em geral. Para fazer a regressão logística, utilizamos como função de ativação a função conhecida como __sigmoid__. Tal função, é descrita pela seguinte fórmula:\n",
        "\n",
        "$$\\widehat{y} = \\frac{1}{1+e^{-z}} = \\frac{e^z}{1+e^z}$$\n",
        "\n",
        "No caso de redes neurais, em geral consideramos $z(w,b) = xw^T + b$."
      ],
      "metadata": {
        "id": "KJCCKjPpvRTd"
      }
    },
    {
      "cell_type": "markdown",
      "source": [
        "# Função de Custo"
      ],
      "metadata": {
        "id": "oFo77qRrvTL_"
      }
    },
    {
      "cell_type": "markdown",
      "source": [
        "A função de custo da regressão logística é chamada de __entropia cruzada__ (do inglês, __cross-entropy__) e é definida pela seguinte fórmula:\n",
        "\n",
        "$$J(z) = -\\frac{1}{N}\\sum_{i}^N y_i\\log(\\widehat{y}_i) + (1-y_i)\\log(1-\\widehat{y}_i)$$\n",
        "\n",
        "Onde $N$ é quantidade de amostras e $y_i$ representa o valor da $i$-ésima amostra (0 ou 1). Lembrando que $\\widehat{y}_i$ é agora calculada agora utilizando a função ___sigmoid___, como mostrado na seção anterior.\n",
        "\n",
        "Repare também que:\n",
        "\n",
        "- quando $y_i = 0$, o primeiro termo anula-se (pois $y_i = 0$). Logo, vamos considerar os dois casos extremos para $\\widehat{y}_i = 0$ no segundo termo da equação ($(1-y_i)\\log(1-\\widehat{y}_i)$):\n",
        "    - quando $\\widehat{y}_i = 0$, temos que o $\\log(1-\\widehat{y}_i) = \\log(1) = 0$. Logo, o nosso custo $J = 0$. Repare que isso faz todo sentido, pois $y_i = 0$ e $\\widehat{y}_i = 0$. \n",
        "    - quando $\\widehat{y}_i = 1$, temos que o $\\log(1-\\widehat{y}_i) = \\log(0) = \\infty$. Agora, o nosso custo $J = \\infty$. Ou seja, quanto mais diferente são $y_i$ e $\\widehat{y}_i$, maior o nosso custo.\n",
        "- quando $y_i = 1$, o segundo termo anula-se (pois $(1-y_i) = 0$). Novamente, vamos considerar os dois casos extremos para $\\widehat{y}_i = 0$, só que agora no primeiro termo da equação ($y_i\\log(\\widehat{y}_i)$):\n",
        "    - quando $\\widehat{y}_i = 0$, temos que o $\\log(\\widehat{y}_i) = \\infty$. Logo, o nosso custo $J = \\infty$. Novamente, como $y_i$ e $\\widehat{y}_i$ são bem diferentes, o custo tende a aumentar.\n",
        "    - quando $\\widehat{y}_i = 1$, temos que $\\log(\\widehat{y}_i) = \\log(1) = 0$. Agora, o nosso custo $J = 0$. Novamente, isso faz todo sentido, pois $y_i = 1$ e $\\widehat{y}_i = 1$.\n"
      ],
      "metadata": {
        "id": "ExeUxGu2vTzu"
      }
    },
    {
      "cell_type": "markdown",
      "source": [
        "## Derivada da Cross-Entropy"
      ],
      "metadata": {
        "id": "GHrZ3oDVvWml"
      }
    },
    {
      "cell_type": "markdown",
      "source": [
        "Para calcular a derivada da nossa função de custo $J(z)$, primeiramente vamos calcular $\\log(\\widehat{y}_i)$:\n",
        "\n",
        "$$\\log(\\widehat{y}_i) = log\\frac{1}{1+e^{-z}} = log(1) - log(1+e^{-z}) = -log(1+e^{-z})$$\n",
        "\n",
        "E $\\log(1-\\widehat{y}_i)$:\n",
        "\n",
        "$$\\log(1-\\widehat{y}_i) = log \\left(1-\\frac{1}{1+e^{-z}}\\right) = log(e^{-z}) - log(1+e^{-z}) = -z -log(1+e^{-z})$$\n",
        "\n",
        "Substituindo as duas equações anteriores na fórmula da função de custo, temos:\n",
        "\n",
        "$$J(z) = -\\frac{1}{N}\\sum_{i}^N \\left[-y_i\\log(1+e^{-z}) + (1-y_i)(-z -\\log(1+e^{-z}))\\right]$$\n",
        "\n",
        "Efetuando as distribuições, podemos simplificar a equação acima para:\n",
        "\n",
        "$$J(z) = -\\frac{1}{N}\\sum_{i}^N \\left[y_iz -z -\\log(1+e^{-z})\\right]$$\n",
        "\n",
        "Uma vez que:\n",
        "\n",
        "$$-z -\\log(1+e^{-z}) = -\\left[\\log e^{z} + log(1+e^{-z})\\right] = -log(1+e^z)$$\n",
        "\n",
        "Temos:\n",
        "\n",
        "$$J(z) = -\\frac{1}{N}\\sum_{i}^N \\left[y_iz -\\log(1+e^z)\\right]$$\n",
        "\n",
        "Como a derivada da diferença é igual a diferença das derivadas, podemos calcular cada derivada individualmente em relação a $w$:\n",
        "\n",
        "$$\\frac{\\partial}{\\partial w_i}y_iz = y_ix_i,\\quad \\frac{\\partial}{\\partial w_i}\\log(1+e^z) = \\frac{x_ie^z}{1+e^z} = x_i \\widehat{y}_i$$\n",
        "\n",
        "e em relação à $b$:\n",
        "\n",
        "$$\\frac{\\partial}{\\partial b}y_iz = y_i,\\quad \\frac{\\partial}{\\partial b}\\log(1+e^z) = \\frac{e^z}{1+e^z} = \\widehat{y}_i$$\n",
        "\n",
        "Assim, a derivada da nossa função de custo $J(z)$ é:\n",
        "\n",
        "$$\\frac{\\partial}{\\partial w_i}J(z) = \\sum_i^N (y_i - \\widehat{y}_i)x_i$$\n",
        "\n",
        "$$\\frac{\\partial}{\\partial b}J(z) = \\sum_i^N (y_i - \\widehat{y}_i)$$\n",
        "\n",
        "Por fim, repare que o __gradiente de J ($\\nabla J$) é exatamente o mesmo que o gradiente da função de custo do [Perceptron Linear](Perceptron.ipynb#Como-o-Perceptron-Aprende?)__. Portanto, os pesos serão atualizados da mesma maneira. O que muda é a forma como calculamos $\\widehat{y}$ (agora usando a função _sigmoid_) e a função de custo $J$."
      ],
      "metadata": {
        "id": "LfoXvnxsvbOt"
      }
    },
    {
      "cell_type": "markdown",
      "source": [
        "# Regressão Logística"
      ],
      "metadata": {
        "id": "5yqjO_ka1s75"
      }
    },
    {
      "cell_type": "code",
      "source": [
        "df = pd.read_csv('/content/anuncios.csv')\n",
        "print(df.shape)\n",
        "df.head()"
      ],
      "metadata": {
        "colab": {
          "base_uri": "https://localhost:8080/",
          "height": 223
        },
        "id": "3Ltjn7dA10oi",
        "outputId": "4498ddc8-bf48-4128-804b-bdfe0a4a61b8"
      },
      "execution_count": 2,
      "outputs": [
        {
          "output_type": "stream",
          "name": "stdout",
          "text": [
            "(400, 3)\n"
          ]
        },
        {
          "output_type": "execute_result",
          "data": {
            "text/plain": [
              "   idade  salario  comprou\n",
              "0     19    19000        0\n",
              "1     35    20000        0\n",
              "2     26    43000        0\n",
              "3     27    57000        0\n",
              "4     19    76000        0"
            ],
            "text/html": [
              "\n",
              "  <div id=\"df-e3469ea7-bb55-4b04-822b-5180a1179b37\">\n",
              "    <div class=\"colab-df-container\">\n",
              "      <div>\n",
              "<style scoped>\n",
              "    .dataframe tbody tr th:only-of-type {\n",
              "        vertical-align: middle;\n",
              "    }\n",
              "\n",
              "    .dataframe tbody tr th {\n",
              "        vertical-align: top;\n",
              "    }\n",
              "\n",
              "    .dataframe thead th {\n",
              "        text-align: right;\n",
              "    }\n",
              "</style>\n",
              "<table border=\"1\" class=\"dataframe\">\n",
              "  <thead>\n",
              "    <tr style=\"text-align: right;\">\n",
              "      <th></th>\n",
              "      <th>idade</th>\n",
              "      <th>salario</th>\n",
              "      <th>comprou</th>\n",
              "    </tr>\n",
              "  </thead>\n",
              "  <tbody>\n",
              "    <tr>\n",
              "      <th>0</th>\n",
              "      <td>19</td>\n",
              "      <td>19000</td>\n",
              "      <td>0</td>\n",
              "    </tr>\n",
              "    <tr>\n",
              "      <th>1</th>\n",
              "      <td>35</td>\n",
              "      <td>20000</td>\n",
              "      <td>0</td>\n",
              "    </tr>\n",
              "    <tr>\n",
              "      <th>2</th>\n",
              "      <td>26</td>\n",
              "      <td>43000</td>\n",
              "      <td>0</td>\n",
              "    </tr>\n",
              "    <tr>\n",
              "      <th>3</th>\n",
              "      <td>27</td>\n",
              "      <td>57000</td>\n",
              "      <td>0</td>\n",
              "    </tr>\n",
              "    <tr>\n",
              "      <th>4</th>\n",
              "      <td>19</td>\n",
              "      <td>76000</td>\n",
              "      <td>0</td>\n",
              "    </tr>\n",
              "  </tbody>\n",
              "</table>\n",
              "</div>\n",
              "      <button class=\"colab-df-convert\" onclick=\"convertToInteractive('df-e3469ea7-bb55-4b04-822b-5180a1179b37')\"\n",
              "              title=\"Convert this dataframe to an interactive table.\"\n",
              "              style=\"display:none;\">\n",
              "        \n",
              "  <svg xmlns=\"http://www.w3.org/2000/svg\" height=\"24px\"viewBox=\"0 0 24 24\"\n",
              "       width=\"24px\">\n",
              "    <path d=\"M0 0h24v24H0V0z\" fill=\"none\"/>\n",
              "    <path d=\"M18.56 5.44l.94 2.06.94-2.06 2.06-.94-2.06-.94-.94-2.06-.94 2.06-2.06.94zm-11 1L8.5 8.5l.94-2.06 2.06-.94-2.06-.94L8.5 2.5l-.94 2.06-2.06.94zm10 10l.94 2.06.94-2.06 2.06-.94-2.06-.94-.94-2.06-.94 2.06-2.06.94z\"/><path d=\"M17.41 7.96l-1.37-1.37c-.4-.4-.92-.59-1.43-.59-.52 0-1.04.2-1.43.59L10.3 9.45l-7.72 7.72c-.78.78-.78 2.05 0 2.83L4 21.41c.39.39.9.59 1.41.59.51 0 1.02-.2 1.41-.59l7.78-7.78 2.81-2.81c.8-.78.8-2.07 0-2.86zM5.41 20L4 18.59l7.72-7.72 1.47 1.35L5.41 20z\"/>\n",
              "  </svg>\n",
              "      </button>\n",
              "      \n",
              "  <style>\n",
              "    .colab-df-container {\n",
              "      display:flex;\n",
              "      flex-wrap:wrap;\n",
              "      gap: 12px;\n",
              "    }\n",
              "\n",
              "    .colab-df-convert {\n",
              "      background-color: #E8F0FE;\n",
              "      border: none;\n",
              "      border-radius: 50%;\n",
              "      cursor: pointer;\n",
              "      display: none;\n",
              "      fill: #1967D2;\n",
              "      height: 32px;\n",
              "      padding: 0 0 0 0;\n",
              "      width: 32px;\n",
              "    }\n",
              "\n",
              "    .colab-df-convert:hover {\n",
              "      background-color: #E2EBFA;\n",
              "      box-shadow: 0px 1px 2px rgba(60, 64, 67, 0.3), 0px 1px 3px 1px rgba(60, 64, 67, 0.15);\n",
              "      fill: #174EA6;\n",
              "    }\n",
              "\n",
              "    [theme=dark] .colab-df-convert {\n",
              "      background-color: #3B4455;\n",
              "      fill: #D2E3FC;\n",
              "    }\n",
              "\n",
              "    [theme=dark] .colab-df-convert:hover {\n",
              "      background-color: #434B5C;\n",
              "      box-shadow: 0px 1px 3px 1px rgba(0, 0, 0, 0.15);\n",
              "      filter: drop-shadow(0px 1px 2px rgba(0, 0, 0, 0.3));\n",
              "      fill: #FFFFFF;\n",
              "    }\n",
              "  </style>\n",
              "\n",
              "      <script>\n",
              "        const buttonEl =\n",
              "          document.querySelector('#df-e3469ea7-bb55-4b04-822b-5180a1179b37 button.colab-df-convert');\n",
              "        buttonEl.style.display =\n",
              "          google.colab.kernel.accessAllowed ? 'block' : 'none';\n",
              "\n",
              "        async function convertToInteractive(key) {\n",
              "          const element = document.querySelector('#df-e3469ea7-bb55-4b04-822b-5180a1179b37');\n",
              "          const dataTable =\n",
              "            await google.colab.kernel.invokeFunction('convertToInteractive',\n",
              "                                                     [key], {});\n",
              "          if (!dataTable) return;\n",
              "\n",
              "          const docLinkHtml = 'Like what you see? Visit the ' +\n",
              "            '<a target=\"_blank\" href=https://colab.research.google.com/notebooks/data_table.ipynb>data table notebook</a>'\n",
              "            + ' to learn more about interactive tables.';\n",
              "          element.innerHTML = '';\n",
              "          dataTable['output_type'] = 'display_data';\n",
              "          await google.colab.output.renderOutput(dataTable, element);\n",
              "          const docLink = document.createElement('div');\n",
              "          docLink.innerHTML = docLinkHtml;\n",
              "          element.appendChild(docLink);\n",
              "        }\n",
              "      </script>\n",
              "    </div>\n",
              "  </div>\n",
              "  "
            ]
          },
          "metadata": {},
          "execution_count": 2
        }
      ]
    },
    {
      "cell_type": "code",
      "source": [
        "x, y = df.idade.values.reshape(-1,1), df.comprou.values.reshape(-1,1)\n",
        "\n",
        "print(x.shape, y.shape)"
      ],
      "metadata": {
        "colab": {
          "base_uri": "https://localhost:8080/"
        },
        "id": "dLxlx6Hu2U5R",
        "outputId": "5c5cc117-cc9c-4569-9946-3f863d510ba7"
      },
      "execution_count": 3,
      "outputs": [
        {
          "output_type": "stream",
          "name": "stdout",
          "text": [
            "(400, 1) (400, 1)\n"
          ]
        }
      ]
    },
    {
      "cell_type": "code",
      "source": [
        "plt.scatter(x, y, c=y, cmap='bwr')\n",
        "plt.xlabel('idade')\n",
        "plt.ylabel('comprou?')"
      ],
      "metadata": {
        "id": "quH-8U0A2YvR",
        "colab": {
          "base_uri": "https://localhost:8080/",
          "height": 296
        },
        "outputId": "1240bd99-a143-4b57-9d4b-5efe5122f6ec"
      },
      "execution_count": 4,
      "outputs": [
        {
          "output_type": "execute_result",
          "data": {
            "text/plain": [
              "Text(0, 0.5, 'comprou?')"
            ]
          },
          "metadata": {},
          "execution_count": 4
        },
        {
          "output_type": "display_data",
          "data": {
            "text/plain": [
              "<Figure size 432x288 with 1 Axes>"
            ],
            "image/png": "[encoded data removed]"
          },
          "metadata": {
            "needs_background": "light"
          }
        }
      ]
    },
    {
      "cell_type": "code",
      "source": [
        "minmax = MinMaxScaler(feature_range=(-1,1))\n",
        "x = minmax.fit_transform(x.astype(np.float64))\n",
        "\n",
        "print(x.min(), x.max())"
      ],
      "metadata": {
        "colab": {
          "base_uri": "https://localhost:8080/"
        },
        "id": "NBRXBMG03M6R",
        "outputId": "dab0fcc9-5b43-4fa9-c4f7-0913fd83bca0"
      },
      "execution_count": 5,
      "outputs": [
        {
          "output_type": "stream",
          "name": "stdout",
          "text": [
            "-1.0 0.9999999999999996\n"
          ]
        }
      ]
    },
    {
      "cell_type": "markdown",
      "source": [
        "Vamos utilizar o _sklearn_ como gabarito para nossa implementação. Entretanto, como a Regressão Logística do _sklearn_ faz uma __regularização L2__ automaticamente, temos de definir $C=10^{15}$ para \"anular\" a regularização. O parâmetro $C$ define a inversa da força da regularização (ver [documentação](http://scikit-learn.org/stable/modules/generated/sklearn.linear_model.LogisticRegression.html)). __Logo, quanto menor for o $C$, maior será a regularização e menores serão os valores dos pesos e bias.__"
      ],
      "metadata": {
        "id": "BMlI3ulWv0AF"
      }
    },
    {
      "cell_type": "code",
      "source": [
        "clf_sk = LogisticRegression(C=1e15)\n",
        "clf_sk.fit(x, y.ravel())\n",
        "\n",
        "print(clf_sk.coef_, clf_sk.intercept_)\n",
        "print(clf_sk.score(x, y))"
      ],
      "metadata": {
        "colab": {
          "base_uri": "https://localhost:8080/"
        },
        "id": "Qo_-VAmx2bsP",
        "outputId": "ca7563cb-31c2-431a-8bc0-faf9758e6180"
      },
      "execution_count": 9,
      "outputs": [
        {
          "output_type": "stream",
          "name": "stdout",
          "text": [
            "[[3.96794251]] [-0.67510634]\n",
            "0.84\n"
          ]
        }
      ]
    },
    {
      "cell_type": "code",
      "source": [
        "x_test = np.linspace(x.min(), x.max(), 100).reshape(-1,1)\n",
        "y_sk = clf_sk.predict_proba(x_test)\n",
        "\n",
        "plt.scatter(x, y, c=y, cmap='bwr')\n",
        "plt.plot(x_test, y_sk[:,1], color='black')\n",
        "plt.xlabel('idade')\n",
        "plt.ylabel('comprou?')"
      ],
      "metadata": {
        "colab": {
          "base_uri": "https://localhost:8080/",
          "height": 296
        },
        "id": "uua01Wmd4EpM",
        "outputId": "82d6935f-54c2-4f38-d4d9-da18557ccfd9"
      },
      "execution_count": 10,
      "outputs": [
        {
          "output_type": "execute_result",
          "data": {
            "text/plain": [
              "Text(0, 0.5, 'comprou?')"
            ]
          },
          "metadata": {},
          "execution_count": 10
        },
        {
          "output_type": "display_data",
          "data": {
            "text/plain": [
              "<Figure size 432x288 with 1 Axes>"
            ],
            "image/png": "[encoded data removed]"
          },
          "metadata": {
            "needs_background": "light"
          }
        }
      ]
    },
    {
      "cell_type": "code",
      "source": [
        "# implemente a função sigmoid aqui\n",
        "def sigmoid(x):\n",
        "  return 1.0/(1.0 + np.exp(-x))"
      ],
      "metadata": {
        "id": "tq-trn-6Fkne"
      },
      "execution_count": 11,
      "outputs": []
    },
    {
      "cell_type": "code",
      "source": [
        "D = x.shape[1]\n",
        "w = 2*np.random.random((1, D)) - 1# 1x1\n",
        "b = 2*np.random.random() - 1\n",
        "learning_rate = 1.0\n",
        "#calculo para todas amostras de uma vez .... nao por registro\n",
        "for step in range(1):\n",
        "  z = np.dot(x, w.T) + b # [400x1] --> [1x1] + [1x1]\n",
        "  y_pred = sigmoid(z)  # [400x1]\n",
        "  error = y - y_pred # [400x1]\n",
        "  w = w + learning_rate*np.dot(error.T, x)\n",
        "  b = b + learning_rate*error.sum()\n",
        "  if step"
      ],
      "metadata": {
        "id": "j_UA_W3iGKD_"
      },
      "execution_count": null,
      "outputs": []
    },
    {
      "cell_type": "code",
      "source": [
        "x_test = np.linspace(x.min(), x.max(), 100).reshape(-1,1)\n",
        "y_sk = clf_sk.predict_proba(x_test)\n",
        "y_pred = sigmoid(np.dot(x_test, w.T) + b)\n",
        "\n",
        "plt.scatter(x, y, c=y, cmap='bwr')\n",
        "plt.plot(x_test, y_sk[:,1], color='black', linewidth=7.0)\n",
        "plt.plot(x_test, y_pred, color='yellow')\n",
        "plt.xlabel('idade')\n",
        "plt.ylabel('comprou?')"
      ],
      "metadata": {
        "id": "erIPu7wYFqGr"
      },
      "execution_count": null,
      "outputs": []
    },
    {
      "cell_type": "code",
      "source": [
        "print('Acurácia pelo Scikit-learn: {:.2f}%'.format(clf_sk.score(x, y)*100))\n",
        "\n",
        "y_pred = np.round(sigmoid(np.dot(x, w.T) + b))\n",
        "print('Acurária pela nossa implementação: {:.2f}%'.format(accuracy_score(y, y_pred)*100))"
      ],
      "metadata": {
        "id": "6ew3PF8uFsNU"
      },
      "execution_count": null,
      "outputs": []
    },
    {
      "cell_type": "markdown",
      "source": [
        "# Exercícios"
      ],
      "metadata": {
        "id": "pMaIGPO3Ft1a"
      }
    },
    {
      "cell_type": "code",
      "source": [
        "x, y = df[['idade', 'salario']].values, df.comprou.values.reshape(-1,1)\n",
        "\n",
        "print(x.shape, y.shape)"
      ],
      "metadata": {
        "id": "XdTnsSYAFuhv"
      },
      "execution_count": null,
      "outputs": []
    },
    {
      "cell_type": "code",
      "source": [
        "fig = plt.figure(figsize=(8,6))\n",
        "ax = fig.add_subplot(111, projection='3d')\n",
        "ax.scatter3D(x[:,0], x[:,1], y, c=y.ravel())"
      ],
      "metadata": {
        "id": "D9GuO0wiFzE5"
      },
      "execution_count": null,
      "outputs": []
    },
    {
      "cell_type": "code",
      "source": [
        "minmax = MinMaxScaler(feature_range=(-1,1))\n",
        "x = minmax.fit_transform(x.astype(np.float64))\n",
        "\n",
        "print(x.min(), x.max())"
      ],
      "metadata": {
        "id": "IE18HgfXF0_b"
      },
      "execution_count": null,
      "outputs": []
    }
  ]
}
{
  "nbformat": 4,
  "nbformat_minor": 0,
  "metadata": {
    "colab": {
      "provenance": [],
      "include_colab_link": true
    },
    "kernelspec": {
      "name": "python3",
      "display_name": "Python 3"
    },
    "accelerator": "GPU"
  },
  "cells": [
    {
      "cell_type": "markdown",
      "metadata": {
        "id": "view-in-github",
        "colab_type": "text"
      },
      "source": [
        "<a href=\"https://colab.research.google.com/github/mafaldasalomao/pavic_treinamento_ml/blob/main/PAVIC_ML_24_rnn_multiplas_saidas.ipynb\" target=\"_parent\"><img src=\"https://colab.research.google.com/assets/colab-badge.svg\" alt=\"Open In Colab\"/></a>"
      ]
    },
    {
      "cell_type": "markdown",
      "metadata": {
        "id": "rD_RSER5Lkb5"
      },
      "source": [
        "# Previsão do preço de ações com redes neurais recorrentes - múltiplas saídas"
      ]
    },
    {
      "cell_type": "markdown",
      "metadata": {
        "id": "5tP2BcEILoLB"
      },
      "source": [
        "## Etapa 1: Importação das bibliotecas"
      ]
    },
    {
      "cell_type": "code",
      "metadata": {
        "id": "Yf0FpJ35Lf-Z",
        "outputId": "658f1db5-92c2-4784-c1a6-34734b4bff0a",
        "colab": {
          "base_uri": "https://localhost:8080/",
          "height": 36
        }
      },
      "source": [
        "import numpy as np\n",
        "import pandas as pd\n",
        "from sklearn.preprocessing import MinMaxScaler\n",
        "import matplotlib.pyplot as plt\n",
        "import torch\n",
        "from torch import nn, optim\n",
        "from sklearn.metrics import mean_absolute_error\n",
        "torch.__version__"
      ],
      "execution_count": 26,
      "outputs": [
        {
          "output_type": "execute_result",
          "data": {
            "text/plain": [
              "'2.0.1+cu118'"
            ],
            "application/vnd.google.colaboratory.intrinsic+json": {
              "type": "string"
            }
          },
          "metadata": {},
          "execution_count": 26
        }
      ]
    },
    {
      "cell_type": "code",
      "metadata": {
        "id": "X1vw_qANCnRx",
        "outputId": "d4a64788-f760-4361-e2e1-7c9d26d61dcc",
        "colab": {
          "base_uri": "https://localhost:8080/"
        }
      },
      "source": [
        "torch.manual_seed(123)"
      ],
      "execution_count": 27,
      "outputs": [
        {
          "output_type": "execute_result",
          "data": {
            "text/plain": [
              "<torch._C.Generator at 0x7f6d5a2da210>"
            ]
          },
          "metadata": {},
          "execution_count": 27
        }
      ]
    },
    {
      "cell_type": "markdown",
      "metadata": {
        "id": "C0SD4dJ4MDMN"
      },
      "source": [
        "## Etapa 2: Base de dados"
      ]
    },
    {
      "cell_type": "code",
      "metadata": {
        "id": "kPclooeTA_15"
      },
      "source": [
        "base = pd.read_csv('petr4_treinamento.csv')\n",
        "base = base.dropna()\n",
        "base_train = base.iloc[:, 1:3].values"
      ],
      "execution_count": 28,
      "outputs": []
    },
    {
      "cell_type": "code",
      "metadata": {
        "id": "zeAUr9LL1Qov",
        "outputId": "806075c9-a00b-44c5-a358-2f165f7914a7",
        "colab": {
          "base_uri": "https://localhost:8080/",
          "height": 206
        }
      },
      "source": [
        "base.head()"
      ],
      "execution_count": 29,
      "outputs": [
        {
          "output_type": "execute_result",
          "data": {
            "text/plain": [
              "         Date       Open       High        Low      Close  Adj Close  \\\n",
              "0  2013-01-02  19.990000  20.209999  19.690001  19.690001  18.086271   \n",
              "1  2013-01-03  19.809999  20.400000  19.700001  20.400000  18.738441   \n",
              "2  2013-01-04  20.330000  20.620001  20.170000  20.430000  18.766001   \n",
              "3  2013-01-07  20.480000  20.670000  19.950001  20.080000  18.444506   \n",
              "4  2013-01-08  20.110001  20.230000  19.459999  19.500000  17.911745   \n",
              "\n",
              "       Volume  \n",
              "0  30182600.0  \n",
              "1  30552600.0  \n",
              "2  36141000.0  \n",
              "3  28069600.0  \n",
              "4  29091300.0  "
            ],
            "text/html": [
              "\n",
              "  <div id=\"df-2cb0ec98-3f76-4ebd-96df-4b30191d310c\">\n",
              "    <div class=\"colab-df-container\">\n",
              "      <div>\n",
              "<style scoped>\n",
              "    .dataframe tbody tr th:only-of-type {\n",
              "        vertical-align: middle;\n",
              "    }\n",
              "\n",
              "    .dataframe tbody tr th {\n",
              "        vertical-align: top;\n",
              "    }\n",
              "\n",
              "    .dataframe thead th {\n",
              "        text-align: right;\n",
              "    }\n",
              "</style>\n",
              "<table border=\"1\" class=\"dataframe\">\n",
              "  <thead>\n",
              "    <tr style=\"text-align: right;\">\n",
              "      <th></th>\n",
              "      <th>Date</th>\n",
              "      <th>Open</th>\n",
              "      <th>High</th>\n",
              "      <th>Low</th>\n",
              "      <th>Close</th>\n",
              "      <th>Adj Close</th>\n",
              "      <th>Volume</th>\n",
              "    </tr>\n",
              "  </thead>\n",
              "  <tbody>\n",
              "    <tr>\n",
              "      <th>0</th>\n",
              "      <td>2013-01-02</td>\n",
              "      <td>19.990000</td>\n",
              "      <td>20.209999</td>\n",
              "      <td>19.690001</td>\n",
              "      <td>19.690001</td>\n",
              "      <td>18.086271</td>\n",
              "      <td>30182600.0</td>\n",
              "    </tr>\n",
              "    <tr>\n",
              "      <th>1</th>\n",
              "      <td>2013-01-03</td>\n",
              "      <td>19.809999</td>\n",
              "      <td>20.400000</td>\n",
              "      <td>19.700001</td>\n",
              "      <td>20.400000</td>\n",
              "      <td>18.738441</td>\n",
              "      <td>30552600.0</td>\n",
              "    </tr>\n",
              "    <tr>\n",
              "      <th>2</th>\n",
              "      <td>2013-01-04</td>\n",
              "      <td>20.330000</td>\n",
              "      <td>20.620001</td>\n",
              "      <td>20.170000</td>\n",
              "      <td>20.430000</td>\n",
              "      <td>18.766001</td>\n",
              "      <td>36141000.0</td>\n",
              "    </tr>\n",
              "    <tr>\n",
              "      <th>3</th>\n",
              "      <td>2013-01-07</td>\n",
              "      <td>20.480000</td>\n",
              "      <td>20.670000</td>\n",
              "      <td>19.950001</td>\n",
              "      <td>20.080000</td>\n",
              "      <td>18.444506</td>\n",
              "      <td>28069600.0</td>\n",
              "    </tr>\n",
              "    <tr>\n",
              "      <th>4</th>\n",
              "      <td>2013-01-08</td>\n",
              "      <td>20.110001</td>\n",
              "      <td>20.230000</td>\n",
              "      <td>19.459999</td>\n",
              "      <td>19.500000</td>\n",
              "      <td>17.911745</td>\n",
              "      <td>29091300.0</td>\n",
              "    </tr>\n",
              "  </tbody>\n",
              "</table>\n",
              "</div>\n",
              "      <button class=\"colab-df-convert\" onclick=\"convertToInteractive('df-2cb0ec98-3f76-4ebd-96df-4b30191d310c')\"\n",
              "              title=\"Convert this dataframe to an interactive table.\"\n",
              "              style=\"display:none;\">\n",
              "        \n",
              "  <svg xmlns=\"http://www.w3.org/2000/svg\" height=\"24px\"viewBox=\"0 0 24 24\"\n",
              "       width=\"24px\">\n",
              "    <path d=\"M0 0h24v24H0V0z\" fill=\"none\"/>\n",
              "    <path d=\"M18.56 5.44l.94 2.06.94-2.06 2.06-.94-2.06-.94-.94-2.06-.94 2.06-2.06.94zm-11 1L8.5 8.5l.94-2.06 2.06-.94-2.06-.94L8.5 2.5l-.94 2.06-2.06.94zm10 10l.94 2.06.94-2.06 2.06-.94-2.06-.94-.94-2.06-.94 2.06-2.06.94z\"/><path d=\"M17.41 7.96l-1.37-1.37c-.4-.4-.92-.59-1.43-.59-.52 0-1.04.2-1.43.59L10.3 9.45l-7.72 7.72c-.78.78-.78 2.05 0 2.83L4 21.41c.39.39.9.59 1.41.59.51 0 1.02-.2 1.41-.59l7.78-7.78 2.81-2.81c.8-.78.8-2.07 0-2.86zM5.41 20L4 18.59l7.72-7.72 1.47 1.35L5.41 20z\"/>\n",
              "  </svg>\n",
              "      </button>\n",
              "      \n",
              "  <style>\n",
              "    .colab-df-container {\n",
              "      display:flex;\n",
              "      flex-wrap:wrap;\n",
              "      gap: 12px;\n",
              "    }\n",
              "\n",
              "    .colab-df-convert {\n",
              "      background-color: #E8F0FE;\n",
              "      border: none;\n",
              "      border-radius: 50%;\n",
              "      cursor: pointer;\n",
              "      display: none;\n",
              "      fill: #1967D2;\n",
              "      height: 32px;\n",
              "      padding: 0 0 0 0;\n",
              "      width: 32px;\n",
              "    }\n",
              "\n",
              "    .colab-df-convert:hover {\n",
              "      background-color: #E2EBFA;\n",
              "      box-shadow: 0px 1px 2px rgba(60, 64, 67, 0.3), 0px 1px 3px 1px rgba(60, 64, 67, 0.15);\n",
              "      fill: #174EA6;\n",
              "    }\n",
              "\n",
              "    [theme=dark] .colab-df-convert {\n",
              "      background-color: #3B4455;\n",
              "      fill: #D2E3FC;\n",
              "    }\n",
              "\n",
              "    [theme=dark] .colab-df-convert:hover {\n",
              "      background-color: #434B5C;\n",
              "      box-shadow: 0px 1px 3px 1px rgba(0, 0, 0, 0.15);\n",
              "      filter: drop-shadow(0px 1px 2px rgba(0, 0, 0, 0.3));\n",
              "      fill: #FFFFFF;\n",
              "    }\n",
              "  </style>\n",
              "\n",
              "      <script>\n",
              "        const buttonEl =\n",
              "          document.querySelector('#df-2cb0ec98-3f76-4ebd-96df-4b30191d310c button.colab-df-convert');\n",
              "        buttonEl.style.display =\n",
              "          google.colab.kernel.accessAllowed ? 'block' : 'none';\n",
              "\n",
              "        async function convertToInteractive(key) {\n",
              "          const element = document.querySelector('#df-2cb0ec98-3f76-4ebd-96df-4b30191d310c');\n",
              "          const dataTable =\n",
              "            await google.colab.kernel.invokeFunction('convertToInteractive',\n",
              "                                                     [key], {});\n",
              "          if (!dataTable) return;\n",
              "\n",
              "          const docLinkHtml = 'Like what you see? Visit the ' +\n",
              "            '<a target=\"_blank\" href=https://colab.research.google.com/notebooks/data_table.ipynb>data table notebook</a>'\n",
              "            + ' to learn more about interactive tables.';\n",
              "          element.innerHTML = '';\n",
              "          dataTable['output_type'] = 'display_data';\n",
              "          await google.colab.output.renderOutput(dataTable, element);\n",
              "          const docLink = document.createElement('div');\n",
              "          docLink.innerHTML = docLinkHtml;\n",
              "          element.appendChild(docLink);\n",
              "        }\n",
              "      </script>\n",
              "    </div>\n",
              "  </div>\n",
              "  "
            ]
          },
          "metadata": {},
          "execution_count": 29
        }
      ]
    },
    {
      "cell_type": "code",
      "metadata": {
        "id": "lK2tI5UQ1Nr0",
        "outputId": "7c542201-9461-455b-b137-7d895710e4a5",
        "colab": {
          "base_uri": "https://localhost:8080/"
        }
      },
      "source": [
        "base_train"
      ],
      "execution_count": 30,
      "outputs": [
        {
          "output_type": "execute_result",
          "data": {
            "text/plain": [
              "array([[19.99    , 20.209999],\n",
              "       [19.809999, 20.4     ],\n",
              "       [20.33    , 20.620001],\n",
              "       ...,\n",
              "       [15.99    , 16.139999],\n",
              "       [16.1     , 16.129999],\n",
              "       [16.1     , 16.1     ]])"
            ]
          },
          "metadata": {},
          "execution_count": 30
        }
      ]
    },
    {
      "cell_type": "code",
      "metadata": {
        "id": "Pn5zULhciUTc"
      },
      "source": [
        "normalizador = MinMaxScaler(feature_range = (0, 1))\n",
        "base_train_norm = normalizador.fit_transform(base_train)"
      ],
      "execution_count": 31,
      "outputs": []
    },
    {
      "cell_type": "code",
      "metadata": {
        "id": "WNzijlDYBIm1"
      },
      "source": [
        "X = []\n",
        "y = []\n",
        "for i in range(90, 1242):\n",
        "    X.append(base_train_norm[i-90:i, 0])\n",
        "    y.append(base_train_norm[i, 0:2]) # `y` terá duas colunas\n",
        "X, y = np.array(X), np.array(y)"
      ],
      "execution_count": 32,
      "outputs": []
    },
    {
      "cell_type": "code",
      "metadata": {
        "id": "16aRpDcU1l7C",
        "outputId": "8855a091-e991-40eb-9145-19af02f8227e",
        "colab": {
          "base_uri": "https://localhost:8080/"
        }
      },
      "source": [
        "X[0]"
      ],
      "execution_count": 33,
      "outputs": [
        {
          "output_type": "execute_result",
          "data": {
            "text/plain": [
              "array([0.76501938, 0.7562984 , 0.78149225, 0.78875969, 0.77083338,\n",
              "       0.74806197, 0.75436047, 0.75823643, 0.76598837, 0.76598837,\n",
              "       0.76017437, 0.75872098, 0.75581391, 0.74467054, 0.7374031 ,\n",
              "       0.7374031 , 0.73498067, 0.75242248, 0.73401163, 0.71656977,\n",
              "       0.68120155, 0.67538755, 0.67635659, 0.63372098, 0.66521318,\n",
              "       0.65649225, 0.64680228, 0.66618222, 0.65843028, 0.64970935,\n",
              "       0.65116274, 0.66424419, 0.67344961, 0.64292631, 0.64486434,\n",
              "       0.62257747, 0.60949617, 0.60998067, 0.60852713, 0.59593023,\n",
              "       0.61143411, 0.60222863, 0.64922481, 0.68362398, 0.70687989,\n",
              "       0.68265509, 0.70978682, 0.70784879, 0.71608527, 0.73643411,\n",
              "       0.7122093 , 0.7122093 , 0.7194767 , 0.70348832, 0.69525189,\n",
              "       0.70397287, 0.70397287, 0.69767442, 0.68168605, 0.68168605,\n",
              "       0.65310078, 0.66618222, 0.64825581, 0.66182175, 0.64341085,\n",
              "       0.67877902, 0.69137592, 0.66569772, 0.65406982, 0.64292631,\n",
              "       0.64147292, 0.63565891, 0.67587209, 0.68653106, 0.70300383,\n",
              "       0.71996119, 0.73982553, 0.76550388, 0.74854651, 0.75823643,\n",
              "       0.78924419, 0.76598837, 0.78488372, 0.80184109, 0.77761628,\n",
              "       0.77325581, 0.7562984 , 0.74273261, 0.74127907, 0.74224806])"
            ]
          },
          "metadata": {},
          "execution_count": 33
        }
      ]
    },
    {
      "cell_type": "code",
      "metadata": {
        "id": "aV-TBKCt1pQl",
        "outputId": "542cfc4f-f88e-4e98-e018-c7247e21f185",
        "colab": {
          "base_uri": "https://localhost:8080/"
        }
      },
      "source": [
        "y[0]"
      ],
      "execution_count": 34,
      "outputs": [
        {
          "output_type": "execute_result",
          "data": {
            "text/plain": [
              "array([0.76114341, 0.76490543])"
            ]
          },
          "metadata": {},
          "execution_count": 34
        }
      ]
    },
    {
      "cell_type": "code",
      "metadata": {
        "id": "yB8bdsAUjIIo"
      },
      "source": [
        "X = torch.tensor(X, dtype = torch.float32)\n",
        "y = torch.tensor(y, dtype = torch.float32)"
      ],
      "execution_count": 35,
      "outputs": []
    },
    {
      "cell_type": "code",
      "metadata": {
        "id": "ggEPQWi2jKyr"
      },
      "source": [
        "dataset = torch.utils.data.TensorDataset(X, y)\n",
        "loader = torch.utils.data.DataLoader(dataset, batch_size = 32, shuffle = True)"
      ],
      "execution_count": 36,
      "outputs": []
    },
    {
      "cell_type": "markdown",
      "metadata": {
        "id": "QGDLesyDQpIb"
      },
      "source": [
        "## Etapa 3: Construção da rede neural recorrente"
      ]
    },
    {
      "cell_type": "code",
      "metadata": {
        "id": "VrFGMM3Qiboh"
      },
      "source": [
        "class regressor_LSTM(nn.Module):\n",
        "    def __init__(self):\n",
        "        super().__init__()\n",
        "\n",
        "        self.lstm1 = nn.LSTM(input_size = 1, hidden_size = 100, batch_first = True)\n",
        "        self.lstm2 = nn.LSTM(100, 50, batch_first = True)\n",
        "        self.lstm3 = nn.LSTM(50, 50, dropout = 0.3, num_layers = 2, batch_first = True)\n",
        "        self.dropout = nn.Dropout(p = 0.3)\n",
        "        self.linear = nn.Linear(in_features = 50, out_features = 2)\n",
        "\n",
        "    def forward(self, X):\n",
        "        X = X.unsqueeze(2)\n",
        "        X, _ = self.lstm1(X)\n",
        "        X = self.dropout(X)\n",
        "        X, _ = self.lstm2(X)\n",
        "        X = self.dropout(X)\n",
        "        X, _ = self.lstm3(X)\n",
        "\n",
        "        X = X[:, -1, :]\n",
        "        X = self.dropout(X)\n",
        "        X = self.linear(X)\n",
        "\n",
        "        return X"
      ],
      "execution_count": 37,
      "outputs": []
    },
    {
      "cell_type": "code",
      "metadata": {
        "id": "yY9lDtY8BqnE",
        "outputId": "d61ffcc6-aee9-4036-b128-4bee6cf84ef2",
        "colab": {
          "base_uri": "https://localhost:8080/"
        }
      },
      "source": [
        "device = torch.device('cuda') if torch.cuda.is_available() else torch.device('cpu')\n",
        "device"
      ],
      "execution_count": 38,
      "outputs": [
        {
          "output_type": "execute_result",
          "data": {
            "text/plain": [
              "device(type='cuda')"
            ]
          },
          "metadata": {},
          "execution_count": 38
        }
      ]
    },
    {
      "cell_type": "code",
      "metadata": {
        "id": "-FnosQO7BspO",
        "outputId": "efba4feb-1870-4c98-ad05-3eaf23f3c584",
        "colab": {
          "base_uri": "https://localhost:8080/"
        }
      },
      "source": [
        "regressor = regressor_LSTM()\n",
        "criterion = nn.MSELoss()\n",
        "optimizer = optim.RMSprop(regressor.parameters(), lr = 1e-3, alpha = 0.9)\n",
        "regressor.to(device)"
      ],
      "execution_count": 39,
      "outputs": [
        {
          "output_type": "execute_result",
          "data": {
            "text/plain": [
              "regressor_LSTM(\n",
              "  (lstm1): LSTM(1, 100, batch_first=True)\n",
              "  (lstm2): LSTM(100, 50, batch_first=True)\n",
              "  (lstm3): LSTM(50, 50, num_layers=2, batch_first=True, dropout=0.3)\n",
              "  (dropout): Dropout(p=0.3, inplace=False)\n",
              "  (linear): Linear(in_features=50, out_features=2, bias=True)\n",
              ")"
            ]
          },
          "metadata": {},
          "execution_count": 39
        }
      ]
    },
    {
      "cell_type": "markdown",
      "metadata": {
        "id": "appMwDHtRTN5"
      },
      "source": [
        "## Etapa 4: Treinamento do modelo"
      ]
    },
    {
      "cell_type": "code",
      "metadata": {
        "id": "OxqnJdUsELbQ",
        "outputId": "57995d3b-649a-4e6e-cd01-bd2f9d160817",
        "colab": {
          "base_uri": "https://localhost:8080/"
        }
      },
      "source": [
        "for epoch in range(100):\n",
        "    running_loss = 0.\n",
        "    running_mae = 0.\n",
        "\n",
        "    for i, data in enumerate(loader):\n",
        "        inputs, labels = data\n",
        "        inputs, labels = inputs.to(device), labels.to(device)\n",
        "\n",
        "        optimizer.zero_grad()\n",
        "\n",
        "        outputs = regressor(inputs)\n",
        "        loss = criterion(outputs, labels)\n",
        "        loss.backward()\n",
        "\n",
        "        optimizer.step()\n",
        "\n",
        "        running_loss += loss.item()\n",
        "\n",
        "        mae = mean_absolute_error(labels.detach().cpu().numpy().flatten(),\n",
        "                                  outputs.detach().cpu().numpy().flatten())\n",
        "        running_mae += mae\n",
        "\n",
        "        # Imprimindo os dados referentes a esse loop\n",
        "        print('\\rÉpoca {:3d} - Loop {:3d} de {:3d}: custo {:03.5f} - MAE {:03.5f}'.format(epoch + 1, i + 1, len(loader), loss, mae), end = '\\r')\n",
        "\n",
        "    # Imprimindo os dados referentes a essa época\n",
        "    running_loss /= len(loader)\n",
        "    running_mae /= len(loader)\n",
        "    print('ÉPOCA {:3d} FINALIZADA: custo {:03.6f} - MAE {:03.6f}     '.format(epoch + 1, running_loss, running_mae))\n"
      ],
      "execution_count": 40,
      "outputs": [
        {
          "output_type": "stream",
          "name": "stdout",
          "text": [
            "ÉPOCA   1 FINALIZADA: custo 0.061920 - MAE 0.196798     \n",
            "ÉPOCA   2 FINALIZADA: custo 0.029633 - MAE 0.137026     \n",
            "ÉPOCA   3 FINALIZADA: custo 0.019976 - MAE 0.110203     \n",
            "ÉPOCA   4 FINALIZADA: custo 0.015484 - MAE 0.098810     \n",
            "ÉPOCA   5 FINALIZADA: custo 0.014008 - MAE 0.091936     \n",
            "ÉPOCA   6 FINALIZADA: custo 0.012193 - MAE 0.085557     \n",
            "ÉPOCA   7 FINALIZADA: custo 0.010865 - MAE 0.080261     \n",
            "ÉPOCA   8 FINALIZADA: custo 0.009532 - MAE 0.074878     \n",
            "ÉPOCA   9 FINALIZADA: custo 0.009055 - MAE 0.074551     \n",
            "ÉPOCA  10 FINALIZADA: custo 0.008331 - MAE 0.070445     \n",
            "ÉPOCA  11 FINALIZADA: custo 0.007640 - MAE 0.066143     \n",
            "ÉPOCA  12 FINALIZADA: custo 0.007158 - MAE 0.065113     \n",
            "ÉPOCA  13 FINALIZADA: custo 0.006979 - MAE 0.065250     \n",
            "ÉPOCA  14 FINALIZADA: custo 0.006399 - MAE 0.061930     \n",
            "ÉPOCA  15 FINALIZADA: custo 0.005900 - MAE 0.058943     \n",
            "ÉPOCA  16 FINALIZADA: custo 0.005169 - MAE 0.055925     \n",
            "ÉPOCA  17 FINALIZADA: custo 0.005247 - MAE 0.055790     \n",
            "ÉPOCA  18 FINALIZADA: custo 0.005484 - MAE 0.056571     \n",
            "ÉPOCA  19 FINALIZADA: custo 0.004591 - MAE 0.052863     \n",
            "ÉPOCA  20 FINALIZADA: custo 0.004868 - MAE 0.053720     \n",
            "ÉPOCA  21 FINALIZADA: custo 0.004587 - MAE 0.052213     \n",
            "ÉPOCA  22 FINALIZADA: custo 0.004171 - MAE 0.050297     \n",
            "ÉPOCA  23 FINALIZADA: custo 0.004364 - MAE 0.052029     \n",
            "ÉPOCA  24 FINALIZADA: custo 0.004318 - MAE 0.050697     \n",
            "ÉPOCA  25 FINALIZADA: custo 0.004161 - MAE 0.049533     \n",
            "ÉPOCA  26 FINALIZADA: custo 0.003911 - MAE 0.048539     \n",
            "ÉPOCA  27 FINALIZADA: custo 0.003835 - MAE 0.047563     \n",
            "ÉPOCA  28 FINALIZADA: custo 0.003733 - MAE 0.047413     \n",
            "ÉPOCA  29 FINALIZADA: custo 0.003616 - MAE 0.045783     \n",
            "ÉPOCA  30 FINALIZADA: custo 0.003820 - MAE 0.047006     \n",
            "ÉPOCA  31 FINALIZADA: custo 0.003532 - MAE 0.045467     \n",
            "ÉPOCA  32 FINALIZADA: custo 0.003234 - MAE 0.043733     \n",
            "ÉPOCA  33 FINALIZADA: custo 0.003352 - MAE 0.044327     \n",
            "ÉPOCA  34 FINALIZADA: custo 0.003264 - MAE 0.043637     \n",
            "ÉPOCA  35 FINALIZADA: custo 0.002858 - MAE 0.041543     \n",
            "ÉPOCA  36 FINALIZADA: custo 0.003045 - MAE 0.042964     \n",
            "ÉPOCA  37 FINALIZADA: custo 0.002892 - MAE 0.041366     \n",
            "ÉPOCA  38 FINALIZADA: custo 0.002875 - MAE 0.041673     \n",
            "ÉPOCA  39 FINALIZADA: custo 0.002836 - MAE 0.040951     \n",
            "ÉPOCA  40 FINALIZADA: custo 0.003020 - MAE 0.042216     \n",
            "ÉPOCA  41 FINALIZADA: custo 0.002652 - MAE 0.039363     \n",
            "ÉPOCA  42 FINALIZADA: custo 0.002857 - MAE 0.041330     \n",
            "ÉPOCA  43 FINALIZADA: custo 0.002791 - MAE 0.040454     \n",
            "ÉPOCA  44 FINALIZADA: custo 0.002774 - MAE 0.039485     \n",
            "ÉPOCA  45 FINALIZADA: custo 0.002931 - MAE 0.040941     \n",
            "ÉPOCA  46 FINALIZADA: custo 0.002426 - MAE 0.038335     \n",
            "ÉPOCA  47 FINALIZADA: custo 0.002438 - MAE 0.037911     \n",
            "ÉPOCA  48 FINALIZADA: custo 0.002273 - MAE 0.036712     \n",
            "ÉPOCA  49 FINALIZADA: custo 0.002546 - MAE 0.039003     \n",
            "ÉPOCA  50 FINALIZADA: custo 0.002605 - MAE 0.038621     \n",
            "ÉPOCA  51 FINALIZADA: custo 0.002348 - MAE 0.037729     \n",
            "ÉPOCA  52 FINALIZADA: custo 0.002295 - MAE 0.036446     \n",
            "ÉPOCA  53 FINALIZADA: custo 0.002232 - MAE 0.035435     \n",
            "ÉPOCA  54 FINALIZADA: custo 0.002345 - MAE 0.037382     \n",
            "ÉPOCA  55 FINALIZADA: custo 0.002161 - MAE 0.035660     \n",
            "ÉPOCA  56 FINALIZADA: custo 0.002250 - MAE 0.037272     \n",
            "ÉPOCA  57 FINALIZADA: custo 0.002061 - MAE 0.033774     \n",
            "ÉPOCA  58 FINALIZADA: custo 0.002250 - MAE 0.036700     \n",
            "ÉPOCA  59 FINALIZADA: custo 0.002168 - MAE 0.035805     \n",
            "ÉPOCA  60 FINALIZADA: custo 0.002285 - MAE 0.036198     \n",
            "ÉPOCA  61 FINALIZADA: custo 0.002080 - MAE 0.034253     \n",
            "ÉPOCA  62 FINALIZADA: custo 0.002055 - MAE 0.034729     \n",
            "ÉPOCA  63 FINALIZADA: custo 0.002063 - MAE 0.033747     \n",
            "ÉPOCA  64 FINALIZADA: custo 0.001916 - MAE 0.032603     \n",
            "ÉPOCA  65 FINALIZADA: custo 0.002099 - MAE 0.035058     \n",
            "ÉPOCA  66 FINALIZADA: custo 0.002100 - MAE 0.035238     \n",
            "ÉPOCA  67 FINALIZADA: custo 0.001901 - MAE 0.033029     \n",
            "ÉPOCA  68 FINALIZADA: custo 0.002101 - MAE 0.035169     \n",
            "ÉPOCA  69 FINALIZADA: custo 0.001994 - MAE 0.033787     \n",
            "ÉPOCA  70 FINALIZADA: custo 0.002002 - MAE 0.034123     \n",
            "ÉPOCA  71 FINALIZADA: custo 0.001787 - MAE 0.032595     \n",
            "ÉPOCA  72 FINALIZADA: custo 0.001953 - MAE 0.033367     \n",
            "ÉPOCA  73 FINALIZADA: custo 0.001962 - MAE 0.033236     \n",
            "ÉPOCA  74 FINALIZADA: custo 0.001743 - MAE 0.032184     \n",
            "ÉPOCA  75 FINALIZADA: custo 0.001925 - MAE 0.033062     \n",
            "ÉPOCA  76 FINALIZADA: custo 0.001993 - MAE 0.033184     \n",
            "ÉPOCA  77 FINALIZADA: custo 0.001772 - MAE 0.031259     \n",
            "ÉPOCA  78 FINALIZADA: custo 0.001755 - MAE 0.032560     \n",
            "ÉPOCA  79 FINALIZADA: custo 0.001881 - MAE 0.032506     \n",
            "ÉPOCA  80 FINALIZADA: custo 0.001757 - MAE 0.031971     \n",
            "ÉPOCA  81 FINALIZADA: custo 0.001728 - MAE 0.031677     \n",
            "ÉPOCA  82 FINALIZADA: custo 0.001724 - MAE 0.031575     \n",
            "ÉPOCA  83 FINALIZADA: custo 0.001825 - MAE 0.032120     \n",
            "ÉPOCA  84 FINALIZADA: custo 0.001674 - MAE 0.030960     \n",
            "ÉPOCA  85 FINALIZADA: custo 0.001791 - MAE 0.032221     \n",
            "ÉPOCA  86 FINALIZADA: custo 0.001857 - MAE 0.031919     \n",
            "ÉPOCA  87 FINALIZADA: custo 0.001490 - MAE 0.029656     \n",
            "ÉPOCA  88 FINALIZADA: custo 0.001685 - MAE 0.030919     \n",
            "ÉPOCA  89 FINALIZADA: custo 0.001605 - MAE 0.030183     \n",
            "ÉPOCA  90 FINALIZADA: custo 0.001598 - MAE 0.030014     \n",
            "ÉPOCA  91 FINALIZADA: custo 0.001721 - MAE 0.031146     \n",
            "ÉPOCA  92 FINALIZADA: custo 0.001723 - MAE 0.030726     \n",
            "ÉPOCA  93 FINALIZADA: custo 0.001652 - MAE 0.030485     \n",
            "ÉPOCA  94 FINALIZADA: custo 0.001581 - MAE 0.030055     \n",
            "ÉPOCA  95 FINALIZADA: custo 0.001628 - MAE 0.030368     \n",
            "ÉPOCA  96 FINALIZADA: custo 0.001599 - MAE 0.030453     \n",
            "ÉPOCA  97 FINALIZADA: custo 0.001714 - MAE 0.030844     \n",
            "ÉPOCA  98 FINALIZADA: custo 0.001628 - MAE 0.030179     \n",
            "ÉPOCA  99 FINALIZADA: custo 0.001493 - MAE 0.029503     \n",
            "ÉPOCA 100 FINALIZADA: custo 0.001449 - MAE 0.028715     \n"
          ]
        }
      ]
    },
    {
      "cell_type": "markdown",
      "metadata": {
        "id": "AyTjLzELSdQF"
      },
      "source": [
        "## Etapa 5: Processamento da base de teste"
      ]
    },
    {
      "cell_type": "code",
      "metadata": {
        "id": "wMRlArb6oqnk"
      },
      "source": [
        "base_teste = pd.read_csv('petr4_teste.csv')\n",
        "base_completa = pd.concat((base['Open'], base_teste['Open']), axis = 0)\n",
        "entradas = base_completa[len(base_completa) - len(base_teste) - 90:].values\n",
        "entradas = entradas.reshape(-1, 1)"
      ],
      "execution_count": 41,
      "outputs": []
    },
    {
      "cell_type": "code",
      "metadata": {
        "id": "sV7qQBWo2irk"
      },
      "source": [
        "normalizador = MinMaxScaler().fit(base_train[:, 0:1])\n",
        "entradas = normalizador.transform(entradas)"
      ],
      "execution_count": 42,
      "outputs": []
    },
    {
      "cell_type": "code",
      "metadata": {
        "id": "TtNdrpjHlOKF"
      },
      "source": [
        "X_teste = []\n",
        "for i in range(90, 112):\n",
        "    X_teste.append(entradas[i-90:i, 0])\n",
        "X_teste = np.array(X_teste)"
      ],
      "execution_count": 43,
      "outputs": []
    },
    {
      "cell_type": "code",
      "metadata": {
        "id": "xaeaQifp2nJ5"
      },
      "source": [
        "X_teste = torch.tensor(X_teste, device = device, dtype = torch.float32)"
      ],
      "execution_count": 44,
      "outputs": []
    },
    {
      "cell_type": "markdown",
      "metadata": {
        "id": "2kcTr4ikoM3k"
      },
      "source": [
        "## Etapa 6: Previsões"
      ]
    },
    {
      "cell_type": "code",
      "metadata": {
        "id": "-yHMN7P7lkm5"
      },
      "source": [
        "regressor.eval()\n",
        "previsoes = regressor(X_teste)\n",
        "previsoes = previsoes.detach().cpu().numpy()\n",
        "previsoes = normalizador.inverse_transform(previsoes)"
      ],
      "execution_count": 45,
      "outputs": []
    },
    {
      "cell_type": "code",
      "metadata": {
        "id": "NwqzuTVOnANw",
        "colab": {
          "base_uri": "https://localhost:8080/"
        },
        "outputId": "f3a54ac6-864a-47ac-87a3-544f2c79f66a"
      },
      "source": [
        "previsoes"
      ],
      "execution_count": 46,
      "outputs": [
        {
          "output_type": "execute_result",
          "data": {
            "text/plain": [
              "array([[15.48412 , 15.660139],\n",
              "       [15.533309, 15.709833],\n",
              "       [15.762564, 15.940838],\n",
              "       [16.035368, 16.216028],\n",
              "       [16.024233, 16.20546 ],\n",
              "       [16.012112, 16.19348 ],\n",
              "       [16.224087, 16.407093],\n",
              "       [16.212702, 16.396072],\n",
              "       [16.149727, 16.332773],\n",
              "       [16.247982, 16.431705],\n",
              "       [16.491297, 16.676996],\n",
              "       [16.565365, 16.752132],\n",
              "       [16.967175, 17.157324],\n",
              "       [17.381252, 17.575628],\n",
              "       [17.403976, 17.599768],\n",
              "       [17.32413 , 17.519817],\n",
              "       [17.409258, 17.60575 ],\n",
              "       [17.460354, 17.657541],\n",
              "       [18.146446, 18.349522],\n",
              "       [18.496086, 18.70388 ],\n",
              "       [18.529943, 18.739466],\n",
              "       [18.574274, 18.784891]], dtype=float32)"
            ]
          },
          "metadata": {},
          "execution_count": 46
        }
      ]
    },
    {
      "cell_type": "code",
      "metadata": {
        "id": "Mfa8jkyO26On",
        "colab": {
          "base_uri": "https://localhost:8080/"
        },
        "outputId": "6cf28c3d-1d3f-4161-e77d-1a4eb99f85c3"
      },
      "source": [
        "previsoes.mean(axis = 0)"
      ],
      "execution_count": 47,
      "outputs": [
        {
          "output_type": "execute_result",
          "data": {
            "text/plain": [
              "array([16.837992, 17.028006], dtype=float32)"
            ]
          },
          "metadata": {},
          "execution_count": 47
        }
      ]
    },
    {
      "cell_type": "code",
      "metadata": {
        "id": "jVnqiLwP3Dq4",
        "colab": {
          "base_uri": "https://localhost:8080/"
        },
        "outputId": "7fbb3019-a7c1-420f-85f3-b203f7d4ac0e"
      },
      "source": [
        "base_teste['Open'].mean()"
      ],
      "execution_count": 48,
      "outputs": [
        {
          "output_type": "execute_result",
          "data": {
            "text/plain": [
              "17.87454563636364"
            ]
          },
          "metadata": {},
          "execution_count": 48
        }
      ]
    },
    {
      "cell_type": "code",
      "metadata": {
        "id": "jxF4Jzbs3YGd",
        "colab": {
          "base_uri": "https://localhost:8080/"
        },
        "outputId": "505f1a1d-419d-4955-a9dc-ca64e58e3f85"
      },
      "source": [
        "base_teste['High'].mean()"
      ],
      "execution_count": 49,
      "outputs": [
        {
          "output_type": "execute_result",
          "data": {
            "text/plain": [
              "18.148181636363635"
            ]
          },
          "metadata": {},
          "execution_count": 49
        }
      ]
    },
    {
      "cell_type": "code",
      "metadata": {
        "id": "P2YZ7NIu21Jr",
        "colab": {
          "base_uri": "https://localhost:8080/",
          "height": 532
        },
        "outputId": "3e0be05a-cec2-41b7-d414-e8cbec86aa95"
      },
      "source": [
        "fig, ax = plt.subplots(1, 2, figsize = (10, 5))\n",
        "fig.suptitle('Previsão preço das ações')\n",
        "\n",
        "ax[0].plot(base_teste['Open'], color = 'red', label = 'Preço abertura real')\n",
        "ax[0].plot(previsoes[:, 0], color = 'blue', label = 'Previsões abertura')\n",
        "ax[0].set_title('Preço de abertura')\n",
        "ax[0].set_xlabel('Tempo')\n",
        "ax[0].set_ylabel('Valor Yahoo')\n",
        "ax[0].legend()\n",
        "\n",
        "ax[1].plot(base_teste['High'], color = 'black', label = 'Preço alta real')\n",
        "ax[1].plot(previsoes[:, 1], color = 'orange', label = 'Previsões alta')\n",
        "ax[1].set_title('Preço de alta')\n",
        "ax[1].set_xlabel('Tempo')\n",
        "ax[1].set_ylabel('Valor Yahoo')\n",
        "ax[1].legend()"
      ],
      "execution_count": 50,
      "outputs": [
        {
          "output_type": "execute_result",
          "data": {
            "text/plain": [
              "<matplotlib.legend.Legend at 0x7f6cb349f1f0>"
            ]
          },
          "metadata": {},
          "execution_count": 50
        },
        {
          "output_type": "display_data",
          "data": {
            "text/plain": [
              "<Figure size 1000x500 with 2 Axes>"
            ],
            "image/png": "[encoded data removed]"
          },
          "metadata": {}
        }
      ]
    }
  ]
}
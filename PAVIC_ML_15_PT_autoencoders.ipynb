{
  "nbformat": 4,
  "nbformat_minor": 0,
  "metadata": {
    "colab": {
      "provenance": [],
      "include_colab_link": true
    },
    "kernelspec": {
      "name": "python3",
      "display_name": "Python 3"
    },
    "accelerator": "GPU"
  },
  "cells": [
    {
      "cell_type": "markdown",
      "metadata": {
        "id": "view-in-github",
        "colab_type": "text"
      },
      "source": [
        "<a href=\"https://colab.research.google.com/github/mafaldasalomao/pavic_treinamento_ml/blob/main/PAVIC_ML_15_PT_autoencoders.ipynb\" target=\"_parent\"><img src=\"https://colab.research.google.com/assets/colab-badge.svg\" alt=\"Open In Colab\"/></a>"
      ]
    },
    {
      "cell_type": "markdown",
      "metadata": {
        "id": "rD_RSER5Lkb5"
      },
      "source": [
        "# Compactação de imagens com autoencoders"
      ]
    },
    {
      "cell_type": "markdown",
      "metadata": {
        "id": "5tP2BcEILoLB"
      },
      "source": [
        "## Etapa 1: Importação das bibliotecas"
      ]
    },
    {
      "cell_type": "code",
      "metadata": {
        "id": "Yf0FpJ35Lf-Z",
        "colab": {
          "base_uri": "https://localhost:8080/",
          "height": 35
        },
        "outputId": "58f24dee-ab0b-4387-9631-da27837b6490"
      },
      "source": [
        "from torchvision import datasets, transforms\n",
        "import torch\n",
        "from torch import nn, optim\n",
        "import matplotlib.pyplot as plt\n",
        "torch.__version__"
      ],
      "execution_count": null,
      "outputs": [
        {
          "output_type": "execute_result",
          "data": {
            "text/plain": [
              "'2.0.1+cu118'"
            ],
            "application/vnd.google.colaboratory.intrinsic+json": {
              "type": "string"
            }
          },
          "metadata": {},
          "execution_count": 1
        }
      ]
    },
    {
      "cell_type": "code",
      "metadata": {
        "id": "X1vw_qANCnRx",
        "colab": {
          "base_uri": "https://localhost:8080/"
        },
        "outputId": "b1122f48-0980-42d8-a221-ae1d4dcc857f"
      },
      "source": [
        "torch.manual_seed(123)"
      ],
      "execution_count": null,
      "outputs": [
        {
          "output_type": "execute_result",
          "data": {
            "text/plain": [
              "<torch._C.Generator at 0x7f0d620b8f90>"
            ]
          },
          "metadata": {},
          "execution_count": 2
        }
      ]
    },
    {
      "cell_type": "markdown",
      "metadata": {
        "id": "C0SD4dJ4MDMN"
      },
      "source": [
        "## Etapa 2: Base de dados"
      ]
    },
    {
      "cell_type": "code",
      "metadata": {
        "id": "kPclooeTA_15",
        "colab": {
          "base_uri": "https://localhost:8080/"
        },
        "outputId": "c41ba8be-ce9f-4fcc-f23a-7ae46cf54ae5"
      },
      "source": [
        "dataset_train = datasets.MNIST('MNIST-data', train = True, download = True,\n",
        "                               transform = transforms.ToTensor())\n",
        "loader_train = torch.utils.data.DataLoader(dataset_train, batch_size = 256,\n",
        "                                           shuffle = True)"
      ],
      "execution_count": null,
      "outputs": [
        {
          "output_type": "stream",
          "name": "stdout",
          "text": [
            "Downloading http://yann.lecun.com/exdb/mnist/train-images-idx3-ubyte.gz\n",
            "Downloading http://yann.lecun.com/exdb/mnist/train-images-idx3-ubyte.gz to MNIST-data/MNIST/raw/train-images-idx3-ubyte.gz\n"
          ]
        },
        {
          "output_type": "stream",
          "name": "stderr",
          "text": [
            "100%|██████████| 9912422/9912422 [00:00<00:00, 96845130.21it/s]\n"
          ]
        },
        {
          "output_type": "stream",
          "name": "stdout",
          "text": [
            "Extracting MNIST-data/MNIST/raw/train-images-idx3-ubyte.gz to MNIST-data/MNIST/raw\n",
            "\n",
            "Downloading http://yann.lecun.com/exdb/mnist/train-labels-idx1-ubyte.gz\n",
            "Downloading http://yann.lecun.com/exdb/mnist/train-labels-idx1-ubyte.gz to MNIST-data/MNIST/raw/train-labels-idx1-ubyte.gz\n"
          ]
        },
        {
          "output_type": "stream",
          "name": "stderr",
          "text": [
            "100%|██████████| 28881/28881 [00:00<00:00, 114171247.71it/s]\n"
          ]
        },
        {
          "output_type": "stream",
          "name": "stdout",
          "text": [
            "Extracting MNIST-data/MNIST/raw/train-labels-idx1-ubyte.gz to MNIST-data/MNIST/raw\n",
            "\n",
            "Downloading http://yann.lecun.com/exdb/mnist/t10k-images-idx3-ubyte.gz\n",
            "Downloading http://yann.lecun.com/exdb/mnist/t10k-images-idx3-ubyte.gz to MNIST-data/MNIST/raw/t10k-images-idx3-ubyte.gz\n"
          ]
        },
        {
          "output_type": "stream",
          "name": "stderr",
          "text": [
            "100%|██████████| 1648877/1648877 [00:00<00:00, 26539358.37it/s]\n"
          ]
        },
        {
          "output_type": "stream",
          "name": "stdout",
          "text": [
            "Extracting MNIST-data/MNIST/raw/t10k-images-idx3-ubyte.gz to MNIST-data/MNIST/raw\n",
            "\n",
            "Downloading http://yann.lecun.com/exdb/mnist/t10k-labels-idx1-ubyte.gz\n",
            "Downloading http://yann.lecun.com/exdb/mnist/t10k-labels-idx1-ubyte.gz to MNIST-data/MNIST/raw/t10k-labels-idx1-ubyte.gz\n"
          ]
        },
        {
          "output_type": "stream",
          "name": "stderr",
          "text": [
            "100%|██████████| 4542/4542 [00:00<00:00, 22126049.67it/s]\n"
          ]
        },
        {
          "output_type": "stream",
          "name": "stdout",
          "text": [
            "Extracting MNIST-data/MNIST/raw/t10k-labels-idx1-ubyte.gz to MNIST-data/MNIST/raw\n",
            "\n"
          ]
        }
      ]
    },
    {
      "cell_type": "code",
      "metadata": {
        "id": "WNzijlDYBIm1"
      },
      "source": [
        "dataset_val = datasets.MNIST('MNIST-data', train = False, download = True,\n",
        "                             transform = transforms.ToTensor())\n",
        "loader_val = torch.utils.data.DataLoader(dataset_val, batch_size = 256,\n",
        "                                         shuffle = True)"
      ],
      "execution_count": null,
      "outputs": []
    },
    {
      "cell_type": "markdown",
      "metadata": {
        "id": "QGDLesyDQpIb"
      },
      "source": [
        "## Etapa 3: Construção do autoencoder"
      ]
    },
    {
      "cell_type": "code",
      "metadata": {
        "id": "d1uSn1U0fzGK",
        "colab": {
          "base_uri": "https://localhost:8080/"
        },
        "outputId": "bf987792-58a0-4a6b-8090-4beb2827a4b5"
      },
      "source": [
        "28 * 28"
      ],
      "execution_count": null,
      "outputs": [
        {
          "output_type": "execute_result",
          "data": {
            "text/plain": [
              "784"
            ]
          },
          "metadata": {},
          "execution_count": 5
        }
      ]
    },
    {
      "cell_type": "code",
      "metadata": {
        "id": "nsz1IG5lfkkT"
      },
      "source": [
        "# 784 -> 32 -> 784\n",
        "class autoencoder(nn.Module):\n",
        "  def __init__(self):\n",
        "    super().__init__()\n",
        "    self.dense0 = nn.Linear(in_features=784, out_features=32)\n",
        "    self.activation0 = nn.ReLU()\n",
        "    self.dense1 = nn.Linear(32, 784)\n",
        "    self.activation1 = nn.Sigmoid()\n",
        "\n",
        "  def forward(self, X):\n",
        "    X = X.view(-1, 28*28)\n",
        "    X = self.dense0(X)\n",
        "    X = self.activation0(X)\n",
        "    X = self.dense1(X)\n",
        "    X = self.activation1(X)\n",
        "    return X"
      ],
      "execution_count": null,
      "outputs": []
    },
    {
      "cell_type": "code",
      "metadata": {
        "id": "yY9lDtY8BqnE",
        "colab": {
          "base_uri": "https://localhost:8080/"
        },
        "outputId": "40444642-8d15-4abe-be9e-4fc716d4a20a"
      },
      "source": [
        "device = torch.device('cuda') if torch.cuda.is_available() else torch.device('cpu')\n",
        "device"
      ],
      "execution_count": null,
      "outputs": [
        {
          "output_type": "execute_result",
          "data": {
            "text/plain": [
              "device(type='cuda')"
            ]
          },
          "metadata": {},
          "execution_count": 7
        }
      ]
    },
    {
      "cell_type": "code",
      "metadata": {
        "id": "qFF72jNYg90i",
        "colab": {
          "base_uri": "https://localhost:8080/"
        },
        "outputId": "5e6a41b6-7e4c-4759-a94a-ae0b8f391098"
      },
      "source": [
        "model = autoencoder()\n",
        "model.to(device)"
      ],
      "execution_count": null,
      "outputs": [
        {
          "output_type": "execute_result",
          "data": {
            "text/plain": [
              "autoencoder(\n",
              "  (dense0): Linear(in_features=784, out_features=32, bias=True)\n",
              "  (activation0): ReLU()\n",
              "  (dense1): Linear(in_features=32, out_features=784, bias=True)\n",
              "  (activation1): Sigmoid()\n",
              ")"
            ]
          },
          "metadata": {},
          "execution_count": 8
        }
      ]
    },
    {
      "cell_type": "code",
      "metadata": {
        "id": "H9f_sl9JhCXJ"
      },
      "source": [
        "criterion = nn.BCELoss()\n",
        "optimizer = optim.Adam(model.parameters())"
      ],
      "execution_count": null,
      "outputs": []
    },
    {
      "cell_type": "markdown",
      "metadata": {
        "id": "appMwDHtRTN5"
      },
      "source": [
        "## Etapa 4: Treinamento do modelo"
      ]
    },
    {
      "cell_type": "code",
      "metadata": {
        "id": "OxqnJdUsELbQ",
        "colab": {
          "base_uri": "https://localhost:8080/"
        },
        "outputId": "2edceb10-89a8-446a-f931-61d6e1027c7c"
      },
      "source": [
        "for epoch in range(20):\n",
        "    # Treinamento\n",
        "    running_loss_train = 0.\n",
        "    for data in loader_train:\n",
        "      model.train()\n",
        "      inputs, _ = data\n",
        "      inputs = inputs.to(device)\n",
        "      optimizer.zero_grad()\n",
        "      outputs = model.forward(inputs)\n",
        "      loss = criterion(outputs, inputs.view(*outputs.shape))\n",
        "      loss.backward()\n",
        "      optimizer.step()\n",
        "      running_loss_train += loss.item()\n",
        "\n",
        "    # Validação\n",
        "    running_loss_val = 0.\n",
        "    for data in loader_val:\n",
        "      model.eval()\n",
        "      inputs, _ = data\n",
        "      inputs = inputs.to(device)\n",
        "      outputs = model.forward(inputs)\n",
        "      loss = criterion(outputs, inputs.view(*outputs.shape))\n",
        "      running_loss_val += loss.item()\n",
        "\n",
        "    # Final da época\n",
        "    print('ÉPOCA {:3d}: perda_train {:.5f} perda_val {:.5f}'.format(epoch + 1, running_loss_train/len(loader_train), running_loss_val/len(loader_val)))"
      ],
      "execution_count": null,
      "outputs": [
        {
          "output_type": "stream",
          "name": "stdout",
          "text": [
            "ÉPOCA   1: perda_train 0.29529 perda_val 0.19752\n",
            "ÉPOCA   2: perda_train 0.18119 perda_val 0.16547\n",
            "ÉPOCA   3: perda_train 0.15759 perda_val 0.14778\n",
            "ÉPOCA   4: perda_train 0.14333 perda_val 0.13660\n",
            "ÉPOCA   5: perda_train 0.13427 perda_val 0.12921\n",
            "ÉPOCA   6: perda_train 0.12780 perda_val 0.12397\n",
            "ÉPOCA   7: perda_train 0.12312 perda_val 0.11901\n",
            "ÉPOCA   8: perda_train 0.11805 perda_val 0.11451\n",
            "ÉPOCA   9: perda_train 0.11506 perda_val 0.11267\n",
            "ÉPOCA  10: perda_train 0.11310 perda_val 0.11086\n",
            "ÉPOCA  11: perda_train 0.11184 perda_val 0.10954\n",
            "ÉPOCA  12: perda_train 0.11099 perda_val 0.10927\n",
            "ÉPOCA  13: perda_train 0.11038 perda_val 0.10839\n",
            "ÉPOCA  14: perda_train 0.11003 perda_val 0.10836\n",
            "ÉPOCA  15: perda_train 0.10971 perda_val 0.10761\n",
            "ÉPOCA  16: perda_train 0.10814 perda_val 0.10623\n",
            "ÉPOCA  17: perda_train 0.10751 perda_val 0.10551\n",
            "ÉPOCA  18: perda_train 0.10714 perda_val 0.10535\n",
            "ÉPOCA  19: perda_train 0.10689 perda_val 0.10544\n",
            "ÉPOCA  20: perda_train 0.10675 perda_val 0.10555\n"
          ]
        }
      ]
    },
    {
      "cell_type": "markdown",
      "metadata": {
        "id": "AyTjLzELSdQF"
      },
      "source": [
        "## Etapa 5: Geração do encoder"
      ]
    },
    {
      "cell_type": "code",
      "metadata": {
        "id": "FLtsGH44kM6V",
        "colab": {
          "base_uri": "https://localhost:8080/"
        },
        "outputId": "f8356b5d-6568-4df3-f845-ccba2751b54c"
      },
      "source": [
        "list(model.children())"
      ],
      "execution_count": null,
      "outputs": [
        {
          "output_type": "execute_result",
          "data": {
            "text/plain": [
              "[Linear(in_features=784, out_features=32, bias=True),\n",
              " ReLU(),\n",
              " Linear(in_features=32, out_features=784, bias=True),\n",
              " Sigmoid()]"
            ]
          },
          "metadata": {},
          "execution_count": 11
        }
      ]
    },
    {
      "cell_type": "code",
      "metadata": {
        "id": "DwE-lUIdkyGG",
        "colab": {
          "base_uri": "https://localhost:8080/"
        },
        "outputId": "707b37f7-727a-43c7-f9da-4e4fbce2eeca"
      },
      "source": [
        "list(model.children())[1]"
      ],
      "execution_count": null,
      "outputs": [
        {
          "output_type": "execute_result",
          "data": {
            "text/plain": [
              "ReLU()"
            ]
          },
          "metadata": {},
          "execution_count": 12
        }
      ]
    },
    {
      "cell_type": "code",
      "metadata": {
        "id": "KrrdeX6HklyT"
      },
      "source": [
        "class encoder(nn.Module):\n",
        "  def __init__(self):\n",
        "    super().__init__()\n",
        "    self.dense0 = list(model.children())[0]\n",
        "    self.activation0 = list(model.children())[1]\n",
        "\n",
        "  def forward(self, X):\n",
        "    X = X.view(-1, 28*28)\n",
        "    X = self.dense0(X)\n",
        "    X = self.activation0(X)\n",
        "    return X"
      ],
      "execution_count": null,
      "outputs": []
    },
    {
      "cell_type": "code",
      "metadata": {
        "id": "djw5BHYnlHq-",
        "colab": {
          "base_uri": "https://localhost:8080/"
        },
        "outputId": "653bab1b-5f63-4a97-b22f-e87b9c71362f"
      },
      "source": [
        "model1 = encoder()\n",
        "model1.to(device)"
      ],
      "execution_count": null,
      "outputs": [
        {
          "output_type": "execute_result",
          "data": {
            "text/plain": [
              "encoder(\n",
              "  (dense0): Linear(in_features=784, out_features=32, bias=True)\n",
              "  (activation0): ReLU()\n",
              ")"
            ]
          },
          "metadata": {},
          "execution_count": 14
        }
      ]
    },
    {
      "cell_type": "markdown",
      "metadata": {
        "id": "8zyaijZ7IJa4"
      },
      "source": [
        "## Etapa 6: Geração do decoder"
      ]
    },
    {
      "cell_type": "code",
      "metadata": {
        "id": "xzeLW2ohlOqk",
        "colab": {
          "base_uri": "https://localhost:8080/"
        },
        "outputId": "14c1d3f5-95ac-4256-b58c-71cd5b52a61a"
      },
      "source": [
        "list(model.children())[3]"
      ],
      "execution_count": null,
      "outputs": [
        {
          "output_type": "execute_result",
          "data": {
            "text/plain": [
              "Sigmoid()"
            ]
          },
          "metadata": {},
          "execution_count": 15
        }
      ]
    },
    {
      "cell_type": "code",
      "metadata": {
        "id": "3Lw11FbWlWM5"
      },
      "source": [
        "class decoder(nn.Module):\n",
        "  def __init__(self):\n",
        "    super().__init__()\n",
        "    self.dense0 = list(model.children())[2]\n",
        "    self.activation0 = list(model.children())[3]\n",
        "\n",
        "  def forward(self, X):\n",
        "    X = self.dense0(X)\n",
        "    X = self.activation0(X)\n",
        "    return X"
      ],
      "execution_count": null,
      "outputs": []
    },
    {
      "cell_type": "code",
      "metadata": {
        "id": "8Hug_HDzlxHH",
        "colab": {
          "base_uri": "https://localhost:8080/"
        },
        "outputId": "18f8aa30-1b37-4320-e7ba-209a6f9732d7"
      },
      "source": [
        "model2 = decoder()\n",
        "model2.to(device)"
      ],
      "execution_count": null,
      "outputs": [
        {
          "output_type": "execute_result",
          "data": {
            "text/plain": [
              "decoder(\n",
              "  (dense0): Linear(in_features=32, out_features=784, bias=True)\n",
              "  (activation0): Sigmoid()\n",
              ")"
            ]
          },
          "metadata": {},
          "execution_count": 17
        }
      ]
    },
    {
      "cell_type": "markdown",
      "metadata": {
        "id": "MJfl5-N7DvW3"
      },
      "source": [
        "## Etapa 7: Visualização dos resultados"
      ]
    },
    {
      "cell_type": "code",
      "metadata": {
        "id": "pCq005TumC88"
      },
      "source": [
        "numero_imagens = 10\n",
        "imagens_teste = next(iter(loader_val))[0][:numero_imagens]\n",
        "imagens_teste = imagens_teste.to(device)"
      ],
      "execution_count": null,
      "outputs": []
    },
    {
      "cell_type": "code",
      "metadata": {
        "id": "oY3IMhfQm3sl",
        "colab": {
          "base_uri": "https://localhost:8080/"
        },
        "outputId": "9269c033-c40c-4c4c-977f-d428c64fa291"
      },
      "source": [
        "imagens_teste.shape"
      ],
      "execution_count": null,
      "outputs": [
        {
          "output_type": "execute_result",
          "data": {
            "text/plain": [
              "torch.Size([10, 1, 28, 28])"
            ]
          },
          "metadata": {},
          "execution_count": 19
        }
      ]
    },
    {
      "cell_type": "code",
      "metadata": {
        "id": "TEjQwp1dmrEE"
      },
      "source": [
        "# Imagens codificadas\n",
        "model1.eval()\n",
        "imagens_codificadas = model1(imagens_teste)"
      ],
      "execution_count": null,
      "outputs": []
    },
    {
      "cell_type": "code",
      "metadata": {
        "id": "K9Vvm7w1myy8",
        "colab": {
          "base_uri": "https://localhost:8080/"
        },
        "outputId": "99630314-18e2-429c-af4d-9e68c6159a10"
      },
      "source": [
        "imagens_codificadas.shape"
      ],
      "execution_count": null,
      "outputs": [
        {
          "output_type": "execute_result",
          "data": {
            "text/plain": [
              "torch.Size([10, 32])"
            ]
          },
          "metadata": {},
          "execution_count": 21
        }
      ]
    },
    {
      "cell_type": "code",
      "metadata": {
        "id": "Go-53NwInFLb"
      },
      "source": [
        "# Imagens decodificadas\n",
        "model2.eval()\n",
        "imagens_decodificadas = model2(imagens_codificadas)"
      ],
      "execution_count": null,
      "outputs": []
    },
    {
      "cell_type": "code",
      "metadata": {
        "id": "oBtbRAjZnPMG",
        "colab": {
          "base_uri": "https://localhost:8080/"
        },
        "outputId": "103657ac-2d36-4b94-f47d-94f26c779465"
      },
      "source": [
        "imagens_decodificadas.shape"
      ],
      "execution_count": null,
      "outputs": [
        {
          "output_type": "execute_result",
          "data": {
            "text/plain": [
              "torch.Size([10, 784])"
            ]
          },
          "metadata": {},
          "execution_count": 23
        }
      ]
    },
    {
      "cell_type": "code",
      "metadata": {
        "id": "By8p1X4unTms"
      },
      "source": [
        "imagens_teste = imagens_teste.detach().cpu().numpy().reshape(-1, 28, 28)\n",
        "imagens_codificadas = imagens_codificadas.detach().cpu().numpy().reshape(-1, 8, 4)\n",
        "imagens_decodificadas = imagens_decodificadas.detach().cpu().numpy().reshape(-1, 28, 28)"
      ],
      "execution_count": null,
      "outputs": []
    },
    {
      "cell_type": "code",
      "metadata": {
        "id": "zmCXEfp0nzYE",
        "colab": {
          "base_uri": "https://localhost:8080/",
          "height": 320
        },
        "outputId": "ba411ec0-0189-4156-fc34-0d05ed5f0014"
      },
      "source": [
        "fig, axes = plt.subplots(nrows=3, ncols=numero_imagens, figsize=(10, 4))\n",
        "for imagens, ax_row in zip([imagens_teste, imagens_codificadas, imagens_decodificadas], axes):\n",
        "  for img, ax in zip(imagens, ax_row):\n",
        "    ax.imshow(img, cmap='gray')\n",
        "    ax.get_xaxis().set_visible(False)\n",
        "    ax.get_yaxis().set_visible(False)"
      ],
      "execution_count": null,
      "outputs": [
        {
          "output_type": "display_data",
          "data": {
            "text/plain": [
              "<Figure size 1000x400 with 30 Axes>"
            ],
            "image/png": "[encoded data removed]"
          },
          "metadata": {}
        }
      ]
    }
  ]
}
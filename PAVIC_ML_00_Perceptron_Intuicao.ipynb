{
  "cells": [
    {
      "cell_type": "markdown",
      "metadata": {
        "id": "view-in-github",
        "colab_type": "text"
      },
      "source": [
        "<a href=\"https://colab.research.google.com/github/mafaldasalomao/pavic_treinamento_ml/blob/main/PAVIC_ML_00_Perceptron_Intuicao.ipynb\" target=\"_parent\"><img src=\"https://colab.research.google.com/assets/colab-badge.svg\" alt=\"Open In Colab\"/></a>"
      ]
    },
    {
      "cell_type": "markdown",
      "metadata": {
        "id": "Y3tvti5mMWzK"
      },
      "source": [
        "__Objetivos__:\n",
        "- entender como o perceptron funciona intuitivamente, tanto em regressão quanto em classificação."
      ]
    },
    {
      "cell_type": "markdown",
      "metadata": {
        "id": "BIcMEoOHMWzM"
      },
      "source": [
        "# Sumário"
      ]
    },
    {
      "cell_type": "markdown",
      "metadata": {
        "id": "gABMUnEbMWzM"
      },
      "source": [
        "[Regressão](#Regressão)\n",
        "\n",
        "[Classificação](#Classificação)\n",
        "- [Porta AND](#Porta-AND)\n",
        "- [Porta OR](#Porta-OR)\n",
        "- [Porta XOR](#Porta-XOR)\n",
        "'"
      ]
    },
    {
      "cell_type": "markdown",
      "metadata": {
        "id": "kuCIUWDzMWzM"
      },
      "source": [
        "# Imports"
      ]
    },
    {
      "cell_type": "code",
      "execution_count": 71,
      "metadata": {
        "ExecuteTime": {
          "end_time": "2017-09-12T12:19:56.559341Z",
          "start_time": "2017-09-12T12:19:55.344478Z"
        },
        "id": "hbHx8zvhMWzM"
      },
      "outputs": [],
      "source": [
        "import numpy as np\n",
        "import pandas as pd\n",
        "import matplotlib.pyplot as plt\n",
        "import ipywidgets as wg\n",
        "from ipywidgets import interactive, fixed, interact, interact_manual\n",
        "import ipywidgets as widgets\n",
        "%matplotlib inline\n",
        "\n",
        "#! jupyter nbextension enable --py widgetsnbextension --sys-prefix\n",
        "#! restart jupyter notebook"
      ]
    },
    {
      "cell_type": "code",
      "source": [
        "!pip install ipyaladin\n",
        "!jupyter nbextension enable --py widgetsnbextension --sys-prefix\n",
        "!jupyter nbextension enable --py --sys-prefix ipyaladin"
      ],
      "metadata": {
        "id": "NBCWGtE8NTFd"
      },
      "execution_count": null,
      "outputs": []
    },
    {
      "cell_type": "markdown",
      "metadata": {
        "id": "EXtU4QS-MWzN"
      },
      "source": [
        "# Regressão"
      ]
    },
    {
      "cell_type": "code",
      "execution_count": 14,
      "metadata": {
        "ExecuteTime": {
          "end_time": "2017-09-12T12:19:58.026525Z",
          "start_time": "2017-09-12T12:19:57.992499Z"
        },
        "colab": {
          "base_uri": "https://localhost:8080/",
          "height": 380
        },
        "id": "NILDNWJvMWzN",
        "outputId": "228fd6a8-be67-480e-f540-a3ca9e95f1f8"
      },
      "outputs": [
        {
          "output_type": "stream",
          "name": "stdout",
          "text": [
            "(100, 2)\n"
          ]
        },
        {
          "output_type": "execute_result",
          "data": {
            "text/plain": [
              "   Altura    Peso\n",
              "0     187  109.72\n",
              "1     177   91.09\n",
              "2     180   88.93\n",
              "3     177   89.39\n",
              "4     177   92.02\n",
              "5     183   94.70\n",
              "6     178   83.57\n",
              "7     177   85.19\n",
              "8     183   92.96\n",
              "9     188  108.21"
            ],
            "text/html": [
              "\n",
              "  <div id=\"df-3a9f4c23-698b-4dea-bd85-a282e3d0128d\">\n",
              "    <div class=\"colab-df-container\">\n",
              "      <div>\n",
              "<style scoped>\n",
              "    .dataframe tbody tr th:only-of-type {\n",
              "        vertical-align: middle;\n",
              "    }\n",
              "\n",
              "    .dataframe tbody tr th {\n",
              "        vertical-align: top;\n",
              "    }\n",
              "\n",
              "    .dataframe thead th {\n",
              "        text-align: right;\n",
              "    }\n",
              "</style>\n",
              "<table border=\"1\" class=\"dataframe\">\n",
              "  <thead>\n",
              "    <tr style=\"text-align: right;\">\n",
              "      <th></th>\n",
              "      <th>Altura</th>\n",
              "      <th>Peso</th>\n",
              "    </tr>\n",
              "  </thead>\n",
              "  <tbody>\n",
              "    <tr>\n",
              "      <th>0</th>\n",
              "      <td>187</td>\n",
              "      <td>109.72</td>\n",
              "    </tr>\n",
              "    <tr>\n",
              "      <th>1</th>\n",
              "      <td>177</td>\n",
              "      <td>91.09</td>\n",
              "    </tr>\n",
              "    <tr>\n",
              "      <th>2</th>\n",
              "      <td>180</td>\n",
              "      <td>88.93</td>\n",
              "    </tr>\n",
              "    <tr>\n",
              "      <th>3</th>\n",
              "      <td>177</td>\n",
              "      <td>89.39</td>\n",
              "    </tr>\n",
              "    <tr>\n",
              "      <th>4</th>\n",
              "      <td>177</td>\n",
              "      <td>92.02</td>\n",
              "    </tr>\n",
              "    <tr>\n",
              "      <th>5</th>\n",
              "      <td>183</td>\n",
              "      <td>94.70</td>\n",
              "    </tr>\n",
              "    <tr>\n",
              "      <th>6</th>\n",
              "      <td>178</td>\n",
              "      <td>83.57</td>\n",
              "    </tr>\n",
              "    <tr>\n",
              "      <th>7</th>\n",
              "      <td>177</td>\n",
              "      <td>85.19</td>\n",
              "    </tr>\n",
              "    <tr>\n",
              "      <th>8</th>\n",
              "      <td>183</td>\n",
              "      <td>92.96</td>\n",
              "    </tr>\n",
              "    <tr>\n",
              "      <th>9</th>\n",
              "      <td>188</td>\n",
              "      <td>108.21</td>\n",
              "    </tr>\n",
              "  </tbody>\n",
              "</table>\n",
              "</div>\n",
              "      <button class=\"colab-df-convert\" onclick=\"convertToInteractive('df-3a9f4c23-698b-4dea-bd85-a282e3d0128d')\"\n",
              "              title=\"Convert this dataframe to an interactive table.\"\n",
              "              style=\"display:none;\">\n",
              "        \n",
              "  <svg xmlns=\"http://www.w3.org/2000/svg\" height=\"24px\"viewBox=\"0 0 24 24\"\n",
              "       width=\"24px\">\n",
              "    <path d=\"M0 0h24v24H0V0z\" fill=\"none\"/>\n",
              "    <path d=\"M18.56 5.44l.94 2.06.94-2.06 2.06-.94-2.06-.94-.94-2.06-.94 2.06-2.06.94zm-11 1L8.5 8.5l.94-2.06 2.06-.94-2.06-.94L8.5 2.5l-.94 2.06-2.06.94zm10 10l.94 2.06.94-2.06 2.06-.94-2.06-.94-.94-2.06-.94 2.06-2.06.94z\"/><path d=\"M17.41 7.96l-1.37-1.37c-.4-.4-.92-.59-1.43-.59-.52 0-1.04.2-1.43.59L10.3 9.45l-7.72 7.72c-.78.78-.78 2.05 0 2.83L4 21.41c.39.39.9.59 1.41.59.51 0 1.02-.2 1.41-.59l7.78-7.78 2.81-2.81c.8-.78.8-2.07 0-2.86zM5.41 20L4 18.59l7.72-7.72 1.47 1.35L5.41 20z\"/>\n",
              "  </svg>\n",
              "      </button>\n",
              "      \n",
              "  <style>\n",
              "    .colab-df-container {\n",
              "      display:flex;\n",
              "      flex-wrap:wrap;\n",
              "      gap: 12px;\n",
              "    }\n",
              "\n",
              "    .colab-df-convert {\n",
              "      background-color: #E8F0FE;\n",
              "      border: none;\n",
              "      border-radius: 50%;\n",
              "      cursor: pointer;\n",
              "      display: none;\n",
              "      fill: #1967D2;\n",
              "      height: 32px;\n",
              "      padding: 0 0 0 0;\n",
              "      width: 32px;\n",
              "    }\n",
              "\n",
              "    .colab-df-convert:hover {\n",
              "      background-color: #E2EBFA;\n",
              "      box-shadow: 0px 1px 2px rgba(60, 64, 67, 0.3), 0px 1px 3px 1px rgba(60, 64, 67, 0.15);\n",
              "      fill: #174EA6;\n",
              "    }\n",
              "\n",
              "    [theme=dark] .colab-df-convert {\n",
              "      background-color: #3B4455;\n",
              "      fill: #D2E3FC;\n",
              "    }\n",
              "\n",
              "    [theme=dark] .colab-df-convert:hover {\n",
              "      background-color: #434B5C;\n",
              "      box-shadow: 0px 1px 3px 1px rgba(0, 0, 0, 0.15);\n",
              "      filter: drop-shadow(0px 1px 2px rgba(0, 0, 0, 0.3));\n",
              "      fill: #FFFFFF;\n",
              "    }\n",
              "  </style>\n",
              "\n",
              "      <script>\n",
              "        const buttonEl =\n",
              "          document.querySelector('#df-3a9f4c23-698b-4dea-bd85-a282e3d0128d button.colab-df-convert');\n",
              "        buttonEl.style.display =\n",
              "          google.colab.kernel.accessAllowed ? 'block' : 'none';\n",
              "\n",
              "        async function convertToInteractive(key) {\n",
              "          const element = document.querySelector('#df-3a9f4c23-698b-4dea-bd85-a282e3d0128d');\n",
              "          const dataTable =\n",
              "            await google.colab.kernel.invokeFunction('convertToInteractive',\n",
              "                                                     [key], {});\n",
              "          if (!dataTable) return;\n",
              "\n",
              "          const docLinkHtml = 'Like what you see? Visit the ' +\n",
              "            '<a target=\"_blank\" href=https://colab.research.google.com/notebooks/data_table.ipynb>data table notebook</a>'\n",
              "            + ' to learn more about interactive tables.';\n",
              "          element.innerHTML = '';\n",
              "          dataTable['output_type'] = 'display_data';\n",
              "          await google.colab.output.renderOutput(dataTable, element);\n",
              "          const docLink = document.createElement('div');\n",
              "          docLink.innerHTML = docLinkHtml;\n",
              "          element.appendChild(docLink);\n",
              "        }\n",
              "      </script>\n",
              "    </div>\n",
              "  </div>\n",
              "  "
            ]
          },
          "metadata": {},
          "execution_count": 14
        }
      ],
      "source": [
        "df = pd.read_csv('medidas.csv')\n",
        "print(df.shape)\n",
        "df.head(10)"
      ]
    },
    {
      "cell_type": "code",
      "execution_count": 15,
      "metadata": {
        "ExecuteTime": {
          "end_time": "2017-09-12T12:20:01.271158Z",
          "start_time": "2017-09-12T12:20:00.922905Z"
        },
        "colab": {
          "base_uri": "https://localhost:8080/",
          "height": 466
        },
        "id": "qjsgcVutMWzO",
        "outputId": "eaa60b62-92a8-4576-a3e7-0f8223e61a0d"
      },
      "outputs": [
        {
          "output_type": "execute_result",
          "data": {
            "text/plain": [
              "Text(0, 0.5, 'Peso')"
            ]
          },
          "metadata": {},
          "execution_count": 15
        },
        {
          "output_type": "display_data",
          "data": {
            "text/plain": [
              "<Figure size 640x480 with 1 Axes>"
            ],
            "image/png": "[encoded data removed]"
          },
          "metadata": {}
        }
      ],
      "source": [
        "x = df.Altura\n",
        "y = df.Peso\n",
        "\n",
        "plt.figure()\n",
        "plt.scatter(x, y)\n",
        "plt.xlabel('Altura')\n",
        "plt.ylabel('Peso')"
      ]
    },
    {
      "cell_type": "code",
      "execution_count": 16,
      "metadata": {
        "ExecuteTime": {
          "end_time": "2017-09-12T12:20:55.215232Z",
          "start_time": "2017-09-12T12:20:55.145178Z"
        },
        "id": "_fNngEUPMWzO"
      },
      "outputs": [],
      "source": [
        "def plot_line(w, b):\n",
        "    plt.figure(0, figsize=(20,4))\n",
        "    plt.subplot(1,3,3)\n",
        "    plt.scatter(x, y)\n",
        "    y_pred = x*w + b\n",
        "    plt.plot(x, y_pred, c='red')\n",
        "    plt.xlim(140, 210)\n",
        "    plt.ylim(40, 120)\n",
        "\n",
        "    plt.subplot(1,3,2)\n",
        "    x_ = np.array([0, x.max()])\n",
        "    y_ = x_*w + b\n",
        "    plt.scatter(x, y)\n",
        "    plt.plot(x_, y_, c='red')\n",
        "    plt.xlim(0, 210)\n",
        "    plt.ylim(-160, 120)\n",
        "\n",
        "    plt.subplot(1,3,1)\n",
        "    mse = np.mean((y - y_pred)**2)\n",
        "    loss.append(mse)\n",
        "    plt.plot(loss)\n",
        "    plt.title('Loss')\n",
        "\n",
        "    plt.show()"
      ]
    },
    {
      "cell_type": "code",
      "execution_count": 17,
      "metadata": {
        "ExecuteTime": {
          "end_time": "2017-09-12T12:20:56.782344Z",
          "start_time": "2017-09-12T12:20:55.705578Z"
        },
        "colab": {
          "base_uri": "https://localhost:8080/",
          "height": 337,
          "referenced_widgets": [
            "3d7e67274bf24a87ab855d943735f6b3",
            "694edd82d079414d937289fdd7fbb527",
            "c8fb1d6e9053405097123d8327945941",
            "3a8f6c4bc2a3443cb0934d712f0d0112",
            "eccc5aa51f9f465ab65cb1fe60b1d19d",
            "bc0afe77efeb4227a60e9187d8aeb79d",
            "b27e6016fd2c4bd4a6a667e5b4fe9a62",
            "2d308fd4a6a14d78a669cda0da63303b",
            "e1f41f1e14f54621a2bee7fd91993aef",
            "12999b841b1a450386d48b788af51bff"
          ]
        },
        "id": "6QrLlxgEMWzO",
        "outputId": "62320d68-2e1f-47de-8c58-59724f339f50"
      },
      "outputs": [
        {
          "output_type": "display_data",
          "data": {
            "text/plain": [
              "interactive(children=(FloatSlider(value=1.25, description='w', max=1.5, min=1.0, step=0.01), IntSlider(value=-…"
            ],
            "application/vnd.jupyter.widget-view+json": {
              "version_major": 2,
              "version_minor": 0,
              "model_id": "3d7e67274bf24a87ab855d943735f6b3"
            }
          },
          "metadata": {}
        }
      ],
      "source": [
        "loss = []\n",
        "\n",
        "interactive_plot = interactive(plot_line, w=(1, 1.5, 0.01), b=(-200, 0, 1))\n",
        "output = interactive_plot.children[-1]\n",
        "output.layout_height = '350px'\n",
        "interactive_plot"
      ]
    },
    {
      "cell_type": "code",
      "execution_count": 18,
      "metadata": {
        "ExecuteTime": {
          "end_time": "2017-09-12T12:22:03.437838Z",
          "start_time": "2017-09-12T12:21:50.268473Z"
        },
        "colab": {
          "base_uri": "https://localhost:8080/"
        },
        "id": "uTwvryJmMWzO",
        "outputId": "2a0ff565-131a-405d-939c-61ba592dcc65"
      },
      "outputs": [
        {
          "output_type": "stream",
          "name": "stdout",
          "text": [
            "w: 1.37 \n",
            "b: -157.47\n"
          ]
        }
      ],
      "source": [
        "from sklearn.linear_model import LinearRegression\n",
        "\n",
        "reg = LinearRegression()\n",
        "reg.fit(x.values.reshape(-1,1), y)\n",
        "print(\"w: {:.2f} \\nb: {:.2f}\".format(reg.coef_[0], reg.intercept_))"
      ]
    },
    {
      "cell_type": "markdown",
      "metadata": {
        "id": "otl5tE40MWzO"
      },
      "source": [
        "# Classificação"
      ]
    },
    {
      "cell_type": "code",
      "source": [
        "!pip install ipympl"
      ],
      "metadata": {
        "id": "ttdJCTt4TaeM"
      },
      "execution_count": null,
      "outputs": []
    },
    {
      "cell_type": "code",
      "execution_count": 85,
      "metadata": {
        "ExecuteTime": {
          "end_time": "2017-09-12T12:57:48.364600Z",
          "start_time": "2017-09-12T12:57:48.232507Z"
        },
        "id": "onRRb6BLMWzO"
      },
      "outputs": [],
      "source": [
        "def plot_line(w1, w2, b):\n",
        "    x1, x2 = np.meshgrid(np.linspace(0,1,100), np.linspace(0,1,100))\n",
        "    x_mesh = np.array([x1.ravel(), x2.ravel()]).T\n",
        "\n",
        "    plt.figure(0, figsize=(10,4))\n",
        "    plt.subplot(1,2,2)\n",
        "    plt.scatter(x[:,0], x[:,1], c=y.ravel(), s=100, cmap='bwr')\n",
        "\n",
        "    y_mesh = np.dot(x_mesh, np.array([w1, w2]).T) + b\n",
        "    y_mesh = np.where(y_mesh <= 0, 0, 1)\n",
        "\n",
        "    plt.contourf(x1, x2, y_mesh.reshape(x1.shape), cmap='bwr')\n",
        "\n",
        "    y_pred = np.dot(x, np.array([w1, w2]).T) + b\n",
        "    y_bin = np.where(y_pred <= 0, 0, 1)\n",
        "    print('{0} => {1}'.format(y_pred, y_bin))\n",
        "\n",
        "    plt.subplot(1,2,1)\n",
        "    mse = np.mean((y.ravel() - y_bin)**2)\n",
        "    loss.append(mse)\n",
        "    print('Loss:' ,mse)\n",
        "    plt.scatter(x[:,0], x[:,1], c=y.ravel(), s=100, cmap='bwr')\n",
        "    plt.title('Training...')\n",
        "\n",
        "    plt.show()"
      ]
    },
    {
      "cell_type": "markdown",
      "metadata": {
        "id": "-siABP8FMWzO"
      },
      "source": [
        "### Porta AND"
      ]
    },
    {
      "cell_type": "code",
      "execution_count": 82,
      "metadata": {
        "ExecuteTime": {
          "end_time": "2017-09-12T12:22:17.785319Z",
          "start_time": "2017-09-12T12:22:17.770308Z"
        },
        "colab": {
          "base_uri": "https://localhost:8080/"
        },
        "id": "qeQOL5SBMWzP",
        "outputId": "079d09cc-1aa1-4e87-90fc-8a92162aa31a"
      },
      "outputs": [
        {
          "output_type": "stream",
          "name": "stdout",
          "text": [
            "[[0 0]\n",
            " [0 1]\n",
            " [1 0]\n",
            " [1 1]]\n",
            "[[0]\n",
            " [0]\n",
            " [0]\n",
            " [1]]\n"
          ]
        }
      ],
      "source": [
        "x = np.array([[0, 0], [0, 1], [1, 0], [1, 1]])\n",
        "y = np.array([[0, 0, 0, 1]]).T\n",
        "\n",
        "print(x, y, sep='\\n')"
      ]
    },
    {
      "cell_type": "code",
      "execution_count": 83,
      "metadata": {
        "ExecuteTime": {
          "end_time": "2017-09-12T12:22:20.966580Z",
          "start_time": "2017-09-12T12:22:20.670370Z"
        },
        "colab": {
          "base_uri": "https://localhost:8080/",
          "height": 447
        },
        "id": "bg_CZd8fMWzP",
        "outputId": "323442a0-398a-4b90-b0c4-b168a3b9de30"
      },
      "outputs": [
        {
          "output_type": "execute_result",
          "data": {
            "text/plain": [
              "<matplotlib.collections.PathCollection at 0x7efe76a476a0>"
            ]
          },
          "metadata": {},
          "execution_count": 83
        },
        {
          "output_type": "display_data",
          "data": {
            "text/plain": [
              "<Figure size 640x480 with 1 Axes>"
            ],
            "image/png": "[encoded data removed]"
          },
          "metadata": {}
        }
      ],
      "source": [
        "plt.scatter(x[:,0], x[:,1], c=y.ravel(), s=50, cmap='bwr')"
      ]
    },
    {
      "cell_type": "code",
      "execution_count": 86,
      "metadata": {
        "ExecuteTime": {
          "end_time": "2017-09-12T12:57:49.470386Z",
          "start_time": "2017-09-12T12:57:48.796908Z"
        },
        "colab": {
          "base_uri": "https://localhost:8080/",
          "height": 522,
          "referenced_widgets": [
            "ef2a79acf0e246e399ab91d9a9ffeab5",
            "2870202e1f534a80af676dc9ecaca83d",
            "8bc3c9330b304342a9a8f1d56737e132",
            "4b100c93da2c4ec89f332e0d9366aa9e",
            "701d470d8937432782e9347ecd7d83ed",
            "ac9f9a0f89c74e989a24ea9841d1cdb1",
            "8b33d485e672401db7580b93e39e0d5b",
            "4044649765854d4aabf7db3681f7e8db",
            "95c10067d1a540b98133f255b46adc35",
            "d3b492e6a63e4dee96512ead359dd8ad",
            "4ab90b7fe5d744d685c4afe6a83808d1",
            "321f291fa84b44a3930ed6ca7610ca8a",
            "85027e93b17f4b0280b55ca7ef587147"
          ]
        },
        "id": "yG7CN__gMWzP",
        "outputId": "e0f8aa8f-3550-4243-8bc7-eaa213b8463e"
      },
      "outputs": [
        {
          "output_type": "display_data",
          "data": {
            "text/plain": [
              "interactive(children=(FloatSlider(value=0.0, description='w1', max=1.0, min=-1.0, step=0.01), FloatSlider(valu…"
            ],
            "application/vnd.jupyter.widget-view+json": {
              "version_major": 2,
              "version_minor": 0,
              "model_id": "ef2a79acf0e246e399ab91d9a9ffeab5"
            }
          },
          "metadata": {
            "application/vnd.jupyter.widget-view+json": {
              "colab": {
                "custom_widget_manager": {
                  "url": "https://ssl.gstatic.com/colaboratory-static/widgets/colab-cdn-widget-manager/b3e629b1971e1542/manager.min.js"
                }
              }
            }
          }
        }
      ],
      "source": [
        "loss = []\n",
        "interactive_plot = interactive(plot_line, w1=(-1,1,0.01), w2=(-1,1,0.01), b=(-1.5, 1.5, 0.01))\n",
        "interactive_plot"
      ]
    },
    {
      "cell_type": "markdown",
      "metadata": {
        "id": "og8Shnt_MWzP"
      },
      "source": [
        "### Porta OR"
      ]
    },
    {
      "cell_type": "code",
      "execution_count": 87,
      "metadata": {
        "colab": {
          "base_uri": "https://localhost:8080/"
        },
        "id": "XXCAgoQAMWzP",
        "outputId": "9dea0a8d-1e80-4a43-8322-dd734a04acc7"
      },
      "outputs": [
        {
          "output_type": "stream",
          "name": "stdout",
          "text": [
            "[[0 0]\n",
            " [0 1]\n",
            " [1 0]\n",
            " [1 1]]\n",
            "[[0]\n",
            " [1]\n",
            " [1]\n",
            " [1]]\n"
          ]
        }
      ],
      "source": [
        "x = np.array([[0, 0], [0, 1], [1, 0], [1, 1]])\n",
        "y = np.array([[0, 1, 1, 1]]).T\n",
        "\n",
        "print(x, y, sep='\\n')"
      ]
    },
    {
      "cell_type": "code",
      "execution_count": 88,
      "metadata": {
        "colab": {
          "base_uri": "https://localhost:8080/",
          "height": 447
        },
        "id": "k6rvf3YSMWzP",
        "outputId": "70ae9791-fca2-4305-b9dc-dfb2bd2019be"
      },
      "outputs": [
        {
          "output_type": "execute_result",
          "data": {
            "text/plain": [
              "<matplotlib.collections.PathCollection at 0x7efe77da5210>"
            ]
          },
          "metadata": {},
          "execution_count": 88
        },
        {
          "output_type": "display_data",
          "data": {
            "text/plain": [
              "<Figure size 640x480 with 1 Axes>"
            ],
            "image/png": "[encoded data removed]"
          },
          "metadata": {}
        }
      ],
      "source": [
        "plt.scatter(x[:,0], x[:,1], c=y.ravel(), s=50, cmap='bwr')"
      ]
    },
    {
      "cell_type": "code",
      "execution_count": 89,
      "metadata": {
        "colab": {
          "base_uri": "https://localhost:8080/",
          "height": 522,
          "referenced_widgets": [
            "1b944ee0be59418e8a47f407e58e3105",
            "91c466ad07be4777bef0caccad7c5f0c",
            "bf371564ab7946c7927ce888fef2a9f0",
            "4f8f62d1a7144217bc4ef6bffb5d189b",
            "fa550767df484c1d9e081be7b7dd7ba7",
            "c0f71efab5b842ee93e62628e8420dfb",
            "593c37f2f2684a95a9a33b46e9661ef7",
            "4abc537279754008b3ec656e0efada72",
            "f88cca71016e4e5a9ba67fdc161bcd08",
            "9732a422b2584d6ab9647222f0f5d9c7",
            "d7288f2f3bd346b79ec2c9c98d49f449",
            "86a734dc1cb34352b54c0e361134a5e2",
            "b9266016959d49f8aa5c598c17530bb5"
          ]
        },
        "id": "bnZhktYwMWzP",
        "outputId": "2a213d92-c19f-4c10-effe-ed851e548404"
      },
      "outputs": [
        {
          "output_type": "display_data",
          "data": {
            "text/plain": [
              "interactive(children=(FloatSlider(value=0.0, description='w1', max=1.0, min=-1.0, step=0.01), FloatSlider(valu…"
            ],
            "application/vnd.jupyter.widget-view+json": {
              "version_major": 2,
              "version_minor": 0,
              "model_id": "1b944ee0be59418e8a47f407e58e3105"
            }
          },
          "metadata": {
            "application/vnd.jupyter.widget-view+json": {
              "colab": {
                "custom_widget_manager": {
                  "url": "https://ssl.gstatic.com/colaboratory-static/widgets/colab-cdn-widget-manager/b3e629b1971e1542/manager.min.js"
                }
              }
            }
          }
        }
      ],
      "source": [
        "loss = []\n",
        "\n",
        "interactive_plot = interactive(plot_line, w1=(-1,1,0.01), w2=(-1,1,0.01), b=(-1.5, 1.5, 0.01))\n",
        "interactive_plot"
      ]
    },
    {
      "cell_type": "markdown",
      "metadata": {
        "id": "7aLPS4RDMWzP"
      },
      "source": [
        "### Porta XOR"
      ]
    },
    {
      "cell_type": "code",
      "execution_count": 90,
      "metadata": {
        "colab": {
          "base_uri": "https://localhost:8080/"
        },
        "id": "U74U8kpXMWzQ",
        "outputId": "b7877f2f-1e6a-4c96-8433-9b54fdc868c1"
      },
      "outputs": [
        {
          "output_type": "stream",
          "name": "stdout",
          "text": [
            "[[0 0]\n",
            " [0 1]\n",
            " [1 0]\n",
            " [1 1]]\n",
            "[[0]\n",
            " [1]\n",
            " [1]\n",
            " [0]]\n"
          ]
        }
      ],
      "source": [
        "x = np.array([[0, 0], [0, 1], [1, 0], [1, 1]])\n",
        "y = np.array([[0, 1, 1, 0]]).T\n",
        "\n",
        "print(x, y, sep='\\n')"
      ]
    },
    {
      "cell_type": "code",
      "execution_count": 91,
      "metadata": {
        "colab": {
          "base_uri": "https://localhost:8080/",
          "height": 447
        },
        "id": "3F-Bvj4qMWzQ",
        "outputId": "27c7d369-5f69-48fd-e00f-c497b997656d"
      },
      "outputs": [
        {
          "output_type": "execute_result",
          "data": {
            "text/plain": [
              "<matplotlib.collections.PathCollection at 0x7efe77f2f670>"
            ]
          },
          "metadata": {},
          "execution_count": 91
        },
        {
          "output_type": "display_data",
          "data": {
            "text/plain": [
              "<Figure size 640x480 with 1 Axes>"
            ],
            "image/png": "[encoded data removed]"
          },
          "metadata": {}
        }
      ],
      "source": [
        "plt.scatter(x[:,0], x[:,1], c=y.ravel(), s=50, cmap='bwr')"
      ]
    },
    {
      "cell_type": "code",
      "execution_count": 92,
      "metadata": {
        "colab": {
          "base_uri": "https://localhost:8080/",
          "height": 522,
          "referenced_widgets": [
            "48516251f8884b219096dfd20e928a88",
            "18a3c5c503134cb4818bab60c61c71f8",
            "108ae140c48344c7b75ad12f91a05790",
            "2bdaf0ea58b049519b31082258d970bf",
            "600126f54a934264b37628d0fdd6513c",
            "46f4663e59334478a99931e12df4ef51",
            "f7dc4dd64c284759b7202345efd619ab",
            "6ae6f65c477a422db08be1f4c7464a4d",
            "f419148e343e471597ecf5844ca09749",
            "7592aadd45da401fb0e4a276208e37de",
            "0f4b8bd2f2934701a6c6dc2dafb5c7c5",
            "4522112a70484758b0d6e80f6b7620d6",
            "703341c6448243f3a02af8cca86f7a2f"
          ]
        },
        "id": "an1CAdV1MWzQ",
        "outputId": "1a902cc9-4445-49f1-8419-ff1da7d40c99"
      },
      "outputs": [
        {
          "output_type": "display_data",
          "data": {
            "text/plain": [
              "interactive(children=(FloatSlider(value=0.0, description='w1', max=1.0, min=-1.0, step=0.01), FloatSlider(valu…"
            ],
            "application/vnd.jupyter.widget-view+json": {
              "version_major": 2,
              "version_minor": 0,
              "model_id": "48516251f8884b219096dfd20e928a88"
            }
          },
          "metadata": {
            "application/vnd.jupyter.widget-view+json": {
              "colab": {
                "custom_widget_manager": {
                  "url": "https://ssl.gstatic.com/colaboratory-static/widgets/colab-cdn-widget-manager/b3e629b1971e1542/manager.min.js"
                }
              }
            }
          }
        }
      ],
      "source": [
        "loss = []\n",
        "\n",
        "interactive_plot = interactive(plot_line, w1=(-1,1,0.01), w2=(-1,1,0.01), b=(-1.5, 1.5, 0.01))\n",
        "interactive_plot"
      ]
    }
  ],
  "metadata": {
    "anaconda-cloud": {},
    "kernelspec": {
      "display_name": "Python 3 (ipykernel)",
      "language": "python",
      "name": "python3"
    },
    "language_info": {
      "codemirror_mode": {
        "name": "ipython",
        "version": 3
      },
      "file_extension": ".py",
      "mimetype": "text/x-python",
      "name": "python",
      "nbconvert_exporter": "python",
      "pygments_lexer": "ipython3",
      "version": "3.10.7"
    },
    "widgets": {
      "application/vnd.jupyter.widget-state+json": {
        "3d7e67274bf24a87ab855d943735f6b3": {
          "model_module": "@jupyter-widgets/controls",
          "model_name": "VBoxModel",
          "model_module_version": "1.5.0",
          "state": {
            "_dom_classes": [
              "widget-interact"
            ],
            "_model_module": "@jupyter-widgets/controls",
            "_model_module_version": "1.5.0",
            "_model_name": "VBoxModel",
            "_view_count": null,
            "_view_module": "@jupyter-widgets/controls",
            "_view_module_version": "1.5.0",
            "_view_name": "VBoxView",
            "box_style": "",
            "children": [
              "IPY_MODEL_694edd82d079414d937289fdd7fbb527",
              "IPY_MODEL_c8fb1d6e9053405097123d8327945941",
              "IPY_MODEL_3a8f6c4bc2a3443cb0934d712f0d0112"
            ],
            "layout": "IPY_MODEL_eccc5aa51f9f465ab65cb1fe60b1d19d"
          }
        },
        "694edd82d079414d937289fdd7fbb527": {
          "model_module": "@jupyter-widgets/controls",
          "model_name": "FloatSliderModel",
          "model_module_version": "1.5.0",
          "state": {
            "_dom_classes": [],
            "_model_module": "@jupyter-widgets/controls",
            "_model_module_version": "1.5.0",
            "_model_name": "FloatSliderModel",
            "_view_count": null,
            "_view_module": "@jupyter-widgets/controls",
            "_view_module_version": "1.5.0",
            "_view_name": "FloatSliderView",
            "continuous_update": true,
            "description": "w",
            "description_tooltip": null,
            "disabled": false,
            "layout": "IPY_MODEL_bc0afe77efeb4227a60e9187d8aeb79d",
            "max": 1.5,
            "min": 1,
            "orientation": "horizontal",
            "readout": true,
            "readout_format": ".2f",
            "step": 0.01,
            "style": "IPY_MODEL_b27e6016fd2c4bd4a6a667e5b4fe9a62",
            "value": 1.25
          }
        },
        "c8fb1d6e9053405097123d8327945941": {
          "model_module": "@jupyter-widgets/controls",
          "model_name": "IntSliderModel",
          "model_module_version": "1.5.0",
          "state": {
            "_dom_classes": [],
            "_model_module": "@jupyter-widgets/controls",
            "_model_module_version": "1.5.0",
            "_model_name": "IntSliderModel",
            "_view_count": null,
            "_view_module": "@jupyter-widgets/controls",
            "_view_module_version": "1.5.0",
            "_view_name": "IntSliderView",
            "continuous_update": true,
            "description": "b",
            "description_tooltip": null,
            "disabled": false,
            "layout": "IPY_MODEL_2d308fd4a6a14d78a669cda0da63303b",
            "max": 0,
            "min": -200,
            "orientation": "horizontal",
            "readout": true,
            "readout_format": "d",
            "step": 1,
            "style": "IPY_MODEL_e1f41f1e14f54621a2bee7fd91993aef",
            "value": -100
          }
        },
        "3a8f6c4bc2a3443cb0934d712f0d0112": {
          "model_module": "@jupyter-widgets/output",
          "model_name": "OutputModel",
          "model_module_version": "1.0.0",
          "state": {
            "_dom_classes": [],
            "_model_module": "@jupyter-widgets/output",
            "_model_module_version": "1.0.0",
            "_model_name": "OutputModel",
            "_view_count": null,
            "_view_module": "@jupyter-widgets/output",
            "_view_module_version": "1.0.0",
            "_view_name": "OutputView",
            "layout": "IPY_MODEL_12999b841b1a450386d48b788af51bff",
            "msg_id": "",
            "outputs": [
              {
                "output_type": "display_data",
                "data": {
                  "text/plain": "<Figure size 2000x400 with 3 Axes>",
                  "image/png": "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\n"
                },
                "metadata": {}
              }
            ]
          }
        },
        "eccc5aa51f9f465ab65cb1fe60b1d19d": {
          "model_module": "@jupyter-widgets/base",
          "model_name": "LayoutModel",
          "model_module_version": "1.2.0",
          "state": {
            "_model_module": "@jupyter-widgets/base",
            "_model_module_version": "1.2.0",
            "_model_name": "LayoutModel",
            "_view_count": null,
            "_view_module": "@jupyter-widgets/base",
            "_view_module_version": "1.2.0",
            "_view_name": "LayoutView",
            "align_content": null,
            "align_items": null,
            "align_self": null,
            "border": null,
            "bottom": null,
            "display": null,
            "flex": null,
            "flex_flow": null,
            "grid_area": null,
            "grid_auto_columns": null,
            "grid_auto_flow": null,
            "grid_auto_rows": null,
            "grid_column": null,
            "grid_gap": null,
            "grid_row": null,
            "grid_template_areas": null,
            "grid_template_columns": null,
            "grid_template_rows": null,
            "height": null,
            "justify_content": null,
            "justify_items": null,
            "left": null,
            "margin": null,
            "max_height": null,
            "max_width": null,
            "min_height": null,
            "min_width": null,
            "object_fit": null,
            "object_position": null,
            "order": null,
            "overflow": null,
            "overflow_x": null,
            "overflow_y": null,
            "padding": null,
            "right": null,
            "top": null,
            "visibility": null,
            "width": null
          }
        },
        "bc0afe77efeb4227a60e9187d8aeb79d": {
          "model_module": "@jupyter-widgets/base",
          "model_name": "LayoutModel",
          "model_module_version": "1.2.0",
          "state": {
            "_model_module": "@jupyter-widgets/base",
            "_model_module_version": "1.2.0",
            "_model_name": "LayoutModel",
            "_view_count": null,
            "_view_module": "@jupyter-widgets/base",
            "_view_module_version": "1.2.0",
            "_view_name": "LayoutView",
            "align_content": null,
            "align_items": null,
            "align_self": null,
            "border": null,
            "bottom": null,
            "display": null,
            "flex": null,
            "flex_flow": null,
            "grid_area": null,
            "grid_auto_columns": null,
            "grid_auto_flow": null,
            "grid_auto_rows": null,
            "grid_column": null,
            "grid_gap": null,
            "grid_row": null,
            "grid_template_areas": null,
            "grid_template_columns": null,
            "grid_template_rows": null,
            "height": null,
            "justify_content": null,
            "justify_items": null,
            "left": null,
            "margin": null,
            "max_height": null,
            "max_width": null,
            "min_height": null,
            "min_width": null,
            "object_fit": null,
            "object_position": null,
            "order": null,
            "overflow": null,
            "overflow_x": null,
            "overflow_y": null,
            "padding": null,
            "right": null,
            "top": null,
            "visibility": null,
            "width": null
          }
        },
        "b27e6016fd2c4bd4a6a667e5b4fe9a62": {
          "model_module": "@jupyter-widgets/controls",
          "model_name": "SliderStyleModel",
          "model_module_version": "1.5.0",
          "state": {
            "_model_module": "@jupyter-widgets/controls",
            "_model_module_version": "1.5.0",
            "_model_name": "SliderStyleModel",
            "_view_count": null,
            "_view_module": "@jupyter-widgets/base",
            "_view_module_version": "1.2.0",
            "_view_name": "StyleView",
            "description_width": "",
            "handle_color": null
          }
        },
        "2d308fd4a6a14d78a669cda0da63303b": {
          "model_module": "@jupyter-widgets/base",
          "model_name": "LayoutModel",
          "model_module_version": "1.2.0",
          "state": {
            "_model_module": "@jupyter-widgets/base",
            "_model_module_version": "1.2.0",
            "_model_name": "LayoutModel",
            "_view_count": null,
            "_view_module": "@jupyter-widgets/base",
            "_view_module_version": "1.2.0",
            "_view_name": "LayoutView",
            "align_content": null,
            "align_items": null,
            "align_self": null,
            "border": null,
            "bottom": null,
            "display": null,
            "flex": null,
            "flex_flow": null,
            "grid_area": null,
            "grid_auto_columns": null,
            "grid_auto_flow": null,
            "grid_auto_rows": null,
            "grid_column": null,
            "grid_gap": null,
            "grid_row": null,
            "grid_template_areas": null,
            "grid_template_columns": null,
            "grid_template_rows": null,
            "height": null,
            "justify_content": null,
            "justify_items": null,
            "left": null,
            "margin": null,
            "max_height": null,
            "max_width": null,
            "min_height": null,
            "min_width": null,
            "object_fit": null,
            "object_position": null,
            "order": null,
            "overflow": null,
            "overflow_x": null,
            "overflow_y": null,
            "padding": null,
            "right": null,
            "top": null,
            "visibility": null,
            "width": null
          }
        },
        "e1f41f1e14f54621a2bee7fd91993aef": {
          "model_module": "@jupyter-widgets/controls",
          "model_name": "SliderStyleModel",
          "model_module_version": "1.5.0",
          "state": {
            "_model_module": "@jupyter-widgets/controls",
            "_model_module_version": "1.5.0",
            "_model_name": "SliderStyleModel",
            "_view_count": null,
            "_view_module": "@jupyter-widgets/base",
            "_view_module_version": "1.2.0",
            "_view_name": "StyleView",
            "description_width": "",
            "handle_color": null
          }
        },
        "12999b841b1a450386d48b788af51bff": {
          "model_module": "@jupyter-widgets/base",
          "model_name": "LayoutModel",
          "model_module_version": "1.2.0",
          "state": {
            "_model_module": "@jupyter-widgets/base",
            "_model_module_version": "1.2.0",
            "_model_name": "LayoutModel",
            "_view_count": null,
            "_view_module": "@jupyter-widgets/base",
            "_view_module_version": "1.2.0",
            "_view_name": "LayoutView",
            "align_content": null,
            "align_items": null,
            "align_self": null,
            "border": null,
            "bottom": null,
            "display": null,
            "flex": null,
            "flex_flow": null,
            "grid_area": null,
            "grid_auto_columns": null,
            "grid_auto_flow": null,
            "grid_auto_rows": null,
            "grid_column": null,
            "grid_gap": null,
            "grid_row": null,
            "grid_template_areas": null,
            "grid_template_columns": null,
            "grid_template_rows": null,
            "height": null,
            "justify_content": null,
            "justify_items": null,
            "left": null,
            "margin": null,
            "max_height": null,
            "max_width": null,
            "min_height": null,
            "min_width": null,
            "object_fit": null,
            "object_position": null,
            "order": null,
            "overflow": null,
            "overflow_x": null,
            "overflow_y": null,
            "padding": null,
            "right": null,
            "top": null,
            "visibility": null,
            "width": null
          }
        },
        "ef2a79acf0e246e399ab91d9a9ffeab5": {
          "model_module": "@jupyter-widgets/controls",
          "model_name": "VBoxModel",
          "model_module_version": "1.5.0",
          "state": {
            "_dom_classes": [
              "widget-interact"
            ],
            "_model_module": "@jupyter-widgets/controls",
            "_model_module_version": "1.5.0",
            "_model_name": "VBoxModel",
            "_view_count": null,
            "_view_module": "@jupyter-widgets/controls",
            "_view_module_version": "1.5.0",
            "_view_name": "VBoxView",
            "box_style": "",
            "children": [
              "IPY_MODEL_2870202e1f534a80af676dc9ecaca83d",
              "IPY_MODEL_8bc3c9330b304342a9a8f1d56737e132",
              "IPY_MODEL_4b100c93da2c4ec89f332e0d9366aa9e",
              "IPY_MODEL_701d470d8937432782e9347ecd7d83ed"
            ],
            "layout": "IPY_MODEL_ac9f9a0f89c74e989a24ea9841d1cdb1"
          }
        },
        "2870202e1f534a80af676dc9ecaca83d": {
          "model_module": "@jupyter-widgets/controls",
          "model_name": "FloatSliderModel",
          "model_module_version": "1.5.0",
          "state": {
            "_dom_classes": [],
            "_model_module": "@jupyter-widgets/controls",
            "_model_module_version": "1.5.0",
            "_model_name": "FloatSliderModel",
            "_view_count": null,
            "_view_module": "@jupyter-widgets/controls",
            "_view_module_version": "1.5.0",
            "_view_name": "FloatSliderView",
            "continuous_update": true,
            "description": "w1",
            "description_tooltip": null,
            "disabled": false,
            "layout": "IPY_MODEL_8b33d485e672401db7580b93e39e0d5b",
            "max": 1,
            "min": -1,
            "orientation": "horizontal",
            "readout": true,
            "readout_format": ".2f",
            "step": 0.01,
            "style": "IPY_MODEL_4044649765854d4aabf7db3681f7e8db",
            "value": 0.45999999999999996
          }
        },
        "8bc3c9330b304342a9a8f1d56737e132": {
          "model_module": "@jupyter-widgets/controls",
          "model_name": "FloatSliderModel",
          "model_module_version": "1.5.0",
          "state": {
            "_dom_classes": [],
            "_model_module": "@jupyter-widgets/controls",
            "_model_module_version": "1.5.0",
            "_model_name": "FloatSliderModel",
            "_view_count": null,
            "_view_module": "@jupyter-widgets/controls",
            "_view_module_version": "1.5.0",
            "_view_name": "FloatSliderView",
            "continuous_update": true,
            "description": "w2",
            "description_tooltip": null,
            "disabled": false,
            "layout": "IPY_MODEL_95c10067d1a540b98133f255b46adc35",
            "max": 1,
            "min": -1,
            "orientation": "horizontal",
            "readout": true,
            "readout_format": ".2f",
            "step": 0.01,
            "style": "IPY_MODEL_d3b492e6a63e4dee96512ead359dd8ad",
            "value": 0.08000000000000007
          }
        },
        "4b100c93da2c4ec89f332e0d9366aa9e": {
          "model_module": "@jupyter-widgets/controls",
          "model_name": "FloatSliderModel",
          "model_module_version": "1.5.0",
          "state": {
            "_dom_classes": [],
            "_model_module": "@jupyter-widgets/controls",
            "_model_module_version": "1.5.0",
            "_model_name": "FloatSliderModel",
            "_view_count": null,
            "_view_module": "@jupyter-widgets/controls",
            "_view_module_version": "1.5.0",
            "_view_name": "FloatSliderView",
            "continuous_update": true,
            "description": "b",
            "description_tooltip": null,
            "disabled": false,
            "layout": "IPY_MODEL_4ab90b7fe5d744d685c4afe6a83808d1",
            "max": 1.5,
            "min": -1.5,
            "orientation": "horizontal",
            "readout": true,
            "readout_format": ".2f",
            "step": 0.01,
            "style": "IPY_MODEL_321f291fa84b44a3930ed6ca7610ca8a",
            "value": -0.51
          }
        },
        "701d470d8937432782e9347ecd7d83ed": {
          "model_module": "@jupyter-widgets/output",
          "model_name": "OutputModel",
          "model_module_version": "1.0.0",
          "state": {
            "_dom_classes": [],
            "_model_module": "@jupyter-widgets/output",
            "_model_module_version": "1.0.0",
            "_model_name": "OutputModel",
            "_view_count": null,
            "_view_module": "@jupyter-widgets/output",
            "_view_module_version": "1.0.0",
            "_view_name": "OutputView",
            "layout": "IPY_MODEL_85027e93b17f4b0280b55ca7ef587147",
            "msg_id": "",
            "outputs": [
              {
                "output_type": "stream",
                "name": "stdout",
                "text": [
                  "[-0.51 -0.43 -0.05  0.03] => [0 0 0 1]\n",
                  "Loss: 0.0\n"
                ]
              },
              {
                "output_type": "display_data",
                "data": {
                  "text/plain": "<Figure size 1000x400 with 2 Axes>",
                  "image/png": "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\n"
                },
                "metadata": {}
              }
            ]
          }
        },
        "ac9f9a0f89c74e989a24ea9841d1cdb1": {
          "model_module": "@jupyter-widgets/base",
          "model_name": "LayoutModel",
          "model_module_version": "1.2.0",
          "state": {
            "_model_module": "@jupyter-widgets/base",
            "_model_module_version": "1.2.0",
            "_model_name": "LayoutModel",
            "_view_count": null,
            "_view_module": "@jupyter-widgets/base",
            "_view_module_version": "1.2.0",
            "_view_name": "LayoutView",
            "align_content": null,
            "align_items": null,
            "align_self": null,
            "border": null,
            "bottom": null,
            "display": null,
            "flex": null,
            "flex_flow": null,
            "grid_area": null,
            "grid_auto_columns": null,
            "grid_auto_flow": null,
            "grid_auto_rows": null,
            "grid_column": null,
            "grid_gap": null,
            "grid_row": null,
            "grid_template_areas": null,
            "grid_template_columns": null,
            "grid_template_rows": null,
            "height": null,
            "justify_content": null,
            "justify_items": null,
            "left": null,
            "margin": null,
            "max_height": null,
            "max_width": null,
            "min_height": null,
            "min_width": null,
            "object_fit": null,
            "object_position": null,
            "order": null,
            "overflow": null,
            "overflow_x": null,
            "overflow_y": null,
            "padding": null,
            "right": null,
            "top": null,
            "visibility": null,
            "width": null
          }
        },
        "8b33d485e672401db7580b93e39e0d5b": {
          "model_module": "@jupyter-widgets/base",
          "model_name": "LayoutModel",
          "model_module_version": "1.2.0",
          "state": {
            "_model_module": "@jupyter-widgets/base",
            "_model_module_version": "1.2.0",
            "_model_name": "LayoutModel",
            "_view_count": null,
            "_view_module": "@jupyter-widgets/base",
            "_view_module_version": "1.2.0",
            "_view_name": "LayoutView",
            "align_content": null,
            "align_items": null,
            "align_self": null,
            "border": null,
            "bottom": null,
            "display": null,
            "flex": null,
            "flex_flow": null,
            "grid_area": null,
            "grid_auto_columns": null,
            "grid_auto_flow": null,
            "grid_auto_rows": null,
            "grid_column": null,
            "grid_gap": null,
            "grid_row": null,
            "grid_template_areas": null,
            "grid_template_columns": null,
            "grid_template_rows": null,
            "height": null,
            "justify_content": null,
            "justify_items": null,
            "left": null,
            "margin": null,
            "max_height": null,
            "max_width": null,
            "min_height": null,
            "min_width": null,
            "object_fit": null,
            "object_position": null,
            "order": null,
            "overflow": null,
            "overflow_x": null,
            "overflow_y": null,
            "padding": null,
            "right": null,
            "top": null,
            "visibility": null,
            "width": null
          }
        },
        "4044649765854d4aabf7db3681f7e8db": {
          "model_module": "@jupyter-widgets/controls",
          "model_name": "SliderStyleModel",
          "model_module_version": "1.5.0",
          "state": {
            "_model_module": "@jupyter-widgets/controls",
            "_model_module_version": "1.5.0",
            "_model_name": "SliderStyleModel",
            "_view_count": null,
            "_view_module": "@jupyter-widgets/base",
            "_view_module_version": "1.2.0",
            "_view_name": "StyleView",
            "description_width": "",
            "handle_color": null
          }
        },
        "95c10067d1a540b98133f255b46adc35": {
          "model_module": "@jupyter-widgets/base",
          "model_name": "LayoutModel",
          "model_module_version": "1.2.0",
          "state": {
            "_model_module": "@jupyter-widgets/base",
            "_model_module_version": "1.2.0",
            "_model_name": "LayoutModel",
            "_view_count": null,
            "_view_module": "@jupyter-widgets/base",
            "_view_module_version": "1.2.0",
            "_view_name": "LayoutView",
            "align_content": null,
            "align_items": null,
            "align_self": null,
            "border": null,
            "bottom": null,
            "display": null,
            "flex": null,
            "flex_flow": null,
            "grid_area": null,
            "grid_auto_columns": null,
            "grid_auto_flow": null,
            "grid_auto_rows": null,
            "grid_column": null,
            "grid_gap": null,
            "grid_row": null,
            "grid_template_areas": null,
            "grid_template_columns": null,
            "grid_template_rows": null,
            "height": null,
            "justify_content": null,
            "justify_items": null,
            "left": null,
            "margin": null,
            "max_height": null,
            "max_width": null,
            "min_height": null,
            "min_width": null,
            "object_fit": null,
            "object_position": null,
            "order": null,
            "overflow": null,
            "overflow_x": null,
            "overflow_y": null,
            "padding": null,
            "right": null,
            "top": null,
            "visibility": null,
            "width": null
          }
        },
        "d3b492e6a63e4dee96512ead359dd8ad": {
          "model_module": "@jupyter-widgets/controls",
          "model_name": "SliderStyleModel",
          "model_module_version": "1.5.0",
          "state": {
            "_model_module": "@jupyter-widgets/controls",
            "_model_module_version": "1.5.0",
            "_model_name": "SliderStyleModel",
            "_view_count": null,
            "_view_module": "@jupyter-widgets/base",
            "_view_module_version": "1.2.0",
            "_view_name": "StyleView",
            "description_width": "",
            "handle_color": null
          }
        },
        "4ab90b7fe5d744d685c4afe6a83808d1": {
          "model_module": "@jupyter-widgets/base",
          "model_name": "LayoutModel",
          "model_module_version": "1.2.0",
          "state": {
            "_model_module": "@jupyter-widgets/base",
            "_model_module_version": "1.2.0",
            "_model_name": "LayoutModel",
            "_view_count": null,
            "_view_module": "@jupyter-widgets/base",
            "_view_module_version": "1.2.0",
            "_view_name": "LayoutView",
            "align_content": null,
            "align_items": null,
            "align_self": null,
            "border": null,
            "bottom": null,
            "display": null,
            "flex": null,
            "flex_flow": null,
            "grid_area": null,
            "grid_auto_columns": null,
            "grid_auto_flow": null,
            "grid_auto_rows": null,
            "grid_column": null,
            "grid_gap": null,
            "grid_row": null,
            "grid_template_areas": null,
            "grid_template_columns": null,
            "grid_template_rows": null,
            "height": null,
            "justify_content": null,
            "justify_items": null,
            "left": null,
            "margin": null,
            "max_height": null,
            "max_width": null,
            "min_height": null,
            "min_width": null,
            "object_fit": null,
            "object_position": null,
            "order": null,
            "overflow": null,
            "overflow_x": null,
            "overflow_y": null,
            "padding": null,
            "right": null,
            "top": null,
            "visibility": null,
            "width": null
          }
        },
        "321f291fa84b44a3930ed6ca7610ca8a": {
          "model_module": "@jupyter-widgets/controls",
          "model_name": "SliderStyleModel",
          "model_module_version": "1.5.0",
          "state": {
            "_model_module": "@jupyter-widgets/controls",
            "_model_module_version": "1.5.0",
            "_model_name": "SliderStyleModel",
            "_view_count": null,
            "_view_module": "@jupyter-widgets/base",
            "_view_module_version": "1.2.0",
            "_view_name": "StyleView",
            "description_width": "",
            "handle_color": null
          }
        },
        "85027e93b17f4b0280b55ca7ef587147": {
          "model_module": "@jupyter-widgets/base",
          "model_name": "LayoutModel",
          "model_module_version": "1.2.0",
          "state": {
            "_model_module": "@jupyter-widgets/base",
            "_model_module_version": "1.2.0",
            "_model_name": "LayoutModel",
            "_view_count": null,
            "_view_module": "@jupyter-widgets/base",
            "_view_module_version": "1.2.0",
            "_view_name": "LayoutView",
            "align_content": null,
            "align_items": null,
            "align_self": null,
            "border": null,
            "bottom": null,
            "display": null,
            "flex": null,
            "flex_flow": null,
            "grid_area": null,
            "grid_auto_columns": null,
            "grid_auto_flow": null,
            "grid_auto_rows": null,
            "grid_column": null,
            "grid_gap": null,
            "grid_row": null,
            "grid_template_areas": null,
            "grid_template_columns": null,
            "grid_template_rows": null,
            "height": null,
            "justify_content": null,
            "justify_items": null,
            "left": null,
            "margin": null,
            "max_height": null,
            "max_width": null,
            "min_height": null,
            "min_width": null,
            "object_fit": null,
            "object_position": null,
            "order": null,
            "overflow": null,
            "overflow_x": null,
            "overflow_y": null,
            "padding": null,
            "right": null,
            "top": null,
            "visibility": null,
            "width": null
          }
        },
        "1b944ee0be59418e8a47f407e58e3105": {
          "model_module": "@jupyter-widgets/controls",
          "model_name": "VBoxModel",
          "model_module_version": "1.5.0",
          "state": {
            "_dom_classes": [
              "widget-interact"
            ],
            "_model_module": "@jupyter-widgets/controls",
            "_model_module_version": "1.5.0",
            "_model_name": "VBoxModel",
            "_view_count": null,
            "_view_module": "@jupyter-widgets/controls",
            "_view_module_version": "1.5.0",
            "_view_name": "VBoxView",
            "box_style": "",
            "children": [
              "IPY_MODEL_91c466ad07be4777bef0caccad7c5f0c",
              "IPY_MODEL_bf371564ab7946c7927ce888fef2a9f0",
              "IPY_MODEL_4f8f62d1a7144217bc4ef6bffb5d189b",
              "IPY_MODEL_fa550767df484c1d9e081be7b7dd7ba7"
            ],
            "layout": "IPY_MODEL_c0f71efab5b842ee93e62628e8420dfb"
          }
        },
        "91c466ad07be4777bef0caccad7c5f0c": {
          "model_module": "@jupyter-widgets/controls",
          "model_name": "FloatSliderModel",
          "model_module_version": "1.5.0",
          "state": {
            "_dom_classes": [],
            "_model_module": "@jupyter-widgets/controls",
            "_model_module_version": "1.5.0",
            "_model_name": "FloatSliderModel",
            "_view_count": null,
            "_view_module": "@jupyter-widgets/controls",
            "_view_module_version": "1.5.0",
            "_view_name": "FloatSliderView",
            "continuous_update": true,
            "description": "w1",
            "description_tooltip": null,
            "disabled": false,
            "layout": "IPY_MODEL_593c37f2f2684a95a9a33b46e9661ef7",
            "max": 1,
            "min": -1,
            "orientation": "horizontal",
            "readout": true,
            "readout_format": ".2f",
            "step": 0.01,
            "style": "IPY_MODEL_4abc537279754008b3ec656e0efada72",
            "value": 0.29000000000000004
          }
        },
        "bf371564ab7946c7927ce888fef2a9f0": {
          "model_module": "@jupyter-widgets/controls",
          "model_name": "FloatSliderModel",
          "model_module_version": "1.5.0",
          "state": {
            "_dom_classes": [],
            "_model_module": "@jupyter-widgets/controls",
            "_model_module_version": "1.5.0",
            "_model_name": "FloatSliderModel",
            "_view_count": null,
            "_view_module": "@jupyter-widgets/controls",
            "_view_module_version": "1.5.0",
            "_view_name": "FloatSliderView",
            "continuous_update": true,
            "description": "w2",
            "description_tooltip": null,
            "disabled": false,
            "layout": "IPY_MODEL_f88cca71016e4e5a9ba67fdc161bcd08",
            "max": 1,
            "min": -1,
            "orientation": "horizontal",
            "readout": true,
            "readout_format": ".2f",
            "step": 0.01,
            "style": "IPY_MODEL_9732a422b2584d6ab9647222f0f5d9c7",
            "value": 0.3899999999999999
          }
        },
        "4f8f62d1a7144217bc4ef6bffb5d189b": {
          "model_module": "@jupyter-widgets/controls",
          "model_name": "FloatSliderModel",
          "model_module_version": "1.5.0",
          "state": {
            "_dom_classes": [],
            "_model_module": "@jupyter-widgets/controls",
            "_model_module_version": "1.5.0",
            "_model_name": "FloatSliderModel",
            "_view_count": null,
            "_view_module": "@jupyter-widgets/controls",
            "_view_module_version": "1.5.0",
            "_view_name": "FloatSliderView",
            "continuous_update": true,
            "description": "b",
            "description_tooltip": null,
            "disabled": false,
            "layout": "IPY_MODEL_d7288f2f3bd346b79ec2c9c98d49f449",
            "max": 1.5,
            "min": -1.5,
            "orientation": "horizontal",
            "readout": true,
            "readout_format": ".2f",
            "step": 0.01,
            "style": "IPY_MODEL_86a734dc1cb34352b54c0e361134a5e2",
            "value": -0.10000000000000009
          }
        },
        "fa550767df484c1d9e081be7b7dd7ba7": {
          "model_module": "@jupyter-widgets/output",
          "model_name": "OutputModel",
          "model_module_version": "1.0.0",
          "state": {
            "_dom_classes": [],
            "_model_module": "@jupyter-widgets/output",
            "_model_module_version": "1.0.0",
            "_model_name": "OutputModel",
            "_view_count": null,
            "_view_module": "@jupyter-widgets/output",
            "_view_module_version": "1.0.0",
            "_view_name": "OutputView",
            "layout": "IPY_MODEL_b9266016959d49f8aa5c598c17530bb5",
            "msg_id": "",
            "outputs": [
              {
                "output_type": "stream",
                "name": "stdout",
                "text": [
                  "[-0.1   0.29  0.19  0.58] => [0 1 1 1]\n",
                  "Loss: 0.0\n"
                ]
              },
              {
                "output_type": "display_data",
                "data": {
                  "text/plain": "<Figure size 1000x400 with 2 Axes>",
                  "image/png": "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\n"
                },
                "metadata": {}
              }
            ]
          }
        },
        "c0f71efab5b842ee93e62628e8420dfb": {
          "model_module": "@jupyter-widgets/base",
          "model_name": "LayoutModel",
          "model_module_version": "1.2.0",
          "state": {
            "_model_module": "@jupyter-widgets/base",
            "_model_module_version": "1.2.0",
            "_model_name": "LayoutModel",
            "_view_count": null,
            "_view_module": "@jupyter-widgets/base",
            "_view_module_version": "1.2.0",
            "_view_name": "LayoutView",
            "align_content": null,
            "align_items": null,
            "align_self": null,
            "border": null,
            "bottom": null,
            "display": null,
            "flex": null,
            "flex_flow": null,
            "grid_area": null,
            "grid_auto_columns": null,
            "grid_auto_flow": null,
            "grid_auto_rows": null,
            "grid_column": null,
            "grid_gap": null,
            "grid_row": null,
            "grid_template_areas": null,
            "grid_template_columns": null,
            "grid_template_rows": null,
            "height": null,
            "justify_content": null,
            "justify_items": null,
            "left": null,
            "margin": null,
            "max_height": null,
            "max_width": null,
            "min_height": null,
            "min_width": null,
            "object_fit": null,
            "object_position": null,
            "order": null,
            "overflow": null,
            "overflow_x": null,
            "overflow_y": null,
            "padding": null,
            "right": null,
            "top": null,
            "visibility": null,
            "width": null
          }
        },
        "593c37f2f2684a95a9a33b46e9661ef7": {
          "model_module": "@jupyter-widgets/base",
          "model_name": "LayoutModel",
          "model_module_version": "1.2.0",
          "state": {
            "_model_module": "@jupyter-widgets/base",
            "_model_module_version": "1.2.0",
            "_model_name": "LayoutModel",
            "_view_count": null,
            "_view_module": "@jupyter-widgets/base",
            "_view_module_version": "1.2.0",
            "_view_name": "LayoutView",
            "align_content": null,
            "align_items": null,
            "align_self": null,
            "border": null,
            "bottom": null,
            "display": null,
            "flex": null,
            "flex_flow": null,
            "grid_area": null,
            "grid_auto_columns": null,
            "grid_auto_flow": null,
            "grid_auto_rows": null,
            "grid_column": null,
            "grid_gap": null,
            "grid_row": null,
            "grid_template_areas": null,
            "grid_template_columns": null,
            "grid_template_rows": null,
            "height": null,
            "justify_content": null,
            "justify_items": null,
            "left": null,
            "margin": null,
            "max_height": null,
            "max_width": null,
            "min_height": null,
            "min_width": null,
            "object_fit": null,
            "object_position": null,
            "order": null,
            "overflow": null,
            "overflow_x": null,
            "overflow_y": null,
            "padding": null,
            "right": null,
            "top": null,
            "visibility": null,
            "width": null
          }
        },
        "4abc537279754008b3ec656e0efada72": {
          "model_module": "@jupyter-widgets/controls",
          "model_name": "SliderStyleModel",
          "model_module_version": "1.5.0",
          "state": {
            "_model_module": "@jupyter-widgets/controls",
            "_model_module_version": "1.5.0",
            "_model_name": "SliderStyleModel",
            "_view_count": null,
            "_view_module": "@jupyter-widgets/base",
            "_view_module_version": "1.2.0",
            "_view_name": "StyleView",
            "description_width": "",
            "handle_color": null
          }
        },
        "f88cca71016e4e5a9ba67fdc161bcd08": {
          "model_module": "@jupyter-widgets/base",
          "model_name": "LayoutModel",
          "model_module_version": "1.2.0",
          "state": {
            "_model_module": "@jupyter-widgets/base",
            "_model_module_version": "1.2.0",
            "_model_name": "LayoutModel",
            "_view_count": null,
            "_view_module": "@jupyter-widgets/base",
            "_view_module_version": "1.2.0",
            "_view_name": "LayoutView",
            "align_content": null,
            "align_items": null,
            "align_self": null,
            "border": null,
            "bottom": null,
            "display": null,
            "flex": null,
            "flex_flow": null,
            "grid_area": null,
            "grid_auto_columns": null,
            "grid_auto_flow": null,
            "grid_auto_rows": null,
            "grid_column": null,
            "grid_gap": null,
            "grid_row": null,
            "grid_template_areas": null,
            "grid_template_columns": null,
            "grid_template_rows": null,
            "height": null,
            "justify_content": null,
            "justify_items": null,
            "left": null,
            "margin": null,
            "max_height": null,
            "max_width": null,
            "min_height": null,
            "min_width": null,
            "object_fit": null,
            "object_position": null,
            "order": null,
            "overflow": null,
            "overflow_x": null,
            "overflow_y": null,
            "padding": null,
            "right": null,
            "top": null,
            "visibility": null,
            "width": null
          }
        },
        "9732a422b2584d6ab9647222f0f5d9c7": {
          "model_module": "@jupyter-widgets/controls",
          "model_name": "SliderStyleModel",
          "model_module_version": "1.5.0",
          "state": {
            "_model_module": "@jupyter-widgets/controls",
            "_model_module_version": "1.5.0",
            "_model_name": "SliderStyleModel",
            "_view_count": null,
            "_view_module": "@jupyter-widgets/base",
            "_view_module_version": "1.2.0",
            "_view_name": "StyleView",
            "description_width": "",
            "handle_color": null
          }
        },
        "d7288f2f3bd346b79ec2c9c98d49f449": {
          "model_module": "@jupyter-widgets/base",
          "model_name": "LayoutModel",
          "model_module_version": "1.2.0",
          "state": {
            "_model_module": "@jupyter-widgets/base",
            "_model_module_version": "1.2.0",
            "_model_name": "LayoutModel",
            "_view_count": null,
            "_view_module": "@jupyter-widgets/base",
            "_view_module_version": "1.2.0",
            "_view_name": "LayoutView",
            "align_content": null,
            "align_items": null,
            "align_self": null,
            "border": null,
            "bottom": null,
            "display": null,
            "flex": null,
            "flex_flow": null,
            "grid_area": null,
            "grid_auto_columns": null,
            "grid_auto_flow": null,
            "grid_auto_rows": null,
            "grid_column": null,
            "grid_gap": null,
            "grid_row": null,
            "grid_template_areas": null,
            "grid_template_columns": null,
            "grid_template_rows": null,
            "height": null,
            "justify_content": null,
            "justify_items": null,
            "left": null,
            "margin": null,
            "max_height": null,
            "max_width": null,
            "min_height": null,
            "min_width": null,
            "object_fit": null,
            "object_position": null,
            "order": null,
            "overflow": null,
            "overflow_x": null,
            "overflow_y": null,
            "padding": null,
            "right": null,
            "top": null,
            "visibility": null,
            "width": null
          }
        },
        "86a734dc1cb34352b54c0e361134a5e2": {
          "model_module": "@jupyter-widgets/controls",
          "model_name": "SliderStyleModel",
          "model_module_version": "1.5.0",
          "state": {
            "_model_module": "@jupyter-widgets/controls",
            "_model_module_version": "1.5.0",
            "_model_name": "SliderStyleModel",
            "_view_count": null,
            "_view_module": "@jupyter-widgets/base",
            "_view_module_version": "1.2.0",
            "_view_name": "StyleView",
            "description_width": "",
            "handle_color": null
          }
        },
        "b9266016959d49f8aa5c598c17530bb5": {
          "model_module": "@jupyter-widgets/base",
          "model_name": "LayoutModel",
          "model_module_version": "1.2.0",
          "state": {
            "_model_module": "@jupyter-widgets/base",
            "_model_module_version": "1.2.0",
            "_model_name": "LayoutModel",
            "_view_count": null,
            "_view_module": "@jupyter-widgets/base",
            "_view_module_version": "1.2.0",
            "_view_name": "LayoutView",
            "align_content": null,
            "align_items": null,
            "align_self": null,
            "border": null,
            "bottom": null,
            "display": null,
            "flex": null,
            "flex_flow": null,
            "grid_area": null,
            "grid_auto_columns": null,
            "grid_auto_flow": null,
            "grid_auto_rows": null,
            "grid_column": null,
            "grid_gap": null,
            "grid_row": null,
            "grid_template_areas": null,
            "grid_template_columns": null,
            "grid_template_rows": null,
            "height": null,
            "justify_content": null,
            "justify_items": null,
            "left": null,
            "margin": null,
            "max_height": null,
            "max_width": null,
            "min_height": null,
            "min_width": null,
            "object_fit": null,
            "object_position": null,
            "order": null,
            "overflow": null,
            "overflow_x": null,
            "overflow_y": null,
            "padding": null,
            "right": null,
            "top": null,
            "visibility": null,
            "width": null
          }
        },
        "48516251f8884b219096dfd20e928a88": {
          "model_module": "@jupyter-widgets/controls",
          "model_name": "VBoxModel",
          "model_module_version": "1.5.0",
          "state": {
            "_dom_classes": [
              "widget-interact"
            ],
            "_model_module": "@jupyter-widgets/controls",
            "_model_module_version": "1.5.0",
            "_model_name": "VBoxModel",
            "_view_count": null,
            "_view_module": "@jupyter-widgets/controls",
            "_view_module_version": "1.5.0",
            "_view_name": "VBoxView",
            "box_style": "",
            "children": [
              "IPY_MODEL_18a3c5c503134cb4818bab60c61c71f8",
              "IPY_MODEL_108ae140c48344c7b75ad12f91a05790",
              "IPY_MODEL_2bdaf0ea58b049519b31082258d970bf",
              "IPY_MODEL_600126f54a934264b37628d0fdd6513c"
            ],
            "layout": "IPY_MODEL_46f4663e59334478a99931e12df4ef51"
          }
        },
        "18a3c5c503134cb4818bab60c61c71f8": {
          "model_module": "@jupyter-widgets/controls",
          "model_name": "FloatSliderModel",
          "model_module_version": "1.5.0",
          "state": {
            "_dom_classes": [],
            "_model_module": "@jupyter-widgets/controls",
            "_model_module_version": "1.5.0",
            "_model_name": "FloatSliderModel",
            "_view_count": null,
            "_view_module": "@jupyter-widgets/controls",
            "_view_module_version": "1.5.0",
            "_view_name": "FloatSliderView",
            "continuous_update": true,
            "description": "w1",
            "description_tooltip": null,
            "disabled": false,
            "layout": "IPY_MODEL_f7dc4dd64c284759b7202345efd619ab",
            "max": 1,
            "min": -1,
            "orientation": "horizontal",
            "readout": true,
            "readout_format": ".2f",
            "step": 0.01,
            "style": "IPY_MODEL_6ae6f65c477a422db08be1f4c7464a4d",
            "value": 0.20999999999999996
          }
        },
        "108ae140c48344c7b75ad12f91a05790": {
          "model_module": "@jupyter-widgets/controls",
          "model_name": "FloatSliderModel",
          "model_module_version": "1.5.0",
          "state": {
            "_dom_classes": [],
            "_model_module": "@jupyter-widgets/controls",
            "_model_module_version": "1.5.0",
            "_model_name": "FloatSliderModel",
            "_view_count": null,
            "_view_module": "@jupyter-widgets/controls",
            "_view_module_version": "1.5.0",
            "_view_name": "FloatSliderView",
            "continuous_update": true,
            "description": "w2",
            "description_tooltip": null,
            "disabled": false,
            "layout": "IPY_MODEL_f419148e343e471597ecf5844ca09749",
            "max": 1,
            "min": -1,
            "orientation": "horizontal",
            "readout": true,
            "readout_format": ".2f",
            "step": 0.01,
            "style": "IPY_MODEL_7592aadd45da401fb0e4a276208e37de",
            "value": 0.31000000000000005
          }
        },
        "2bdaf0ea58b049519b31082258d970bf": {
          "model_module": "@jupyter-widgets/controls",
          "model_name": "FloatSliderModel",
          "model_module_version": "1.5.0",
          "state": {
            "_dom_classes": [],
            "_model_module": "@jupyter-widgets/controls",
            "_model_module_version": "1.5.0",
            "_model_name": "FloatSliderModel",
            "_view_count": null,
            "_view_module": "@jupyter-widgets/controls",
            "_view_module_version": "1.5.0",
            "_view_name": "FloatSliderView",
            "continuous_update": true,
            "description": "b",
            "description_tooltip": null,
            "disabled": false,
            "layout": "IPY_MODEL_0f4b8bd2f2934701a6c6dc2dafb5c7c5",
            "max": 1.5,
            "min": -1.5,
            "orientation": "horizontal",
            "readout": true,
            "readout_format": ".2f",
            "step": 0.01,
            "style": "IPY_MODEL_4522112a70484758b0d6e80f6b7620d6",
            "value": -0.24
          }
        },
        "600126f54a934264b37628d0fdd6513c": {
          "model_module": "@jupyter-widgets/output",
          "model_name": "OutputModel",
          "model_module_version": "1.0.0",
          "state": {
            "_dom_classes": [],
            "_model_module": "@jupyter-widgets/output",
            "_model_module_version": "1.0.0",
            "_model_name": "OutputModel",
            "_view_count": null,
            "_view_module": "@jupyter-widgets/output",
            "_view_module_version": "1.0.0",
            "_view_name": "OutputView",
            "layout": "IPY_MODEL_703341c6448243f3a02af8cca86f7a2f",
            "msg_id": "",
            "outputs": [
              {
                "output_type": "stream",
                "name": "stdout",
                "text": [
                  "[-0.24  0.07 -0.03  0.28] => [0 1 0 1]\n",
                  "Loss: 0.5\n"
                ]
              },
              {
                "output_type": "display_data",
                "data": {
                  "text/plain": "<Figure size 1000x400 with 2 Axes>",
                  "image/png": "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\n"
                },
                "metadata": {}
              }
            ]
          }
        },
        "46f4663e59334478a99931e12df4ef51": {
          "model_module": "@jupyter-widgets/base",
          "model_name": "LayoutModel",
          "model_module_version": "1.2.0",
          "state": {
            "_model_module": "@jupyter-widgets/base",
            "_model_module_version": "1.2.0",
            "_model_name": "LayoutModel",
            "_view_count": null,
            "_view_module": "@jupyter-widgets/base",
            "_view_module_version": "1.2.0",
            "_view_name": "LayoutView",
            "align_content": null,
            "align_items": null,
            "align_self": null,
            "border": null,
            "bottom": null,
            "display": null,
            "flex": null,
            "flex_flow": null,
            "grid_area": null,
            "grid_auto_columns": null,
            "grid_auto_flow": null,
            "grid_auto_rows": null,
            "grid_column": null,
            "grid_gap": null,
            "grid_row": null,
            "grid_template_areas": null,
            "grid_template_columns": null,
            "grid_template_rows": null,
            "height": null,
            "justify_content": null,
            "justify_items": null,
            "left": null,
            "margin": null,
            "max_height": null,
            "max_width": null,
            "min_height": null,
            "min_width": null,
            "object_fit": null,
            "object_position": null,
            "order": null,
            "overflow": null,
            "overflow_x": null,
            "overflow_y": null,
            "padding": null,
            "right": null,
            "top": null,
            "visibility": null,
            "width": null
          }
        },
        "f7dc4dd64c284759b7202345efd619ab": {
          "model_module": "@jupyter-widgets/base",
          "model_name": "LayoutModel",
          "model_module_version": "1.2.0",
          "state": {
            "_model_module": "@jupyter-widgets/base",
            "_model_module_version": "1.2.0",
            "_model_name": "LayoutModel",
            "_view_count": null,
            "_view_module": "@jupyter-widgets/base",
            "_view_module_version": "1.2.0",
            "_view_name": "LayoutView",
            "align_content": null,
            "align_items": null,
            "align_self": null,
            "border": null,
            "bottom": null,
            "display": null,
            "flex": null,
            "flex_flow": null,
            "grid_area": null,
            "grid_auto_columns": null,
            "grid_auto_flow": null,
            "grid_auto_rows": null,
            "grid_column": null,
            "grid_gap": null,
            "grid_row": null,
            "grid_template_areas": null,
            "grid_template_columns": null,
            "grid_template_rows": null,
            "height": null,
            "justify_content": null,
            "justify_items": null,
            "left": null,
            "margin": null,
            "max_height": null,
            "max_width": null,
            "min_height": null,
            "min_width": null,
            "object_fit": null,
            "object_position": null,
            "order": null,
            "overflow": null,
            "overflow_x": null,
            "overflow_y": null,
            "padding": null,
            "right": null,
            "top": null,
            "visibility": null,
            "width": null
          }
        },
        "6ae6f65c477a422db08be1f4c7464a4d": {
          "model_module": "@jupyter-widgets/controls",
          "model_name": "SliderStyleModel",
          "model_module_version": "1.5.0",
          "state": {
            "_model_module": "@jupyter-widgets/controls",
            "_model_module_version": "1.5.0",
            "_model_name": "SliderStyleModel",
            "_view_count": null,
            "_view_module": "@jupyter-widgets/base",
            "_view_module_version": "1.2.0",
            "_view_name": "StyleView",
            "description_width": "",
            "handle_color": null
          }
        },
        "f419148e343e471597ecf5844ca09749": {
          "model_module": "@jupyter-widgets/base",
          "model_name": "LayoutModel",
          "model_module_version": "1.2.0",
          "state": {
            "_model_module": "@jupyter-widgets/base",
            "_model_module_version": "1.2.0",
            "_model_name": "LayoutModel",
            "_view_count": null,
            "_view_module": "@jupyter-widgets/base",
            "_view_module_version": "1.2.0",
            "_view_name": "LayoutView",
            "align_content": null,
            "align_items": null,
            "align_self": null,
            "border": null,
            "bottom": null,
            "display": null,
            "flex": null,
            "flex_flow": null,
            "grid_area": null,
            "grid_auto_columns": null,
            "grid_auto_flow": null,
            "grid_auto_rows": null,
            "grid_column": null,
            "grid_gap": null,
            "grid_row": null,
            "grid_template_areas": null,
            "grid_template_columns": null,
            "grid_template_rows": null,
            "height": null,
            "justify_content": null,
            "justify_items": null,
            "left": null,
            "margin": null,
            "max_height": null,
            "max_width": null,
            "min_height": null,
            "min_width": null,
            "object_fit": null,
            "object_position": null,
            "order": null,
            "overflow": null,
            "overflow_x": null,
            "overflow_y": null,
            "padding": null,
            "right": null,
            "top": null,
            "visibility": null,
            "width": null
          }
        },
        "7592aadd45da401fb0e4a276208e37de": {
          "model_module": "@jupyter-widgets/controls",
          "model_name": "SliderStyleModel",
          "model_module_version": "1.5.0",
          "state": {
            "_model_module": "@jupyter-widgets/controls",
            "_model_module_version": "1.5.0",
            "_model_name": "SliderStyleModel",
            "_view_count": null,
            "_view_module": "@jupyter-widgets/base",
            "_view_module_version": "1.2.0",
            "_view_name": "StyleView",
            "description_width": "",
            "handle_color": null
          }
        },
        "0f4b8bd2f2934701a6c6dc2dafb5c7c5": {
          "model_module": "@jupyter-widgets/base",
          "model_name": "LayoutModel",
          "model_module_version": "1.2.0",
          "state": {
            "_model_module": "@jupyter-widgets/base",
            "_model_module_version": "1.2.0",
            "_model_name": "LayoutModel",
            "_view_count": null,
            "_view_module": "@jupyter-widgets/base",
            "_view_module_version": "1.2.0",
            "_view_name": "LayoutView",
            "align_content": null,
            "align_items": null,
            "align_self": null,
            "border": null,
            "bottom": null,
            "display": null,
            "flex": null,
            "flex_flow": null,
            "grid_area": null,
            "grid_auto_columns": null,
            "grid_auto_flow": null,
            "grid_auto_rows": null,
            "grid_column": null,
            "grid_gap": null,
            "grid_row": null,
            "grid_template_areas": null,
            "grid_template_columns": null,
            "grid_template_rows": null,
            "height": null,
            "justify_content": null,
            "justify_items": null,
            "left": null,
            "margin": null,
            "max_height": null,
            "max_width": null,
            "min_height": null,
            "min_width": null,
            "object_fit": null,
            "object_position": null,
            "order": null,
            "overflow": null,
            "overflow_x": null,
            "overflow_y": null,
            "padding": null,
            "right": null,
            "top": null,
            "visibility": null,
            "width": null
          }
        },
        "4522112a70484758b0d6e80f6b7620d6": {
          "model_module": "@jupyter-widgets/controls",
          "model_name": "SliderStyleModel",
          "model_module_version": "1.5.0",
          "state": {
            "_model_module": "@jupyter-widgets/controls",
            "_model_module_version": "1.5.0",
            "_model_name": "SliderStyleModel",
            "_view_count": null,
            "_view_module": "@jupyter-widgets/base",
            "_view_module_version": "1.2.0",
            "_view_name": "StyleView",
            "description_width": "",
            "handle_color": null
          }
        },
        "703341c6448243f3a02af8cca86f7a2f": {
          "model_module": "@jupyter-widgets/base",
          "model_name": "LayoutModel",
          "model_module_version": "1.2.0",
          "state": {
            "_model_module": "@jupyter-widgets/base",
            "_model_module_version": "1.2.0",
            "_model_name": "LayoutModel",
            "_view_count": null,
            "_view_module": "@jupyter-widgets/base",
            "_view_module_version": "1.2.0",
            "_view_name": "LayoutView",
            "align_content": null,
            "align_items": null,
            "align_self": null,
            "border": null,
            "bottom": null,
            "display": null,
            "flex": null,
            "flex_flow": null,
            "grid_area": null,
            "grid_auto_columns": null,
            "grid_auto_flow": null,
            "grid_auto_rows": null,
            "grid_column": null,
            "grid_gap": null,
            "grid_row": null,
            "grid_template_areas": null,
            "grid_template_columns": null,
            "grid_template_rows": null,
            "height": null,
            "justify_content": null,
            "justify_items": null,
            "left": null,
            "margin": null,
            "max_height": null,
            "max_width": null,
            "min_height": null,
            "min_width": null,
            "object_fit": null,
            "object_position": null,
            "order": null,
            "overflow": null,
            "overflow_x": null,
            "overflow_y": null,
            "padding": null,
            "right": null,
            "top": null,
            "visibility": null,
            "width": null
          }
        }
      }
    },
    "colab": {
      "provenance": [],
      "include_colab_link": true
    }
  },
  "nbformat": 4,
  "nbformat_minor": 0
}